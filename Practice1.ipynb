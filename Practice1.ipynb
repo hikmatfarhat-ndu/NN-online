{
  "nbformat": 4,
  "nbformat_minor": 0,
  "metadata": {
    "colab": {
      "name": "Predicting_house_price.ipynb",
      "provenance": [],
      "collapsed_sections": [],
      "include_colab_link": true
    },
    "kernelspec": {
      "name": "python3",
      "display_name": "Python 3"
    },
    "accelerator": "GPU"
  },
  "cells": [
    {
      "cell_type": "markdown",
      "metadata": {
        "id": "view-in-github",
        "colab_type": "text"
      },
      "source": [
        "<a href=\"https://colab.research.google.com/github/hikmatfarhat-ndu/CSC645/blob/master/Practice1.ipynb\" target=\"_parent\"><img src=\"https://colab.research.google.com/assets/colab-badge.svg\" alt=\"Open In Colab\"/></a>"
      ]
    },
    {
      "cell_type": "markdown",
      "metadata": {
        "id": "MJAeZ0SaGNc1"
      },
      "source": [
        "https://colab.research.google.com/drive/13mWHpfDwJMYMqH7UjSmMlSjsBH4tXh9-"
      ]
    },
    {
      "cell_type": "code",
      "metadata": {
        "id": "Zc7tX_oEeCCv"
      },
      "source": [
        "from keras.datasets import boston_housing\n",
        "import numpy as np\n",
        "(train_data, train_targets), (test_data, test_targets) = boston_housing.load_data()"
      ],
      "execution_count": 1,
      "outputs": []
    },
    {
      "cell_type": "code",
      "metadata": {
        "id": "YIR0pTBUeqYg",
        "outputId": "50bffbef-96be-49e1-9cf6-c79d6fa84f99",
        "colab": {
          "base_uri": "https://localhost:8080/"
        }
      },
      "source": [
        "max_target = np.max(train_targets)\n",
        "print(train_data.shape)\n",
        "print(train_targets[0:10])\n",
        "print(test_targets.shape)"
      ],
      "execution_count": 2,
      "outputs": [
        {
          "output_type": "stream",
          "text": [
            "(404, 13)\n",
            "[15.2 42.3 50.  21.1 17.7 18.5 11.3 15.6 15.6 14.4]\n",
            "(102,)\n"
          ],
          "name": "stdout"
        }
      ]
    },
    {
      "cell_type": "code",
      "metadata": {
        "id": "4s5HdPlNeEao"
      },
      "source": [
        "train_data2 = train_data#/np.max(train_data,axis=0)\n",
        "test_data2 = test_data#/np.max(train_data,axis=0)\n",
        "train_targets = train_targets#/max_target\n",
        "test_targets = test_targets#/max_target"
      ],
      "execution_count": 3,
      "outputs": []
    },
    {
      "cell_type": "code",
      "metadata": {
        "id": "aaNkioaGeF9n",
        "outputId": "b3aa76d5-fab8-4d81-d104-dea78e933343",
        "colab": {
          "base_uri": "https://localhost:8080/"
        }
      },
      "source": [
        "from keras.models import Sequential\n",
        "from keras.layers import Dense,Input\n",
        "from keras.layers import Dropout\n",
        "from keras.utils import np_utils\n",
        "model = Sequential()\n",
        "model.add(Input((13,)))\n",
        "model.add(Dense(64, activation='relu'))\n",
        "model.add(Dense(32,  activation='relu'))\n",
        "model.add(Dense(1, activation='relu'))\n",
        "model.summary()"
      ],
      "execution_count": 4,
      "outputs": [
        {
          "output_type": "stream",
          "text": [
            "Model: \"sequential\"\n",
            "_________________________________________________________________\n",
            "Layer (type)                 Output Shape              Param #   \n",
            "=================================================================\n",
            "dense (Dense)                (None, 64)                896       \n",
            "_________________________________________________________________\n",
            "dense_1 (Dense)              (None, 32)                2080      \n",
            "_________________________________________________________________\n",
            "dense_2 (Dense)              (None, 1)                 33        \n",
            "=================================================================\n",
            "Total params: 3,009\n",
            "Trainable params: 3,009\n",
            "Non-trainable params: 0\n",
            "_________________________________________________________________\n"
          ],
          "name": "stdout"
        }
      ]
    },
    {
      "cell_type": "code",
      "metadata": {
        "id": "O0W5WGYieNRK"
      },
      "source": [
        "model.compile(loss='mean_absolute_error', optimizer='adam')"
      ],
      "execution_count": 5,
      "outputs": []
    },
    {
      "cell_type": "code",
      "metadata": {
        "id": "XZXT5rl7eX7M",
        "outputId": "feaed9e6-7983-4916-9265-425e043afcf0",
        "colab": {
          "base_uri": "https://localhost:8080/"
        }
      },
      "source": [
        "history = model.fit(train_data2, train_targets, validation_data=(test_data2, test_targets), epochs=100, batch_size=32, verbose=1)"
      ],
      "execution_count": 6,
      "outputs": [
        {
          "output_type": "stream",
          "text": [
            "Epoch 1/100\n",
            "13/13 [==============================] - 0s 11ms/step - loss: 13.1914 - val_loss: 9.6613\n",
            "Epoch 2/100\n",
            "13/13 [==============================] - 0s 3ms/step - loss: 8.2980 - val_loss: 9.5685\n",
            "Epoch 3/100\n",
            "13/13 [==============================] - 0s 3ms/step - loss: 6.5965 - val_loss: 6.5043\n",
            "Epoch 4/100\n",
            "13/13 [==============================] - 0s 3ms/step - loss: 5.9186 - val_loss: 6.4229\n",
            "Epoch 5/100\n",
            "13/13 [==============================] - 0s 3ms/step - loss: 5.3763 - val_loss: 6.0832\n",
            "Epoch 6/100\n",
            "13/13 [==============================] - 0s 3ms/step - loss: 5.1673 - val_loss: 5.8946\n",
            "Epoch 7/100\n",
            "13/13 [==============================] - 0s 3ms/step - loss: 5.1332 - val_loss: 6.4274\n",
            "Epoch 8/100\n",
            "13/13 [==============================] - 0s 3ms/step - loss: 5.1002 - val_loss: 5.7879\n",
            "Epoch 9/100\n",
            "13/13 [==============================] - 0s 3ms/step - loss: 4.9050 - val_loss: 5.5992\n",
            "Epoch 10/100\n",
            "13/13 [==============================] - 0s 3ms/step - loss: 5.2396 - val_loss: 5.6431\n",
            "Epoch 11/100\n",
            "13/13 [==============================] - 0s 3ms/step - loss: 4.7173 - val_loss: 5.4179\n",
            "Epoch 12/100\n",
            "13/13 [==============================] - 0s 3ms/step - loss: 4.5925 - val_loss: 5.7230\n",
            "Epoch 13/100\n",
            "13/13 [==============================] - 0s 3ms/step - loss: 4.8081 - val_loss: 5.9694\n",
            "Epoch 14/100\n",
            "13/13 [==============================] - 0s 3ms/step - loss: 5.1858 - val_loss: 5.3393\n",
            "Epoch 15/100\n",
            "13/13 [==============================] - 0s 3ms/step - loss: 5.1272 - val_loss: 5.2227\n",
            "Epoch 16/100\n",
            "13/13 [==============================] - 0s 3ms/step - loss: 4.5601 - val_loss: 6.3048\n",
            "Epoch 17/100\n",
            "13/13 [==============================] - 0s 3ms/step - loss: 4.7052 - val_loss: 5.4415\n",
            "Epoch 18/100\n",
            "13/13 [==============================] - 0s 3ms/step - loss: 4.4712 - val_loss: 5.5364\n",
            "Epoch 19/100\n",
            "13/13 [==============================] - 0s 3ms/step - loss: 4.5893 - val_loss: 5.0449\n",
            "Epoch 20/100\n",
            "13/13 [==============================] - 0s 3ms/step - loss: 4.5783 - val_loss: 6.4202\n",
            "Epoch 21/100\n",
            "13/13 [==============================] - 0s 3ms/step - loss: 4.6439 - val_loss: 5.5940\n",
            "Epoch 22/100\n",
            "13/13 [==============================] - 0s 3ms/step - loss: 4.4340 - val_loss: 4.8888\n",
            "Epoch 23/100\n",
            "13/13 [==============================] - 0s 3ms/step - loss: 4.4913 - val_loss: 4.9444\n",
            "Epoch 24/100\n",
            "13/13 [==============================] - 0s 3ms/step - loss: 4.2570 - val_loss: 5.3659\n",
            "Epoch 25/100\n",
            "13/13 [==============================] - 0s 3ms/step - loss: 4.8010 - val_loss: 4.8763\n",
            "Epoch 26/100\n",
            "13/13 [==============================] - 0s 3ms/step - loss: 5.0476 - val_loss: 5.0251\n",
            "Epoch 27/100\n",
            "13/13 [==============================] - 0s 3ms/step - loss: 4.7981 - val_loss: 6.7795\n",
            "Epoch 28/100\n",
            "13/13 [==============================] - 0s 3ms/step - loss: 5.4376 - val_loss: 4.7231\n",
            "Epoch 29/100\n",
            "13/13 [==============================] - 0s 3ms/step - loss: 4.1432 - val_loss: 5.0534\n",
            "Epoch 30/100\n",
            "13/13 [==============================] - 0s 3ms/step - loss: 4.8192 - val_loss: 5.3264\n",
            "Epoch 31/100\n",
            "13/13 [==============================] - 0s 3ms/step - loss: 4.7264 - val_loss: 4.6804\n",
            "Epoch 32/100\n",
            "13/13 [==============================] - 0s 3ms/step - loss: 4.5753 - val_loss: 5.0487\n",
            "Epoch 33/100\n",
            "13/13 [==============================] - 0s 3ms/step - loss: 4.5886 - val_loss: 4.6647\n",
            "Epoch 34/100\n",
            "13/13 [==============================] - 0s 3ms/step - loss: 4.1305 - val_loss: 4.7845\n",
            "Epoch 35/100\n",
            "13/13 [==============================] - 0s 3ms/step - loss: 4.0737 - val_loss: 4.6984\n",
            "Epoch 36/100\n",
            "13/13 [==============================] - 0s 3ms/step - loss: 4.2579 - val_loss: 4.5738\n",
            "Epoch 37/100\n",
            "13/13 [==============================] - 0s 3ms/step - loss: 4.0911 - val_loss: 4.7491\n",
            "Epoch 38/100\n",
            "13/13 [==============================] - 0s 3ms/step - loss: 4.3292 - val_loss: 4.5145\n",
            "Epoch 39/100\n",
            "13/13 [==============================] - 0s 3ms/step - loss: 4.3207 - val_loss: 4.7507\n",
            "Epoch 40/100\n",
            "13/13 [==============================] - 0s 3ms/step - loss: 3.9151 - val_loss: 4.7707\n",
            "Epoch 41/100\n",
            "13/13 [==============================] - 0s 3ms/step - loss: 3.9452 - val_loss: 4.5027\n",
            "Epoch 42/100\n",
            "13/13 [==============================] - 0s 3ms/step - loss: 3.8498 - val_loss: 4.4259\n",
            "Epoch 43/100\n",
            "13/13 [==============================] - 0s 3ms/step - loss: 3.9763 - val_loss: 4.4605\n",
            "Epoch 44/100\n",
            "13/13 [==============================] - 0s 3ms/step - loss: 3.8253 - val_loss: 4.2572\n",
            "Epoch 45/100\n",
            "13/13 [==============================] - 0s 3ms/step - loss: 4.0631 - val_loss: 4.5158\n",
            "Epoch 46/100\n",
            "13/13 [==============================] - 0s 3ms/step - loss: 4.6228 - val_loss: 5.5455\n",
            "Epoch 47/100\n",
            "13/13 [==============================] - 0s 3ms/step - loss: 5.1784 - val_loss: 4.6666\n",
            "Epoch 48/100\n",
            "13/13 [==============================] - 0s 3ms/step - loss: 4.5750 - val_loss: 5.6329\n",
            "Epoch 49/100\n",
            "13/13 [==============================] - 0s 3ms/step - loss: 4.0097 - val_loss: 4.3340\n",
            "Epoch 50/100\n",
            "13/13 [==============================] - 0s 3ms/step - loss: 3.8753 - val_loss: 4.3180\n",
            "Epoch 51/100\n",
            "13/13 [==============================] - 0s 3ms/step - loss: 4.1194 - val_loss: 4.4386\n",
            "Epoch 52/100\n",
            "13/13 [==============================] - 0s 3ms/step - loss: 3.8481 - val_loss: 4.2895\n",
            "Epoch 53/100\n",
            "13/13 [==============================] - 0s 3ms/step - loss: 3.7922 - val_loss: 4.4482\n",
            "Epoch 54/100\n",
            "13/13 [==============================] - 0s 3ms/step - loss: 3.8714 - val_loss: 4.4269\n",
            "Epoch 55/100\n",
            "13/13 [==============================] - 0s 3ms/step - loss: 4.5587 - val_loss: 4.1099\n",
            "Epoch 56/100\n",
            "13/13 [==============================] - 0s 3ms/step - loss: 3.7846 - val_loss: 4.8183\n",
            "Epoch 57/100\n",
            "13/13 [==============================] - 0s 3ms/step - loss: 4.0762 - val_loss: 4.4614\n",
            "Epoch 58/100\n",
            "13/13 [==============================] - 0s 3ms/step - loss: 3.8156 - val_loss: 4.2812\n",
            "Epoch 59/100\n",
            "13/13 [==============================] - 0s 3ms/step - loss: 4.1087 - val_loss: 4.9214\n",
            "Epoch 60/100\n",
            "13/13 [==============================] - 0s 3ms/step - loss: 4.1412 - val_loss: 4.1294\n",
            "Epoch 61/100\n",
            "13/13 [==============================] - 0s 3ms/step - loss: 4.1975 - val_loss: 5.0114\n",
            "Epoch 62/100\n",
            "13/13 [==============================] - 0s 3ms/step - loss: 4.4105 - val_loss: 4.2979\n",
            "Epoch 63/100\n",
            "13/13 [==============================] - 0s 3ms/step - loss: 4.2566 - val_loss: 4.6736\n",
            "Epoch 64/100\n",
            "13/13 [==============================] - 0s 3ms/step - loss: 4.0038 - val_loss: 4.0312\n",
            "Epoch 65/100\n",
            "13/13 [==============================] - 0s 3ms/step - loss: 3.7601 - val_loss: 3.9560\n",
            "Epoch 66/100\n",
            "13/13 [==============================] - 0s 3ms/step - loss: 3.7413 - val_loss: 5.6015\n",
            "Epoch 67/100\n",
            "13/13 [==============================] - 0s 3ms/step - loss: 4.6807 - val_loss: 5.4610\n",
            "Epoch 68/100\n",
            "13/13 [==============================] - 0s 3ms/step - loss: 4.0850 - val_loss: 5.1201\n",
            "Epoch 69/100\n",
            "13/13 [==============================] - 0s 3ms/step - loss: 4.1147 - val_loss: 4.0932\n",
            "Epoch 70/100\n",
            "13/13 [==============================] - 0s 4ms/step - loss: 3.8638 - val_loss: 4.4970\n",
            "Epoch 71/100\n",
            "13/13 [==============================] - 0s 3ms/step - loss: 3.9805 - val_loss: 4.4177\n",
            "Epoch 72/100\n",
            "13/13 [==============================] - 0s 3ms/step - loss: 3.7167 - val_loss: 4.2474\n",
            "Epoch 73/100\n",
            "13/13 [==============================] - 0s 3ms/step - loss: 3.7789 - val_loss: 4.1754\n",
            "Epoch 74/100\n",
            "13/13 [==============================] - 0s 3ms/step - loss: 3.9681 - val_loss: 4.2724\n",
            "Epoch 75/100\n",
            "13/13 [==============================] - 0s 3ms/step - loss: 4.2555 - val_loss: 4.2867\n",
            "Epoch 76/100\n",
            "13/13 [==============================] - 0s 3ms/step - loss: 3.6067 - val_loss: 4.1877\n",
            "Epoch 77/100\n",
            "13/13 [==============================] - 0s 3ms/step - loss: 3.7602 - val_loss: 4.2870\n",
            "Epoch 78/100\n",
            "13/13 [==============================] - 0s 3ms/step - loss: 3.8507 - val_loss: 4.7070\n",
            "Epoch 79/100\n",
            "13/13 [==============================] - 0s 3ms/step - loss: 3.8150 - val_loss: 4.9291\n",
            "Epoch 80/100\n",
            "13/13 [==============================] - 0s 3ms/step - loss: 3.9363 - val_loss: 3.9445\n",
            "Epoch 81/100\n",
            "13/13 [==============================] - 0s 3ms/step - loss: 3.6146 - val_loss: 4.0655\n",
            "Epoch 82/100\n",
            "13/13 [==============================] - 0s 3ms/step - loss: 3.4734 - val_loss: 4.2724\n",
            "Epoch 83/100\n",
            "13/13 [==============================] - 0s 3ms/step - loss: 3.8127 - val_loss: 3.9787\n",
            "Epoch 84/100\n",
            "13/13 [==============================] - 0s 4ms/step - loss: 3.7148 - val_loss: 3.8974\n",
            "Epoch 85/100\n",
            "13/13 [==============================] - 0s 3ms/step - loss: 3.6714 - val_loss: 5.5471\n",
            "Epoch 86/100\n",
            "13/13 [==============================] - 0s 3ms/step - loss: 3.9940 - val_loss: 4.1791\n",
            "Epoch 87/100\n",
            "13/13 [==============================] - 0s 3ms/step - loss: 3.4729 - val_loss: 3.8986\n",
            "Epoch 88/100\n",
            "13/13 [==============================] - 0s 3ms/step - loss: 3.7990 - val_loss: 3.8267\n",
            "Epoch 89/100\n",
            "13/13 [==============================] - 0s 3ms/step - loss: 3.6786 - val_loss: 4.0444\n",
            "Epoch 90/100\n",
            "13/13 [==============================] - 0s 3ms/step - loss: 3.4169 - val_loss: 4.2053\n",
            "Epoch 91/100\n",
            "13/13 [==============================] - 0s 3ms/step - loss: 3.5564 - val_loss: 3.9594\n",
            "Epoch 92/100\n",
            "13/13 [==============================] - 0s 3ms/step - loss: 3.4426 - val_loss: 3.9279\n",
            "Epoch 93/100\n",
            "13/13 [==============================] - 0s 3ms/step - loss: 3.4423 - val_loss: 4.1900\n",
            "Epoch 94/100\n",
            "13/13 [==============================] - 0s 3ms/step - loss: 3.5859 - val_loss: 3.7202\n",
            "Epoch 95/100\n",
            "13/13 [==============================] - 0s 3ms/step - loss: 3.5971 - val_loss: 3.7195\n",
            "Epoch 96/100\n",
            "13/13 [==============================] - 0s 4ms/step - loss: 3.9978 - val_loss: 4.5971\n",
            "Epoch 97/100\n",
            "13/13 [==============================] - 0s 3ms/step - loss: 3.8401 - val_loss: 3.9556\n",
            "Epoch 98/100\n",
            "13/13 [==============================] - 0s 3ms/step - loss: 3.4969 - val_loss: 3.7991\n",
            "Epoch 99/100\n",
            "13/13 [==============================] - 0s 3ms/step - loss: 3.3723 - val_loss: 4.1480\n",
            "Epoch 100/100\n",
            "13/13 [==============================] - 0s 3ms/step - loss: 3.7059 - val_loss: 3.8450\n"
          ],
          "name": "stdout"
        }
      ]
    },
    {
      "cell_type": "code",
      "metadata": {
        "id": "p2NausoueZpw",
        "outputId": "6ec1c85c-0737-4c6f-c0a9-209c1037ba6a",
        "colab": {
          "base_uri": "https://localhost:8080/"
        }
      },
      "source": [
        "np.mean(np.abs(model.predict(test_data2) - test_targets))"
      ],
      "execution_count": 7,
      "outputs": [
        {
          "output_type": "execute_result",
          "data": {
            "text/plain": [
              "9.068072525091878"
            ]
          },
          "metadata": {
            "tags": []
          },
          "execution_count": 7
        }
      ]
    },
    {
      "cell_type": "code",
      "metadata": {
        "id": "8vyV433aewp0",
        "outputId": "5bf9e647-9e34-4c5f-a1da-04375db1b365",
        "colab": {
          "base_uri": "https://localhost:8080/"
        }
      },
      "source": [
        "fromIdx=0\n",
        "toIdx=100\n",
        "np.mean(np.abs(model.predict(test_data[fromIdx:toIdx]).T-test_targets[fromIdx:toIdx])/test_targets[fromIdx:toIdx])*100\n"
      ],
      "execution_count": 8,
      "outputs": [
        {
          "output_type": "execute_result",
          "data": {
            "text/plain": [
              "16.947714967687148"
            ]
          },
          "metadata": {
            "tags": []
          },
          "execution_count": 8
        }
      ]
    },
    {
      "cell_type": "code",
      "metadata": {
        "id": "Z1Ab96uwe7ax"
      },
      "source": [
        ""
      ],
      "execution_count": 8,
      "outputs": []
    }
  ]
}