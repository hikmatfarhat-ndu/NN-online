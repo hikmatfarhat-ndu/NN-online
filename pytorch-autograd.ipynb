{
 "cells": [
  {
   "cell_type": "code",
   "execution_count": 1,
   "metadata": {},
   "outputs": [
    {
     "name": "stdout",
     "output_type": "stream",
     "text": [
      "tensor([[-2.8918,  0.4742,  0.6208,  0.3573],\n",
      "        [-0.0795,  0.4714,  2.0265,  0.6418],\n",
      "        [ 0.9364, -0.0040, -0.2763,  0.8219],\n",
      "        [ 0.4053,  0.1325, -0.0042, -0.3059]])\n",
      "tensor([[-2.3667, -0.2812, -2.5162, -1.1943],\n",
      "        [ 0.2673, -0.0846, -0.6763,  0.1132],\n",
      "        [ 0.3349, -0.0052, -0.7993, -0.3788],\n",
      "        [-0.3790, -0.4033, -0.3808,  1.2394]])\n"
     ]
    }
   ],
   "source": [
    "import torch\n",
    "torch.manual_seed(6)\n",
    "x = torch.randn(4, 4, requires_grad=True)\n",
    "y = torch.randn(4, 4, requires_grad=True)\n",
    "u = torch.randn(4, 4, requires_grad=True)\n",
    "z = x * y*u\n",
    "l = z.sum()\n",
    "l.backward()\n",
    "print(x.grad)\n",
    "print(y.grad)\n"
   ]
  },
  {
   "cell_type": "code",
   "execution_count": 2,
   "metadata": {},
   "outputs": [],
   "source": [
    "\n",
    "torch.manual_seed(6)\n",
    "x = torch.randn(4, 4, requires_grad=True)\n",
    "y = torch.randn(4, 4, requires_grad=True)\n",
    "u = torch.randn(4, 4, requires_grad=True)\n",
    "z = x * y*u\n",
    "\n",
    "l = z.sum()\n"
   ]
  },
  {
   "cell_type": "code",
   "execution_count": 3,
   "metadata": {},
   "outputs": [
    {
     "name": "stdout",
     "output_type": "stream",
     "text": [
      "['__call__', '__class__', '__delattr__', '__dir__', '__doc__', '__eq__', '__format__', '__ge__', '__getattribute__', '__gt__', '__hash__', '__init__', '__init_subclass__', '__le__', '__lt__', '__ne__', '__new__', '__reduce__', '__reduce_ex__', '__repr__', '__setattr__', '__sizeof__', '__str__', '__subclasshook__', '_register_hook_dict', '_saved_self_sym_sizes', 'metadata', 'name', 'next_functions', 'register_hook', 'register_prehook', 'requires_grad']\n",
      "False\n"
     ]
    }
   ],
   "source": [
    "import inspect\n",
    "\n",
    "dl = torch.tensor(1.)\n",
    "back_sum = l.grad_fn\n",
    "dz = back_sum(dl)\n",
    "back_mul = back_sum.next_functions[0][0]\n",
    "\n",
    "dx, dy = back_mul(dz)\n",
    "back_x = back_mul.next_functions[0][0]\n",
    "back_x(dx)\n",
    "back_y = back_mul.next_functions[1][0]\n",
    "back_y(dy)\n",
    "print(dir(back_sum))\n",
    "#print(back_sum._register_hook_dict(1))\n",
    "#print(type(back_mul))\n",
    "#print(id(back_mul))\n",
    "#print(back_x)\n",
    "#print(x.grad)\n",
    "#print(z.grad)\n",
    "print(l.equal(back_mul._saved_self))\n",
    "\n",
    "#q=[]\n",
    "#q.append(back_sum)\n",
    "#while len(q)!=0:\n",
    "#    n=q.pop(0)\n",
    "#   \n",
    "#    for next in n.next_functions:\n",
    "#        q.append(next[0])\n",
    "#        print(type(n).__name__,\"->\",type(next[0]).__name__)\n",
    "\n"
   ]
  },
  {
   "cell_type": "code",
   "execution_count": 4,
   "metadata": {},
   "outputs": [
    {
     "name": "stdout",
     "output_type": "stream",
     "text": [
      "((<UnbindBackward0 object at 0x7fe2204c43a0>, 0), (<UnbindBackward0 object at 0x7fe2204c43a0>, 1))\n"
     ]
    }
   ],
   "source": [
    "a, b = torch.randn(2, requires_grad=True).unbind()\n",
    "c = a+b\n",
    "print(c.grad_fn.next_functions)"
   ]
  },
  {
   "cell_type": "code",
   "execution_count": 5,
   "metadata": {},
   "outputs": [
    {
     "name": "stdout",
     "output_type": "stream",
     "text": [
      "True\n",
      "True\n"
     ]
    }
   ],
   "source": [
    "x = torch.randn(5, requires_grad=True)\n",
    "y = x.pow(2)\n",
    "print(x.equal(y.grad_fn._saved_self))  # True\n",
    "print(x is y.grad_fn._saved_self)  # True\n"
   ]
  },
  {
   "cell_type": "code",
   "execution_count": 6,
   "metadata": {},
   "outputs": [
    {
     "name": "stdout",
     "output_type": "stream",
     "text": [
      "tensor([0.4372], requires_grad=True)\n",
      "tensor([0.6281], requires_grad=True)\n",
      "tensor([0.8552], requires_grad=True)\n",
      "tensor([0.4044], requires_grad=True)\n"
     ]
    }
   ],
   "source": [
    "x=torch.rand(1,requires_grad=True)\n",
    "y=torch.rand(1,requires_grad=True)\n",
    "z=torch.rand(1,requires_grad=True)\n",
    "w=torch.rand(1,requires_grad=True)\n",
    "l=x*y*z*w\n",
    "print(x)\n",
    "print(y)\n",
    "print(z)\n",
    "print(w)\n",
    "dl=l.grad_fn.next_functions"
   ]
  },
  {
   "cell_type": "code",
   "execution_count": 7,
   "metadata": {},
   "outputs": [
    {
     "data": {
      "text/plain": [
       "()"
      ]
     },
     "execution_count": 7,
     "metadata": {},
     "output_type": "execute_result"
    }
   ],
   "source": [
    "dl[1][0](torch.tensor(1.))"
   ]
  },
  {
   "cell_type": "code",
   "execution_count": 8,
   "metadata": {},
   "outputs": [
    {
     "name": "stdout",
     "output_type": "stream",
     "text": [
      "None None None tensor([1.])\n"
     ]
    }
   ],
   "source": [
    "print(x.grad,y.grad,z.grad,w.grad)"
   ]
  },
  {
   "cell_type": "code",
   "execution_count": 15,
   "metadata": {},
   "outputs": [],
   "source": [
    "x=torch.rand(4,requires_grad=True)\n",
    "y=torch.rand(4,requires_grad=True)\n",
    "z=torch.matmul(x,y)\n",
    "l=z.sum()\n"
   ]
  },
  {
   "cell_type": "code",
   "execution_count": 21,
   "metadata": {},
   "outputs": [
    {
     "data": {
      "text/plain": [
       "(tensor([0.3278, 0.3761, 0.6950, 0.4399], grad_fn=<MulBackward0>),\n",
       " tensor([0.9636, 0.7714, 0.2812, 0.4724], grad_fn=<MulBackward0>))"
      ]
     },
     "execution_count": 21,
     "metadata": {},
     "output_type": "execute_result"
    }
   ],
   "source": [
    "l.grad_fn.next_functions[0][0](torch.tensor(1.))    "
   ]
  },
  {
   "cell_type": "code",
   "execution_count": 23,
   "metadata": {},
   "outputs": [
    {
     "data": {
      "text/plain": [
       "((<AccumulateGrad at 0x7fe154e2e3b0>, 0),\n",
       " (<AccumulateGrad at 0x7fe154e2f3a0>, 0))"
      ]
     },
     "execution_count": 23,
     "metadata": {},
     "output_type": "execute_result"
    }
   ],
   "source": [
    "z.grad_fn.next_functions"
   ]
  },
  {
   "cell_type": "code",
   "execution_count": 11,
   "metadata": {},
   "outputs": [],
   "source": [
    "#print(l.grad_fn._register_hook_dict())"
   ]
  },
  {
   "cell_type": "code",
   "execution_count": 49,
   "metadata": {},
   "outputs": [],
   "source": [
    "import torch\n",
    "torch.manual_seed(0)\n",
    "x=torch.rand((2,2),requires_grad=True)\n",
    "y=torch.rand((2,2),requires_grad=True)\n",
    "z=torch.matmul(x,y)\n",
    "\n",
    "z.retain_grad()\n",
    "l=torch.matmul(z,z).sum()\n"
   ]
  },
  {
   "cell_type": "code",
   "execution_count": 59,
   "metadata": {},
   "outputs": [
    {
     "name": "stdout",
     "output_type": "stream",
     "text": [
      "tensor([[0.5291, 1.0033],\n",
      "        [0.0919, 0.1745]], grad_fn=<MmBackward0>)\n",
      "tensor([[0.5291, 1.0033],\n",
      "        [0.0919, 0.1745]], grad_fn=<MmBackward0>)\n"
     ]
    }
   ],
   "source": [
    "print(l.grad_fn.next_functions[0][0]._saved_mat2)\n",
    "print(l.grad_fn.next_functions[0][0]._saved_self)"
   ]
  },
  {
   "cell_type": "code",
   "execution_count": 50,
   "metadata": {},
   "outputs": [
    {
     "data": {
      "image/svg+xml": "<?xml version=\"1.0\" encoding=\"UTF-8\" standalone=\"no\"?>\n<!DOCTYPE svg PUBLIC \"-//W3C//DTD SVG 1.1//EN\"\n \"http://www.w3.org/Graphics/SVG/1.1/DTD/svg11.dtd\">\n<!-- Generated by graphviz version 2.43.0 (0)\n -->\n<!-- Title: %3 Pages: 1 -->\n<svg width=\"567pt\" height=\"380pt\"\n viewBox=\"0.00 0.00 567.00 380.00\" xmlns=\"http://www.w3.org/2000/svg\" xmlns:xlink=\"http://www.w3.org/1999/xlink\">\n<g id=\"graph0\" class=\"graph\" transform=\"scale(1 1) rotate(0) translate(4 376)\">\n<title>%3</title>\n<polygon fill=\"white\" stroke=\"transparent\" points=\"-4,4 -4,-376 563,-376 563,4 -4,4\"/>\n<!-- 140617188760912 -->\n<g id=\"node1\" class=\"node\">\n<title>140617188760912</title>\n<polygon fill=\"#caff70\" stroke=\"black\" points=\"101.5,-31 47.5,-31 47.5,0 101.5,0 101.5,-31\"/>\n<text text-anchor=\"middle\" x=\"74.5\" y=\"-7\" font-family=\"monospace\" font-size=\"10.00\"> ()</text>\n</g>\n<!-- 140617309964752 -->\n<g id=\"node2\" class=\"node\">\n<title>140617309964752</title>\n<polygon fill=\"lightgrey\" stroke=\"black\" points=\"149,-108 0,-108 0,-67 149,-67 149,-108\"/>\n<text text-anchor=\"middle\" x=\"74.5\" y=\"-96\" font-family=\"monospace\" font-size=\"10.00\">SumBackward0</text>\n<text text-anchor=\"middle\" x=\"74.5\" y=\"-85\" font-family=\"monospace\" font-size=\"10.00\">&#45;&#45;&#45;&#45;&#45;&#45;&#45;&#45;&#45;&#45;&#45;&#45;&#45;&#45;&#45;&#45;&#45;&#45;&#45;&#45;&#45;&#45;</text>\n<text text-anchor=\"middle\" x=\"74.5\" y=\"-74\" font-family=\"monospace\" font-size=\"10.00\">self_sym_sizes: (2, 2)</text>\n</g>\n<!-- 140617309964752&#45;&gt;140617188760912 -->\n<g id=\"edge12\" class=\"edge\">\n<title>140617309964752&#45;&gt;140617188760912</title>\n<path fill=\"none\" stroke=\"black\" d=\"M74.5,-66.63C74.5,-58.76 74.5,-49.63 74.5,-41.33\"/>\n<polygon fill=\"black\" stroke=\"black\" points=\"78,-41.08 74.5,-31.08 71,-41.08 78,-41.08\"/>\n</g>\n<!-- 140617309964128 -->\n<g id=\"node3\" class=\"node\">\n<title>140617309964128</title>\n<polygon fill=\"lightgrey\" stroke=\"black\" points=\"301,-240 92,-240 92,-144 301,-144 301,-240\"/>\n<text text-anchor=\"middle\" x=\"196.5\" y=\"-228\" font-family=\"monospace\" font-size=\"10.00\">MmBackward0</text>\n<text text-anchor=\"middle\" x=\"196.5\" y=\"-217\" font-family=\"monospace\" font-size=\"10.00\">&#45;&#45;&#45;&#45;&#45;&#45;&#45;&#45;&#45;&#45;&#45;&#45;&#45;&#45;&#45;&#45;&#45;&#45;&#45;&#45;&#45;&#45;&#45;&#45;&#45;&#45;&#45;&#45;&#45;&#45;&#45;&#45;</text>\n<text text-anchor=\"middle\" x=\"196.5\" y=\"-206\" font-family=\"monospace\" font-size=\"10.00\">mat2 &#160;&#160;&#160;&#160;&#160;&#160;&#160;&#160;&#160;&#160;&#160;: [saved tensor]</text>\n<text text-anchor=\"middle\" x=\"196.5\" y=\"-195\" font-family=\"monospace\" font-size=\"10.00\">mat2_sym_sizes &#160;: &#160;&#160;&#160;&#160;&#160;&#160;&#160;&#160;(2, 2)</text>\n<text text-anchor=\"middle\" x=\"196.5\" y=\"-184\" font-family=\"monospace\" font-size=\"10.00\">mat2_sym_strides: &#160;&#160;&#160;&#160;&#160;&#160;&#160;&#160;(2, 1)</text>\n<text text-anchor=\"middle\" x=\"196.5\" y=\"-173\" font-family=\"monospace\" font-size=\"10.00\">self &#160;&#160;&#160;&#160;&#160;&#160;&#160;&#160;&#160;&#160;&#160;: [saved tensor]</text>\n<text text-anchor=\"middle\" x=\"196.5\" y=\"-162\" font-family=\"monospace\" font-size=\"10.00\">self_sym_sizes &#160;: &#160;&#160;&#160;&#160;&#160;&#160;&#160;&#160;(2, 2)</text>\n<text text-anchor=\"middle\" x=\"196.5\" y=\"-151\" font-family=\"monospace\" font-size=\"10.00\">self_sym_strides: &#160;&#160;&#160;&#160;&#160;&#160;&#160;&#160;(2, 1)</text>\n</g>\n<!-- 140617309964128&#45;&gt;140617309964752 -->\n<g id=\"edge1\" class=\"edge\">\n<title>140617309964128&#45;&gt;140617309964752</title>\n<path fill=\"none\" stroke=\"black\" d=\"M140.5,-143.95C128.52,-133.88 116.28,-123.6 105.65,-114.67\"/>\n<polygon fill=\"black\" stroke=\"black\" points=\"107.77,-111.88 97.86,-108.13 103.27,-117.24 107.77,-111.88\"/>\n</g>\n<!-- 140617188758672 -->\n<g id=\"node4\" class=\"node\">\n<title>140617188758672</title>\n<polygon fill=\"orange\" stroke=\"black\" points=\"226,-102.5 167,-102.5 167,-72.5 226,-72.5 226,-102.5\"/>\n<text text-anchor=\"middle\" x=\"196.5\" y=\"-90.5\" font-family=\"monospace\" font-size=\"10.00\">self</text>\n<text text-anchor=\"middle\" x=\"196.5\" y=\"-79.5\" font-family=\"monospace\" font-size=\"10.00\"> (2, 2)</text>\n</g>\n<!-- 140617309964128&#45;&gt;140617188758672 -->\n<g id=\"edge2\" class=\"edge\">\n<title>140617309964128&#45;&gt;140617188758672</title>\n<path fill=\"none\" stroke=\"black\" d=\"M189.77,-143.95C189.63,-129 190.25,-113.58 191.65,-102.8\"/>\n</g>\n<!-- 140617309964128&#45;&gt;140617188758672 -->\n<g id=\"edge3\" class=\"edge\">\n<title>140617309964128&#45;&gt;140617188758672</title>\n<path fill=\"none\" stroke=\"black\" d=\"M203.23,-143.95C203.37,-129 202.75,-113.58 201.35,-102.8\"/>\n</g>\n<!-- 140617309963024 -->\n<g id=\"node5\" class=\"node\">\n<title>140617309963024</title>\n<polygon fill=\"lightgrey\" stroke=\"black\" points=\"482,-372 273,-372 273,-276 482,-276 482,-372\"/>\n<text text-anchor=\"middle\" x=\"377.5\" y=\"-360\" font-family=\"monospace\" font-size=\"10.00\">MmBackward0</text>\n<text text-anchor=\"middle\" x=\"377.5\" y=\"-349\" font-family=\"monospace\" font-size=\"10.00\">&#45;&#45;&#45;&#45;&#45;&#45;&#45;&#45;&#45;&#45;&#45;&#45;&#45;&#45;&#45;&#45;&#45;&#45;&#45;&#45;&#45;&#45;&#45;&#45;&#45;&#45;&#45;&#45;&#45;&#45;&#45;&#45;</text>\n<text text-anchor=\"middle\" x=\"377.5\" y=\"-338\" font-family=\"monospace\" font-size=\"10.00\">mat2 &#160;&#160;&#160;&#160;&#160;&#160;&#160;&#160;&#160;&#160;&#160;: [saved tensor]</text>\n<text text-anchor=\"middle\" x=\"377.5\" y=\"-327\" font-family=\"monospace\" font-size=\"10.00\">mat2_sym_sizes &#160;: &#160;&#160;&#160;&#160;&#160;&#160;&#160;&#160;(2, 2)</text>\n<text text-anchor=\"middle\" x=\"377.5\" y=\"-316\" font-family=\"monospace\" font-size=\"10.00\">mat2_sym_strides: &#160;&#160;&#160;&#160;&#160;&#160;&#160;&#160;(2, 1)</text>\n<text text-anchor=\"middle\" x=\"377.5\" y=\"-305\" font-family=\"monospace\" font-size=\"10.00\">self &#160;&#160;&#160;&#160;&#160;&#160;&#160;&#160;&#160;&#160;&#160;: [saved tensor]</text>\n<text text-anchor=\"middle\" x=\"377.5\" y=\"-294\" font-family=\"monospace\" font-size=\"10.00\">self_sym_sizes &#160;: &#160;&#160;&#160;&#160;&#160;&#160;&#160;&#160;(2, 2)</text>\n<text text-anchor=\"middle\" x=\"377.5\" y=\"-283\" font-family=\"monospace\" font-size=\"10.00\">self_sym_strides: &#160;&#160;&#160;&#160;&#160;&#160;&#160;&#160;(2, 1)</text>\n</g>\n<!-- 140617309963024&#45;&gt;140617309964128 -->\n<g id=\"edge4\" class=\"edge\">\n<title>140617309963024&#45;&gt;140617309964128</title>\n<path fill=\"none\" stroke=\"black\" d=\"M305.38,-275.88C291.72,-266.26 277.48,-256.06 263.97,-246.24\"/>\n<polygon fill=\"black\" stroke=\"black\" points=\"265.8,-243.24 255.66,-240.17 261.68,-248.9 265.8,-243.24\"/>\n</g>\n<!-- 140617309963024&#45;&gt;140617309964128 -->\n<g id=\"edge11\" class=\"edge\">\n<title>140617309963024&#45;&gt;140617309964128</title>\n<path fill=\"none\" stroke=\"black\" d=\"M318.42,-275.88C305.14,-266.16 290.85,-255.87 276.88,-245.96\"/>\n<polygon fill=\"black\" stroke=\"black\" points=\"278.89,-243.09 268.7,-240.17 274.84,-248.81 278.89,-243.09\"/>\n</g>\n<!-- 140617188632000 -->\n<g id=\"node6\" class=\"node\">\n<title>140617188632000</title>\n<polygon fill=\"lightblue\" stroke=\"black\" points=\"378,-207.5 319,-207.5 319,-176.5 378,-176.5 378,-207.5\"/>\n<text text-anchor=\"middle\" x=\"348.5\" y=\"-183.5\" font-family=\"monospace\" font-size=\"10.00\"> (2, 2)</text>\n</g>\n<!-- 140617309963024&#45;&gt;140617188632000 -->\n<g id=\"edge5\" class=\"edge\">\n<title>140617309963024&#45;&gt;140617188632000</title>\n<path fill=\"none\" stroke=\"black\" d=\"M366.95,-275.7C361.57,-251.6 355.41,-223.98 351.74,-207.54\"/>\n</g>\n<!-- 140617188627200 -->\n<g id=\"node7\" class=\"node\">\n<title>140617188627200</title>\n<polygon fill=\"lightblue\" stroke=\"black\" points=\"494,-207.5 435,-207.5 435,-176.5 494,-176.5 494,-207.5\"/>\n<text text-anchor=\"middle\" x=\"464.5\" y=\"-183.5\" font-family=\"monospace\" font-size=\"10.00\"> (2, 2)</text>\n</g>\n<!-- 140617309963024&#45;&gt;140617188627200 -->\n<g id=\"edge6\" class=\"edge\">\n<title>140617309963024&#45;&gt;140617188627200</title>\n<path fill=\"none\" stroke=\"black\" d=\"M409.16,-275.7C425.29,-251.6 443.77,-223.98 454.77,-207.54\"/>\n</g>\n<!-- 140617309959408 -->\n<g id=\"node9\" class=\"node\">\n<title>140617309959408</title>\n<polygon fill=\"lightgrey\" stroke=\"black\" points=\"413,-97 312,-97 312,-78 413,-78 413,-97\"/>\n<text text-anchor=\"middle\" x=\"362.5\" y=\"-85\" font-family=\"monospace\" font-size=\"10.00\">AccumulateGrad</text>\n</g>\n<!-- 140617188632000&#45;&gt;140617309959408 -->\n<g id=\"edge10\" class=\"edge\">\n<title>140617188632000&#45;&gt;140617309959408</title>\n<path fill=\"none\" stroke=\"black\" d=\"M350.51,-176.31C353,-158.09 357.24,-127 359.96,-107.12\"/>\n<polygon fill=\"black\" stroke=\"black\" points=\"363.44,-107.52 361.32,-97.13 356.5,-106.57 363.44,-107.52\"/>\n</g>\n<!-- 140617309967776 -->\n<g id=\"node8\" class=\"node\">\n<title>140617309967776</title>\n<polygon fill=\"lightgrey\" stroke=\"black\" points=\"559,-97 458,-97 458,-78 559,-78 559,-97\"/>\n<text text-anchor=\"middle\" x=\"508.5\" y=\"-85\" font-family=\"monospace\" font-size=\"10.00\">AccumulateGrad</text>\n</g>\n<!-- 140617188627200&#45;&gt;140617309967776 -->\n<g id=\"edge8\" class=\"edge\">\n<title>140617188627200&#45;&gt;140617309967776</title>\n<path fill=\"none\" stroke=\"black\" d=\"M470.8,-176.31C478.7,-157.92 492.22,-126.42 500.75,-106.56\"/>\n<polygon fill=\"black\" stroke=\"black\" points=\"504.07,-107.7 504.79,-97.13 497.63,-104.94 504.07,-107.7\"/>\n</g>\n<!-- 140617309967776&#45;&gt;140617309963024 -->\n<g id=\"edge7\" class=\"edge\">\n<title>140617309967776&#45;&gt;140617309963024</title>\n<path fill=\"none\" stroke=\"black\" d=\"M510.77,-97.09C516.7,-121.4 530.38,-192.02 503.5,-240 497.39,-250.91 489.17,-260.64 479.86,-269.24\"/>\n<polygon fill=\"black\" stroke=\"black\" points=\"477.43,-266.71 472.16,-275.91 482.01,-272 477.43,-266.71\"/>\n</g>\n<!-- 140617309959408&#45;&gt;140617309963024 -->\n<g id=\"edge9\" class=\"edge\">\n<title>140617309959408&#45;&gt;140617309963024</title>\n<path fill=\"none\" stroke=\"black\" d=\"M367.58,-97.17C373.49,-107.78 382.88,-126.52 386.5,-144 394.79,-184.07 392.19,-230.22 387.7,-265.61\"/>\n<polygon fill=\"black\" stroke=\"black\" points=\"384.2,-265.39 386.32,-275.77 391.13,-266.33 384.2,-265.39\"/>\n</g>\n</g>\n</svg>\n",
      "text/plain": [
       "<graphviz.graphs.Digraph at 0x7fe404cf4700>"
      ]
     },
     "execution_count": 50,
     "metadata": {},
     "output_type": "execute_result"
    }
   ],
   "source": [
    "import torchviz\n",
    "torchviz.make_dot(l,show_attrs=True,show_saved=True)"
   ]
  },
  {
   "cell_type": "code",
   "execution_count": 40,
   "metadata": {},
   "outputs": [],
   "source": [
    "dz=l.grad_fn.next_functions[0][0]"
   ]
  },
  {
   "cell_type": "code",
   "execution_count": 41,
   "metadata": {},
   "outputs": [
    {
     "data": {
      "text/plain": [
       "((<MmBackward0 at 0x7fe404d13bb0>, 0), (<MmBackward0 at 0x7fe404d13bb0>, 0))"
      ]
     },
     "execution_count": 41,
     "metadata": {},
     "output_type": "execute_result"
    }
   ],
   "source": [
    "dz.next_functions"
   ]
  },
  {
   "cell_type": "code",
   "execution_count": 26,
   "metadata": {},
   "outputs": [
    {
     "name": "stdout",
     "output_type": "stream",
     "text": [
      "(tensor([[2.1534, 0.8873],\n",
      "        [2.7102, 1.4442]]),)\n",
      "tensor([[0.5291, 1.0033],\n",
      "        [0.0919, 0.1745]], grad_fn=<MmBackward0>)\n"
     ]
    }
   ],
   "source": [
    "print(torch.autograd.grad(l,z))\n",
    "print(z)"
   ]
  },
  {
   "cell_type": "code",
   "execution_count": 2,
   "metadata": {},
   "outputs": [
    {
     "name": "stdout",
     "output_type": "stream",
     "text": [
      "['__call__', '__class__', '__delattr__', '__dir__', '__doc__', '__eq__', '__format__', '__ge__', '__getattribute__', '__gt__', '__hash__', '__init__', '__init_subclass__', '__le__', '__lt__', '__ne__', '__new__', '__reduce__', '__reduce_ex__', '__repr__', '__setattr__', '__sizeof__', '__str__', '__subclasshook__', '_register_hook_dict', '_saved_self_sym_sizes', 'metadata', 'name', 'next_functions', 'register_hook', 'register_prehook', 'requires_grad']\n"
     ]
    }
   ],
   "source": [
    "print(dir(l.grad_fn))"
   ]
  },
  {
   "cell_type": "code",
   "execution_count": 33,
   "metadata": {},
   "outputs": [],
   "source": [
    "def get_fn_name(fn):\n",
    "    return str(type(fn).__name__)\n",
    "\n",
    "def preorder(grad_fn,input):\n",
    "    vals=grad_fn(input)\n",
    "    print(grad_fn)\n",
    "#    if hasattr(grad_fn,'_saved_self'):\n",
    "#        print(grad_fn)\n",
    "#        print(grad_fn._saved_self.requires_grad)\n",
    "#        print(grad_fn._saved_self)\n",
    "#    if hasattr(grad_fn,'_saved_tensor'):\n",
    "#        pass\n",
    "#        print(grad_fn)\n",
    "#        print(grad_fn._saved_tensor.requires_grad)\n",
    "#        print(grad_fn._saved_tensor)\n",
    "    if isinstance(vals,tuple):\n",
    "        for (f,idx),val in zip(grad_fn.next_functions,vals):\n",
    "            preorder(f,val)\n",
    "    else:\n",
    "        preorder(grad_fn.next_functions[0][0],vals)"
   ]
  },
  {
   "cell_type": "code",
   "execution_count": 36,
   "metadata": {},
   "outputs": [
    {
     "name": "stdout",
     "output_type": "stream",
     "text": [
      "<SumBackward0 object at 0x7fe404d11c00>\n",
      "<MmBackward0 object at 0x7fe404d13c10>\n",
      "<MmBackward0 object at 0x7fe404d13f40>\n",
      "<AccumulateGrad object at 0x7fe404d13550>\n",
      "<AccumulateGrad object at 0x7fe404d12890>\n",
      "<MmBackward0 object at 0x7fe404d13f40>\n",
      "<AccumulateGrad object at 0x7fe404d12890>\n",
      "<AccumulateGrad object at 0x7fe404d13fa0>\n"
     ]
    }
   ],
   "source": [
    "with torch.no_grad():\n",
    "    preorder(l.grad_fn,torch.tensor(1.))"
   ]
  },
  {
   "cell_type": "code",
   "execution_count": 144,
   "metadata": {},
   "outputs": [
    {
     "name": "stdout",
     "output_type": "stream",
     "text": [
      "['__call__', '__class__', '__delattr__', '__dir__', '__doc__', '__eq__', '__format__', '__ge__', '__getattribute__', '__gt__', '__hash__', '__init__', '__init_subclass__', '__le__', '__lt__', '__ne__', '__new__', '__reduce__', '__reduce_ex__', '__repr__', '__setattr__', '__sizeof__', '__str__', '__subclasshook__', '_raw_saved_self', '_raw_saved_tensor', '_register_hook_dict', '_saved_self', '_saved_tensor', 'metadata', 'name', 'next_functions', 'register_hook', 'register_prehook', 'requires_grad']\n"
     ]
    }
   ],
   "source": [
    "with torch.no_grad():\n",
    "    l_grad_fn=l.grad_fn\n",
    "    dl=l_grad_fn(torch.tensor(1.))\n",
    "    z_grad_fn=l_grad_fn.next_functions[0][0]\n",
    "    print(dir(z_grad_fn))\n",
    "#print(z_grad_fn(dl))\n",
    "    dz=z_grad_fn(dl)\n",
    "    #print(dz)\n",
    "    \n",
    "    x_grad_fn=z_grad_fn.next_functions[0][0]\n",
    "    dx=x_grad_fn(dz[0])\n",
    "    y_grad_fn=z_grad_fn.next_functions[1][0]\n",
    "    dy=y_grad_fn(dz[1])\n",
    "    "
   ]
  },
  {
   "cell_type": "code",
   "execution_count": 162,
   "metadata": {},
   "outputs": [
    {
     "name": "stdout",
     "output_type": "stream",
     "text": [
      "tensor([0.6148, 1.2682, 0.9802, 1.7929])\n",
      "tensor([0.9925, 1.5364, 0.1770, 0.2641])\n",
      "None\n",
      "tensor([0.4963, 0.7682, 0.0885, 0.1320], requires_grad=True)\n",
      "tensor([0.3074, 0.6341, 0.4901, 0.8964], requires_grad=True)\n"
     ]
    }
   ],
   "source": [
    "print(x.grad)\n",
    "print(y.grad)\n",
    "print(z.grad)\n",
    "print(x)\n",
    "print(y)"
   ]
  },
  {
   "cell_type": "code",
   "execution_count": 80,
   "metadata": {},
   "outputs": [
    {
     "data": {
      "text/plain": [
       "True"
      ]
     },
     "execution_count": 80,
     "metadata": {},
     "output_type": "execute_result"
    }
   ],
   "source": [
    "assert(id(x_grad_fn.variable)==id(x))\n",
    "\n",
    "l_grad_fn.requires_grad"
   ]
  },
  {
   "cell_type": "code",
   "execution_count": 136,
   "metadata": {},
   "outputs": [
    {
     "name": "stdout",
     "output_type": "stream",
     "text": [
      "['__call__', '__class__', '__delattr__', '__dir__', '__doc__', '__eq__', '__format__', '__ge__', '__getattribute__', '__gt__', '__hash__', '__init__', '__init_subclass__', '__le__', '__lt__', '__ne__', '__new__', '__reduce__', '__reduce_ex__', '__repr__', '__setattr__', '__sizeof__', '__str__', '__subclasshook__', '_raw_saved_self', '_raw_saved_tensor', '_register_hook_dict', '_saved_self', '_saved_tensor', 'metadata', 'name', 'next_functions', 'register_hook', 'register_prehook', 'requires_grad']\n"
     ]
    }
   ],
   "source": [
    "print(dir(z_grad_fn))"
   ]
  },
  {
   "cell_type": "code",
   "execution_count": 132,
   "metadata": {},
   "outputs": [
    {
     "name": "stdout",
     "output_type": "stream",
     "text": [
      "tensor([0.4963, 0.7682, 0.0885, 0.1320], requires_grad=True)\n",
      "tensor([0.3074, 0.6341, 0.4901, 0.8964], requires_grad=True)\n"
     ]
    },
    {
     "ename": "AttributeError",
     "evalue": "'DotBackward0' object has no attribute 'super'",
     "output_type": "error",
     "traceback": [
      "\u001b[0;31m---------------------------------------------------------------------------\u001b[0m",
      "\u001b[0;31mAttributeError\u001b[0m                            Traceback (most recent call last)",
      "Cell \u001b[0;32mIn [132], line 7\u001b[0m\n\u001b[1;32m      4\u001b[0m     \u001b[39mprint\u001b[39m(\u001b[39mgetattr\u001b[39m(z_grad_fn,\u001b[39m'\u001b[39m\u001b[39m_saved_tensor\u001b[39m\u001b[39m'\u001b[39m))\n\u001b[1;32m      5\u001b[0m \u001b[39mif\u001b[39;00m \u001b[39mhasattr\u001b[39m(z_grad_fn,\u001b[39m'\u001b[39m\u001b[39m_register_hook_dict\u001b[39m\u001b[39m'\u001b[39m):\n\u001b[1;32m      6\u001b[0m     \u001b[39m#print(getattr(z_grad_fn,'_register_hook_dict'))\u001b[39;00m\n\u001b[0;32m----> 7\u001b[0m     \u001b[39mprint\u001b[39m(z_grad_fn\u001b[39m.\u001b[39;49msuper())\n",
      "\u001b[0;31mAttributeError\u001b[0m: 'DotBackward0' object has no attribute 'super'"
     ]
    }
   ],
   "source": [
    "if hasattr(z_grad_fn,'_saved_self'):\n",
    "    print(getattr(z_grad_fn,'_saved_self'))\n",
    "if hasattr(z_grad_fn,'_saved_tensor'):\n",
    "    print(getattr(z_grad_fn,'_saved_tensor'))\n",
    "if hasattr(z_grad_fn,'_register_hook_dict'):\n",
    "    #print(getattr(z_grad_fn,'_register_hook_dict'))\n",
    "    print(z_grad_fn.super())"
   ]
  },
  {
   "cell_type": "code",
   "execution_count": 57,
   "metadata": {},
   "outputs": [
    {
     "data": {
      "text/plain": [
       "(tensor([0.3074, 0.6341, 0.4901, 0.8964], grad_fn=<MulBackward0>),\n",
       " tensor([0.4963, 0.7682, 0.0885, 0.1320], grad_fn=<MulBackward0>))"
      ]
     },
     "execution_count": 57,
     "metadata": {},
     "output_type": "execute_result"
    }
   ],
   "source": [
    "dz"
   ]
  },
  {
   "cell_type": "code",
   "execution_count": 49,
   "metadata": {},
   "outputs": [],
   "source": [
    "l.backward()"
   ]
  },
  {
   "cell_type": "code",
   "execution_count": 50,
   "metadata": {},
   "outputs": [
    {
     "name": "stdout",
     "output_type": "stream",
     "text": [
      "tensor([0.3074, 0.6341, 0.4901, 0.8964]) tensor([0.4963, 0.7682, 0.0885, 0.1320]) tensor(1.)\n"
     ]
    }
   ],
   "source": [
    "print(x.grad,y.grad,z.grad)"
   ]
  },
  {
   "cell_type": "code",
   "execution_count": 41,
   "metadata": {},
   "outputs": [],
   "source": [
    "x=torch.tensor(1.,requires_grad=True)\n",
    "y=torch.tensor(2.,requires_grad=True)\n",
    "z=x+y\n"
   ]
  },
  {
   "cell_type": "code",
   "execution_count": 30,
   "metadata": {},
   "outputs": [],
   "source": [
    "z.backward()"
   ]
  },
  {
   "cell_type": "code",
   "execution_count": 19,
   "metadata": {},
   "outputs": [],
   "source": [
    "dz=z.grad_fn(torch.tensor(1.))"
   ]
  },
  {
   "cell_type": "code",
   "execution_count": 20,
   "metadata": {},
   "outputs": [
    {
     "name": "stdout",
     "output_type": "stream",
     "text": [
      "(tensor(1.), tensor(1.))\n"
     ]
    }
   ],
   "source": [
    "print(dz)"
   ]
  },
  {
   "cell_type": "code",
   "execution_count": 42,
   "metadata": {},
   "outputs": [],
   "source": [
    "preorder(z.grad_fn,torch.tensor(1.))"
   ]
  },
  {
   "cell_type": "code",
   "execution_count": 27,
   "metadata": {},
   "outputs": [
    {
     "data": {
      "text/plain": [
       "()"
      ]
     },
     "execution_count": 27,
     "metadata": {},
     "output_type": "execute_result"
    }
   ],
   "source": [
    "z.grad_fn.next_functions[0][0](torch.tensor(1.))"
   ]
  },
  {
   "cell_type": "code",
   "execution_count": 43,
   "metadata": {},
   "outputs": [
    {
     "data": {
      "text/plain": [
       "tensor(1.)"
      ]
     },
     "execution_count": 43,
     "metadata": {},
     "output_type": "execute_result"
    }
   ],
   "source": [
    "x.grad"
   ]
  },
  {
   "cell_type": "code",
   "execution_count": null,
   "metadata": {},
   "outputs": [],
   "source": []
  }
 ],
 "metadata": {
  "kernelspec": {
   "display_name": "Python 3.10.6 64-bit",
   "language": "python",
   "name": "python3"
  },
  "language_info": {
   "codemirror_mode": {
    "name": "ipython",
    "version": 3
   },
   "file_extension": ".py",
   "mimetype": "text/x-python",
   "name": "python",
   "nbconvert_exporter": "python",
   "pygments_lexer": "ipython3",
   "version": "3.10.6"
  },
  "orig_nbformat": 4,
  "vscode": {
   "interpreter": {
    "hash": "916dbcbb3f70747c44a77c7bcd40155683ae19c65e1c03b4aa3499c5328201f1"
   }
  }
 },
 "nbformat": 4,
 "nbformat_minor": 2
}
