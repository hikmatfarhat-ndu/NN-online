{
  "nbformat": 4,
  "nbformat_minor": 0,
  "metadata": {
    "colab": {
      "name": "keras-multilayer.ipynb",
      "provenance": [],
      "collapsed_sections": [],
      "include_colab_link": true
    },
    "kernelspec": {
      "name": "python3",
      "display_name": "Python 3.6.8 64-bit",
      "metadata": {
        "interpreter": {
          "hash": "ffa8138a954375a0eba8eca80543292cc4faeae39ef0340fcb1267261a1ca77f"
        }
      }
    },
    "accelerator": "GPU"
  },
  "cells": [
    {
      "cell_type": "markdown",
      "metadata": {
        "id": "view-in-github",
        "colab_type": "text"
      },
      "source": [
        "<a href=\"https://colab.research.google.com/github/hikmatfarhat-ndu/NN-online/blob/main/6keras-multilayer.ipynb\" target=\"_parent\"><img src=\"https://colab.research.google.com/assets/colab-badge.svg\" alt=\"Open In Colab\"/></a>"
      ]
    },
    {
      "cell_type": "markdown",
      "metadata": {
        "id": "jJZCA1yWDMPU"
      },
      "source": [
        "# Multilayer Feedforward Using Keras Functional API\n",
        "\n",
        "\n",
        "In this exercise we train our keras model on the MNIST dataset again. But this time we use keras instead and specifically we use the keras functional API"
      ]
    },
    {
      "cell_type": "code",
      "metadata": {
        "id": "Wxn309X9dUHT"
      },
      "source": [
        "import numpy as np\n",
        "import matplotlib.pyplot as plt\n",
        "import tensorflow as tf\n",
        "from tensorflow.keras.models import Sequential\n",
        "from tensorflow.keras.layers import Input,Dense,Flatten,Conv2D"
      ],
      "execution_count": 1,
      "outputs": []
    },
    {
      "cell_type": "code",
      "metadata": {
        "id": "-R5raOpLdkRs"
      },
      "source": [
        "def load_dataset():\n",
        "  # tensorflow assumes the input and output are row vectors\n",
        "  # where as in our implementation we use them as column vectors\n",
        "    tr,te=tf.keras.datasets.mnist.load_data()\n",
        "    X=tr[0].astype(\"float32\")/255\n",
        "    Y=tr[1]\n",
        "    Y=Y.reshape(1,len(Y))\n",
        "    V=np.zeros((10,Y.shape[1]))\n",
        "    for j in range(Y.shape[1]):\n",
        "        V[Y[0,j],j]=1\n",
        "        \n",
        "    Y=V.astype(\"float32\")\n",
        "    test_data=te[0].astype(\"float32\")/255\n",
        "    test_labels=te[1].astype(\"float32\")\n",
        "    test_labels=test_labels.reshape(1,len(test_labels))\n",
        "    return X,Y.T,test_data,test_labels.T\n"
      ],
      "execution_count": 2,
      "outputs": []
    },
    {
      "cell_type": "markdown",
      "metadata": {
        "id": "2HSeTuaKXAY1"
      },
      "source": [
        "### Rectified Linear Unit \n",
        "In this exercise we use the ReLU activation function for the inner layers. The sigmoid, and similar, activation functions suffer from the __vanishing gradient__ problem especially for deep networks. This is due to the saturation of the sigmoid where for large values the derivative approaches zero. In multilayer networks, we saw that derivative at a given layer is multiplied by the derivative of the next (backpropagation) which makes learning harder."
      ]
    },
    {
      "cell_type": "code",
      "metadata": {
        "id": "eIbIZe46XAY1",
        "outputId": "74f238b0-2b98-45a5-a630-ff72a1deb686",
        "colab": {
          "base_uri": "https://localhost:8080/",
          "height": 283
        }
      },
      "source": [
        "def relu(x):\n",
        "  return x*(x>0)\n",
        "relu_x=np.array([i for i in range(-5,10)])\n",
        "relu_y=relu(relu_x)\n",
        "fig,ax=plt.subplots()\n",
        "ax.set_xlabel('X')\n",
        "ax.set_ylabel('Y')\n",
        "ax.set_xlim(-5,10)\n",
        "ax.set_ylim(0,10)\n",
        "ax.plot(relu_x,relu_y)\n",
        "plt.xticks(range(-5,11,1))\n",
        "plt.yticks(np.arange(0,11,1))\n",
        "plt.show()"
      ],
      "execution_count": 3,
      "outputs": [
        {
          "output_type": "display_data",
          "data": {
            "image/png": "[encoded data removed]",
            "text/plain": [
              "<Figure size 432x288 with 1 Axes>"
            ]
          },
          "metadata": {
            "tags": [],
            "needs_background": "light"
          }
        }
      ]
    },
    {
      "cell_type": "markdown",
      "metadata": {
        "id": "gvEmfFo74Gqe"
      },
      "source": [
        "## Keras Functional API\n",
        "\n",
        "Even though our model for this exercise is also __Sequential__ we will introduce the more flexible __functional__ API.\n",
        "If we use the __Sequential__ model then our model would be\n",
        "```\n",
        "model= Sequential()\n",
        "model.add(Input(shape=(784,)))\n",
        "model.add(Dense(128,activation=\"relu\"))\n",
        "model.add(Dense(64,activation=\"relu\"))\n",
        "model.add(Dense(10,activation=\"softmax\"))\n",
        "```"
      ]
    },
    {
      "cell_type": "markdown",
      "metadata": {
        "id": "_rjOERSpCEvE"
      },
      "source": [
        "### Equivalent model using the functional API"
      ]
    },
    {
      "cell_type": "code",
      "metadata": {
        "id": "I2TO1rtdfxFj"
      },
      "source": [
        "input=tf.keras.layers.Input(shape=(784,))\n",
        "first_dense=tf.keras.layers.Dense(128,activation=\"relu\")(input)\n",
        "second_dense=tf.keras.layers.Dense(64,activation=\"relu\")(first_dense)\n",
        "last_layer=tf.keras.layers.Dense(10,activation=\"softmax\")(second_dense)\n",
        "\n",
        "model=tf.keras.Model(inputs=input,outputs=last_layer)"
      ],
      "execution_count": 4,
      "outputs": []
    },
    {
      "cell_type": "markdown",
      "metadata": {
        "id": "-mRUrtBrcZS_"
      },
      "source": [
        "### Create a build model function\n",
        "\n",
        "Since we will be instantiating the model more than once it is convenient to define a function to create the model\n"
      ]
    },
    {
      "cell_type": "code",
      "metadata": {
        "id": "yCGgJigKcY8R"
      },
      "source": [
        "def get_model():\n",
        "  input=tf.keras.layers.Input(shape=(784,))\n",
        "  first_dense=tf.keras.layers.Dense(128,activation=\"relu\")(input)\n",
        "  second_dense=tf.keras.layers.Dense(64,activation=\"relu\")(first_dense)\n",
        "  last_layer=tf.keras.layers.Dense(10,activation=\"softmax\")(second_dense)\n",
        "\n",
        "  return tf.keras.Model(inputs=input,outputs=last_layer)"
      ],
      "execution_count": 4,
      "outputs": []
    },
    {
      "cell_type": "code",
      "metadata": {
        "id": "lZ-fcE1gf6Di"
      },
      "source": [
        "X,Y,test_data,test_labels = load_dataset()\n",
        "\n",
        "X=X.reshape(60000,784)\n",
        "test_data=test_data.reshape(10000,784)\n"
      ],
      "execution_count": 5,
      "outputs": []
    },
    {
      "cell_type": "markdown",
      "metadata": {
        "id": "8x2me_zYCYmf"
      },
      "source": [
        "### Using the function call instead of names\n",
        "\n",
        "__NOTE__: the labels are in one-hot encoding. If they were not then we use\n",
        "```\n",
        "SparseCategoricalCrossentropy instead of CategoricalCrossentropy\n",
        "```\n"
      ]
    },
    {
      "cell_type": "code",
      "metadata": {
        "id": "oO72TEvcgNmK"
      },
      "source": [
        "model=get_model()\n",
        "model.compile(\n",
        "    optimizer=tf.keras.optimizers.Adam(),  # Optimizer\n",
        "    # Loss function to minimize\n",
        "    #loss=tf.keras.losses.SparseCategoricalCrossentropy(),\n",
        "    loss=tf.keras.losses.CategoricalCrossentropy(),\n",
        "    # List of metrics to monitor\n",
        "    metrics=[\"accuracy\"]\n",
        ")\n"
      ],
      "execution_count": 6,
      "outputs": []
    },
    {
      "cell_type": "markdown",
      "metadata": {
        "id": "rTNNOES8ESPs"
      },
      "source": [
        "### Saving intermediate computations"
      ]
    },
    {
      "cell_type": "code",
      "metadata": {
        "id": "vnvNgHpteZEd"
      },
      "source": [
        "batch_size=64\n",
        "\n",
        "filepath=\"checkpoints/cp-{epoch}.ckpt\"\n",
        "cb=tf.keras.callbacks.ModelCheckpoint(filepath,save_weights_only=True,save_freq='epoch',verbose=0)"
      ],
      "execution_count": 7,
      "outputs": []
    },
    {
      "cell_type": "markdown",
      "metadata": {
        "id": "wnmeq1DHC1uc"
      },
      "source": [
        "### Fit model to data"
      ]
    },
    {
      "cell_type": "code",
      "metadata": {
        "id": "O3fi-5KogPCp",
        "colab": {
          "base_uri": "https://localhost:8080/"
        },
        "outputId": "ce7b5631-05c8-4167-c4d7-9c55a4e9a0d9"
      },
      "source": [
        "history = model.fit(X,Y,batch_size=batch_size,epochs=5,callbacks=[cb],verbose=1)"
      ],
      "execution_count": 8,
      "outputs": [
        {
          "output_type": "stream",
          "text": [
            "Epoch 1/5\n",
            "938/938 [==============================] - 2s 3ms/step - loss: 0.2750 - accuracy: 0.9215\n",
            "Epoch 2/5\n",
            "938/938 [==============================] - 2s 2ms/step - loss: 0.1143 - accuracy: 0.9655\n",
            "Epoch 3/5\n",
            "938/938 [==============================] - 2s 2ms/step - loss: 0.0802 - accuracy: 0.9758\n",
            "Epoch 4/5\n",
            "938/938 [==============================] - 2s 2ms/step - loss: 0.0601 - accuracy: 0.9811\n",
            "Epoch 5/5\n",
            "938/938 [==============================] - 2s 2ms/step - loss: 0.0475 - accuracy: 0.9851\n"
          ],
          "name": "stdout"
        }
      ]
    },
    {
      "cell_type": "markdown",
      "metadata": {
        "id": "xZfcqdEFGC7c"
      },
      "source": [
        "### List the content of the directory"
      ]
    },
    {
      "cell_type": "code",
      "metadata": {
        "id": "uG9Bov4tfc4p",
        "colab": {
          "base_uri": "https://localhost:8080/"
        },
        "outputId": "9e496743-b650-44d0-ac1b-a0fbe127a45c"
      },
      "source": [
        "!ls  -lR /content/checkpoints"
      ],
      "execution_count": 9,
      "outputs": [
        {
          "output_type": "stream",
          "text": [
            "/content/checkpoints:\n",
            "total 14216\n",
            "-rw-r--r-- 1 root root      75 Nov 21 06:19 checkpoint\n",
            "-rw-r--r-- 1 root root 1315485 Nov 21 06:17 cp-10.ckpt.data-00000-of-00001\n",
            "-rw-r--r-- 1 root root    1634 Nov 21 06:17 cp-10.ckpt.index\n",
            "-rw-r--r-- 1 root root 1315485 Nov 21 06:17 cp-11.ckpt.data-00000-of-00001\n",
            "-rw-r--r-- 1 root root    1634 Nov 21 06:17 cp-11.ckpt.index\n",
            "-rw-r--r-- 1 root root 1315485 Nov 21 06:19 cp-1.ckpt.data-00000-of-00001\n",
            "-rw-r--r-- 1 root root    1634 Nov 21 06:19 cp-1.ckpt.index\n",
            "-rw-r--r-- 1 root root 1315485 Nov 21 06:19 cp-2.ckpt.data-00000-of-00001\n",
            "-rw-r--r-- 1 root root    1634 Nov 21 06:19 cp-2.ckpt.index\n",
            "-rw-r--r-- 1 root root 1315485 Nov 21 06:19 cp-3.ckpt.data-00000-of-00001\n",
            "-rw-r--r-- 1 root root    1634 Nov 21 06:19 cp-3.ckpt.index\n",
            "-rw-r--r-- 1 root root 1315485 Nov 21 06:19 cp-4.ckpt.data-00000-of-00001\n",
            "-rw-r--r-- 1 root root    1634 Nov 21 06:19 cp-4.ckpt.index\n",
            "-rw-r--r-- 1 root root 1315485 Nov 21 06:19 cp-5.ckpt.data-00000-of-00001\n",
            "-rw-r--r-- 1 root root    1634 Nov 21 06:19 cp-5.ckpt.index\n",
            "-rw-r--r-- 1 root root 1315485 Nov 21 06:17 cp-6.ckpt.data-00000-of-00001\n",
            "-rw-r--r-- 1 root root    1634 Nov 21 06:17 cp-6.ckpt.index\n",
            "-rw-r--r-- 1 root root 1315485 Nov 21 06:17 cp-7.ckpt.data-00000-of-00001\n",
            "-rw-r--r-- 1 root root    1634 Nov 21 06:17 cp-7.ckpt.index\n",
            "-rw-r--r-- 1 root root 1315485 Nov 21 06:17 cp-8.ckpt.data-00000-of-00001\n",
            "-rw-r--r-- 1 root root    1634 Nov 21 06:17 cp-8.ckpt.index\n",
            "-rw-r--r-- 1 root root 1315485 Nov 21 06:17 cp-9.ckpt.data-00000-of-00001\n",
            "-rw-r--r-- 1 root root    1634 Nov 21 06:17 cp-9.ckpt.index\n"
          ],
          "name": "stdout"
        }
      ]
    },
    {
      "cell_type": "code",
      "metadata": {
        "id": "ytwEZJHjHR1b",
        "colab": {
          "base_uri": "https://localhost:8080/"
        },
        "outputId": "0fb1a611-897c-48b8-ae8f-811757a94ef7"
      },
      "source": [
        "import os\n",
        "latest = tf.train.latest_checkpoint(\"checkpoints\")\n",
        "cp=tf.train.load_checkpoint(\"checkpoints/cp-4.ckpt\")\n",
        "print(cp)\n",
        "model=get_model()\n",
        "model.compile(\n",
        "    optimizer=tf.keras.optimizers.Adam(),  # Optimizer\n",
        "    # Loss function to minimize\n",
        "    #loss=tf.keras.losses.SparseCategoricalCrossentropy(),\n",
        "    loss=tf.keras.losses.CategoricalCrossentropy(),\n",
        "    # List of metrics to monitor\n",
        "    metrics=[\"accuracy\"]\n",
        ")\n",
        "\n",
        "model.load_weights(\"checkpoints/cp-4.ckpt\")\n",
        "history = model.fit(X,Y,batch_size=batch_size,epochs=5)"
      ],
      "execution_count": 11,
      "outputs": [
        {
          "output_type": "stream",
          "text": [
            "<tensorflow.python._pywrap_checkpoint_reader.CheckpointReader object at 0x7f9640110618>\n",
            "Epoch 1/5\n",
            "938/938 [==============================] - 2s 2ms/step - loss: 0.0469 - accuracy: 0.9850\n",
            "Epoch 2/5\n",
            "938/938 [==============================] - 2s 2ms/step - loss: 0.0390 - accuracy: 0.9873\n",
            "Epoch 3/5\n",
            "938/938 [==============================] - 2s 2ms/step - loss: 0.0302 - accuracy: 0.9902\n",
            "Epoch 4/5\n",
            "938/938 [==============================] - 2s 2ms/step - loss: 0.0246 - accuracy: 0.9920\n",
            "Epoch 5/5\n",
            "938/938 [==============================] - 2s 2ms/step - loss: 0.0222 - accuracy: 0.9927\n"
          ],
          "name": "stdout"
        }
      ]
    },
    {
      "cell_type": "markdown",
      "metadata": {
        "id": "BKe136ej359z"
      },
      "source": [
        "## Evaluate on test data\n",
        "\n",
        "Note that the test_labels are **not** in one_hot encoding. We convert them to one-hot using the function\n",
        "```\n",
        "tf.one_hot\n",
        "```"
      ]
    },
    {
      "cell_type": "code",
      "metadata": {
        "id": "k9pqSbriuiXb"
      },
      "source": [
        "#@title\n",
        "test_labels_one_hot=tf.one_hot(test_labels.flatten(),depth=10)\n",
        "model.evaluate(test_data,test_labels_one_hot)"
      ],
      "execution_count": null,
      "outputs": []
    }
  ]
}