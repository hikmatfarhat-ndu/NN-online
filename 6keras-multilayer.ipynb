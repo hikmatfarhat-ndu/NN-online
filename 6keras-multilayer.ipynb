{
  "nbformat": 4,
  "nbformat_minor": 0,
  "metadata": {
    "colab": {
      "name": "keras-multilayer.ipynb",
      "provenance": [],
      "collapsed_sections": [],
      "toc_visible": true,
      "include_colab_link": true
    },
    "kernelspec": {
      "name": "python3",
      "display_name": "Python 3.6.8 64-bit",
      "metadata": {
        "interpreter": {
          "hash": "ffa8138a954375a0eba8eca80543292cc4faeae39ef0340fcb1267261a1ca77f"
        }
      }
    },
    "accelerator": "GPU"
  },
  "cells": [
    {
      "cell_type": "markdown",
      "metadata": {
        "id": "view-in-github",
        "colab_type": "text"
      },
      "source": [
        "<a href=\"https://colab.research.google.com/github/hikmatfarhat-ndu/NN-online/blob/main/6keras-multilayer.ipynb\" target=\"_parent\"><img src=\"https://colab.research.google.com/assets/colab-badge.svg\" alt=\"Open In Colab\"/></a>"
      ]
    },
    {
      "cell_type": "markdown",
      "metadata": {
        "id": "jJZCA1yWDMPU"
      },
      "source": [
        "# Multilayer Feedforward Using Keras Functional API\n",
        "\n",
        "\n",
        "In this exercise we train our keras model on the MNIST dataset again. But this time we use keras instead and specifically we use the keras functional API"
      ]
    },
    {
      "cell_type": "code",
      "metadata": {
        "id": "Wxn309X9dUHT"
      },
      "source": [
        "import numpy as np\n",
        "import matplotlib.pyplot as plt\n",
        "import tensorflow as tf\n",
        "from tensorflow.keras.models import Sequential\n",
        "from tensorflow.keras.layers import Input,Dense,Flatten,Conv2D"
      ],
      "execution_count": 1,
      "outputs": []
    },
    {
      "cell_type": "code",
      "metadata": {
        "id": "-R5raOpLdkRs"
      },
      "source": [
        "def load_dataset():\n",
        "  # tensorflow assumes the input and output are row vectors\n",
        "  # where as in our implementation we use them as column vectors\n",
        "    tr,te=tf.keras.datasets.mnist.load_data()\n",
        "    X=tr[0].astype(\"float32\")/255\n",
        "    Y=tr[1]\n",
        "    #X=X.T\n",
        "    Y=Y.reshape(1,len(Y))\n",
        "    V=np.zeros((10,Y.shape[1]))\n",
        "    for j in range(Y.shape[1]):\n",
        "        V[Y[0,j],j]=1\n",
        "        \n",
        "    Y=V.astype(\"float32\")\n",
        "    test_data=te[0].astype(\"float32\")/255\n",
        "    test_labels=te[1].astype(\"float32\")\n",
        "    test_labels=test_labels.reshape(1,len(test_labels))\n",
        "    return X,Y.T,test_data,test_labels.T\n"
      ],
      "execution_count": 2,
      "outputs": []
    },
    {
      "cell_type": "markdown",
      "metadata": {
        "id": "2HSeTuaKXAY1"
      },
      "source": [
        "### Rectified Linear Unit \n",
        "In this exercise we use the ReLU activation function for the inner layers. The sigmoid, and similar, activation functions suffer from the __vanishing gradient__ problem especially for deep networks. This is due to the saturation of the sigmoid where for large values the derivative approaches zero. In multilayer networks, we saw that derivative at a given layer is multiplied by the derivative of the next (backpropagation) which makes learning harder."
      ]
    },
    {
      "cell_type": "code",
      "metadata": {
        "id": "eIbIZe46XAY1",
        "outputId": "48a5dea8-e7f0-4d12-b595-ff36cb6469bc",
        "colab": {
          "base_uri": "https://localhost:8080/",
          "height": 265
        }
      },
      "source": [
        "def relu(x):\n",
        "    res=[]\n",
        "    for v in x:\n",
        "        if (v<=0):\n",
        "            res.append(0)\n",
        "        else:\n",
        "            res.append(v)\n",
        "    return np.array(res)\n",
        "\n",
        "relu_x=[i for i in range(-5,10)]\n",
        "relu_y=relu(relu_x)\n",
        "plt.plot(relu_x,relu_y)\n",
        "plt.show()"
      ],
      "execution_count": 3,
      "outputs": [
        {
          "output_type": "display_data",
          "data": {
            "image/png": "[encoded data removed]",
            "text/plain": [
              "<Figure size 432x288 with 1 Axes>"
            ]
          },
          "metadata": {
            "tags": [],
            "needs_background": "light"
          }
        }
      ]
    },
    {
      "cell_type": "markdown",
      "metadata": {
        "id": "gvEmfFo74Gqe"
      },
      "source": [
        "## Keras Functional API\n",
        "\n",
        "Even though our model for this exercise is also __Sequential__ we will introduce the more flexible __functional__ API.\n",
        "If we use the __Sequential__ model then our model would be\n",
        "```\n",
        "model= Sequential()\n",
        "model.add(Input(shape=(784,)))\n",
        "model.add(Dense(128,activation=\"relu\"))\n",
        "model.add(Dense(64,activation=\"relu\"))\n",
        "model.add(Dense(10,activation=\"softmax\"))\n",
        "```"
      ]
    },
    {
      "cell_type": "markdown",
      "metadata": {
        "id": "_rjOERSpCEvE"
      },
      "source": [
        "### Equivalent model using the functional API"
      ]
    },
    {
      "cell_type": "code",
      "metadata": {
        "id": "I2TO1rtdfxFj"
      },
      "source": [
        "input=tf.keras.layers.Input(shape=(784,))\n",
        "first_dense=tf.keras.layers.Dense(128,activation=\"relu\")(input)\n",
        "second_dense=tf.keras.layers.Dense(64,activation=\"relu\")(first_dense)\n",
        "last_layer=tf.keras.layers.Dense(10,activation=\"softmax\")(second_dense)\n",
        "\n",
        "model=tf.keras.Model(inputs=input,outputs=last_layer)"
      ],
      "execution_count": 4,
      "outputs": []
    },
    {
      "cell_type": "code",
      "metadata": {
        "id": "lZ-fcE1gf6Di"
      },
      "source": [
        "X,Y,test_data,test_labels = load_dataset()\n",
        "\n",
        "X=X.reshape(60000,784)\n",
        "test_data=test_data.reshape(10000,784)\n"
      ],
      "execution_count": 5,
      "outputs": []
    },
    {
      "cell_type": "markdown",
      "metadata": {
        "id": "8x2me_zYCYmf"
      },
      "source": [
        "### Using the function call instead of names\n",
        "\n",
        "__NOTE__: the labels are in one-hot encoding. If they were not then we use\n",
        "```\n",
        "SparseCategoricalCrossentropy instead of CategoricalCrossentropy\n",
        "```\n"
      ]
    },
    {
      "cell_type": "code",
      "metadata": {
        "id": "oO72TEvcgNmK"
      },
      "source": [
        "model.compile(\n",
        "    optimizer=tf.keras.optimizers.Adam(),  # Optimizer\n",
        "    # Loss function to minimize\n",
        "    #loss=tf.keras.losses.SparseCategoricalCrossentropy(),\n",
        "    loss=tf.keras.losses.CategoricalCrossentropy(),\n",
        "    # List of metrics to monitor\n",
        "    metrics=[\"accuracy\"]\n",
        ")\n"
      ],
      "execution_count": 6,
      "outputs": []
    },
    {
      "cell_type": "code",
      "metadata": {
        "id": "vnvNgHpteZEd"
      },
      "source": [
        "batch_size=64\n",
        "\n",
        "filepath=\"checkpoints/cp-{epoch:04d}.ckpt\"\n",
        "cb=tf.keras.callbacks.ModelCheckpoint(filepath,save_freq='epoch',verbose=1)"
      ],
      "execution_count": 21,
      "outputs": []
    },
    {
      "cell_type": "markdown",
      "metadata": {
        "id": "wnmeq1DHC1uc"
      },
      "source": [
        "### Fit model to data"
      ]
    },
    {
      "cell_type": "code",
      "metadata": {
        "id": "O3fi-5KogPCp",
        "colab": {
          "base_uri": "https://localhost:8080/"
        },
        "outputId": "6156e2a6-c0e0-4bd5-f159-f81e7ba5eb5d"
      },
      "source": [
        "history = model.fit(X,Y,batch_size=batch_size,epochs=4,callbacks=[cb],verbose=0)"
      ],
      "execution_count": 23,
      "outputs": [
        {
          "output_type": "stream",
          "text": [
            "\n",
            "Epoch 00001: saving model to checkpoints/cp-0001.ckpt\n",
            "INFO:tensorflow:Assets written to: checkpoints/cp-0001.ckpt/assets\n",
            "\n",
            "Epoch 00002: saving model to checkpoints/cp-0002.ckpt\n",
            "INFO:tensorflow:Assets written to: checkpoints/cp-0002.ckpt/assets\n",
            "\n",
            "Epoch 00003: saving model to checkpoints/cp-0003.ckpt\n",
            "INFO:tensorflow:Assets written to: checkpoints/cp-0003.ckpt/assets\n",
            "\n",
            "Epoch 00004: saving model to checkpoints/cp-0004.ckpt\n",
            "INFO:tensorflow:Assets written to: checkpoints/cp-0004.ckpt/assets\n"
          ],
          "name": "stdout"
        }
      ]
    },
    {
      "cell_type": "markdown",
      "metadata": {
        "id": "BKe136ej359z"
      },
      "source": [
        "## Evaluate on test data\n",
        "\n",
        "Note that the test_labels are **not** in one_hot encoding. We convert them to one-hot using the function\n",
        "```\n",
        "tf.one_hot\n",
        "```"
      ]
    },
    {
      "cell_type": "code",
      "metadata": {
        "id": "k9pqSbriuiXb",
        "colab": {
          "base_uri": "https://localhost:8080/"
        },
        "outputId": "d31c6fa8-7971-4333-9ed5-e43a9c794a51"
      },
      "source": [
        "test_labels_one_hot=tf.one_hot(test_labels.flatten(),depth=10)\n",
        "model.evaluate(test_data,test_labels_one_hot)"
      ],
      "execution_count": 9,
      "outputs": [
        {
          "output_type": "stream",
          "text": [
            "313/313 [==============================] - 1s 2ms/step - loss: 0.1316 - accuracy: 0.9609\n"
          ],
          "name": "stdout"
        },
        {
          "output_type": "execute_result",
          "data": {
            "text/plain": [
              "[0.13155443966388702, 0.9609000086784363]"
            ]
          },
          "metadata": {
            "tags": []
          },
          "execution_count": 9
        }
      ]
    },
    {
      "cell_type": "code",
      "metadata": {
        "id": "56u_Bb-Pfbjj",
        "outputId": "2514b172-c0ce-4fcf-a15a-cbf62fc22242",
        "colab": {
          "base_uri": "https://localhost:8080/"
        }
      },
      "source": [
        "!ls checkpoints"
      ],
      "execution_count": 10,
      "outputs": [
        {
          "output_type": "stream",
          "text": [
            "cp.ckpt\n"
          ],
          "name": "stdout"
        }
      ]
    },
    {
      "cell_type": "code",
      "metadata": {
        "id": "uG9Bov4tfc4p",
        "outputId": "b47d9f6c-d639-4400-e6ec-0f01fcf8797e",
        "colab": {
          "base_uri": "https://localhost:8080/"
        }
      },
      "source": [
        "!ls -R checkpoints"
      ],
      "execution_count": 24,
      "outputs": [
        {
          "output_type": "stream",
          "text": [
            "checkpoints:\n",
            "cp-0001.ckpt  cp-0002.ckpt  cp-0003.ckpt  cp-0004.ckpt\tcp.ckpt\n",
            "\n",
            "checkpoints/cp-0001.ckpt:\n",
            "assets\tsaved_model.pb\tvariables\n",
            "\n",
            "checkpoints/cp-0001.ckpt/assets:\n",
            "\n",
            "checkpoints/cp-0001.ckpt/variables:\n",
            "variables.data-00000-of-00001  variables.index\n",
            "\n",
            "checkpoints/cp-0002.ckpt:\n",
            "assets\tsaved_model.pb\tvariables\n",
            "\n",
            "checkpoints/cp-0002.ckpt/assets:\n",
            "\n",
            "checkpoints/cp-0002.ckpt/variables:\n",
            "variables.data-00000-of-00001  variables.index\n",
            "\n",
            "checkpoints/cp-0003.ckpt:\n",
            "assets\tsaved_model.pb\tvariables\n",
            "\n",
            "checkpoints/cp-0003.ckpt/assets:\n",
            "\n",
            "checkpoints/cp-0003.ckpt/variables:\n",
            "variables.data-00000-of-00001  variables.index\n",
            "\n",
            "checkpoints/cp-0004.ckpt:\n",
            "assets\tsaved_model.pb\tvariables\n",
            "\n",
            "checkpoints/cp-0004.ckpt/assets:\n",
            "\n",
            "checkpoints/cp-0004.ckpt/variables:\n",
            "variables.data-00000-of-00001  variables.index\n",
            "\n",
            "checkpoints/cp.ckpt:\n",
            "assets\tsaved_model.pb\tvariables\n",
            "\n",
            "checkpoints/cp.ckpt/assets:\n",
            "\n",
            "checkpoints/cp.ckpt/variables:\n",
            "variables.data-00000-of-00001  variables.index\n"
          ],
          "name": "stdout"
        }
      ]
    },
    {
      "cell_type": "code",
      "metadata": {
        "id": "Ty7sysFPffdc"
      },
      "source": [
        ""
      ],
      "execution_count": 11,
      "outputs": []
    }
  ]
}