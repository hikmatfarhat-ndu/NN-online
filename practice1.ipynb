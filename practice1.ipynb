{
  "nbformat": 4,
  "nbformat_minor": 0,
  "metadata": {
    "colab": {
      "name": "Predicting_house_price.ipynb",
      "provenance": [],
      "collapsed_sections": [],
      "include_colab_link": true
    },
    "kernelspec": {
      "name": "python3",
      "display_name": "Python 3"
    },
    "accelerator": "GPU"
  },
  "cells": [
    {
      "cell_type": "markdown",
      "metadata": {
        "id": "view-in-github",
        "colab_type": "text"
      },
      "source": [
        "<a href=\"https://colab.research.google.com/github/hikmatfarhat-ndu/NN-online/blob/main/practice1.ipynb\" target=\"_parent\"><img src=\"https://colab.research.google.com/assets/colab-badge.svg\" alt=\"Open In Colab\"/></a>"
      ]
    },
    {
      "cell_type": "markdown",
      "metadata": {
        "id": "19iKwJ4H76r8"
      },
      "source": [
        "# Practice 2: Boston Housing\n",
        "\n",
        "In this exercise you are to build a Keras network to predict the price of houses. The data. boston housing, comes straight from Keras. It has 404 training samples and 102 test samples. Each sample has 13 features such as per capita crime rate, average number of rooms...etc and a single target value: the __price__"
      ]
    },
    {
      "cell_type": "code",
      "metadata": {
        "id": "Zc7tX_oEeCCv"
      },
      "source": [
        "from keras.datasets import boston_housing\n",
        "import numpy as np\n",
        "from keras.models import Sequential\n",
        "from keras.layers import Dense,Input\n",
        "from keras.layers import Dropout\n",
        "from keras.utils import np_utils\n"
      ],
      "execution_count": null,
      "outputs": []
    },
    {
      "cell_type": "markdown",
      "metadata": {
        "id": "w6pGK11n8ct-"
      },
      "source": [
        "### Load and inspect the data"
      ]
    },
    {
      "cell_type": "code",
      "metadata": {
        "id": "YIR0pTBUeqYg"
      },
      "source": [
        "(train_data, train_targets), (test_data, test_targets) = boston_housing.load_data()\n",
        "max_target=np.max(train_targets)\n",
        "print(train_data.shape)\n",
        "print(test_targets.shape)\n",
        "print(\"the price of the first 10 houses\")\n",
        "print(train_targets[0:10])\n"
      ],
      "execution_count": null,
      "outputs": []
    },
    {
      "cell_type": "markdown",
      "metadata": {
        "id": "-FbaEPxX8qyh"
      },
      "source": [
        "### Keras Model\n",
        "\n",
        "Build a Sequential Keras model with an Input layer and 3 Dense layers of size 64,32 and 1. All the intermediate layers are relu except the last set it to linear since this is a regression not a classification problem"
      ]
    },
    {
      "cell_type": "code",
      "metadata": {
        "id": "3PIDzbvs_Guu"
      },
      "source": [
        "model=None"
      ],
      "execution_count": null,
      "outputs": []
    },
    {
      "cell_type": "markdown",
      "metadata": {
        "id": "5p4hsOuk_Jrh"
      },
      "source": [
        "Compile the model by setting the loss to 'mean_squared_error' and the optimizer to 'adam'"
      ]
    },
    {
      "cell_type": "code",
      "metadata": {
        "id": "O0W5WGYieNRK"
      },
      "source": [
        "None"
      ],
      "execution_count": null,
      "outputs": []
    },
    {
      "cell_type": "markdown",
      "metadata": {
        "id": "Jq5sQHbl_SHD"
      },
      "source": [
        "Fit the model using the train_data and train_targets. Use 100 epochs and a batch size of 16"
      ]
    },
    {
      "cell_type": "code",
      "metadata": {
        "id": "XZXT5rl7eX7M"
      },
      "source": [
        "None"
      ],
      "execution_count": null,
      "outputs": []
    },
    {
      "cell_type": "markdown",
      "metadata": {
        "id": "D5vxrUuc_fDM"
      },
      "source": [
        "Compute the average difference between the predicted and the real value on the test data"
      ]
    },
    {
      "cell_type": "code",
      "metadata": {
        "id": "p2NausoueZpw"
      },
      "source": [
        "np.mean(np.abs(model.predict(test_data) - test_targets))"
      ],
      "execution_count": null,
      "outputs": []
    }
  ]
}