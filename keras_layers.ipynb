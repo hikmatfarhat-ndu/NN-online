{
  "nbformat": 4,
  "nbformat_minor": 0,
  "metadata": {
    "colab": {
      "name": "keras-layers.ipynb",
      "provenance": [],
      "authorship_tag": "ABX9TyOU/uXz1Jtyg/6xKywaSENM",
      "include_colab_link": true
    },
    "kernelspec": {
      "name": "python3",
      "display_name": "Python 3"
    }
  },
  "cells": [
    {
      "cell_type": "markdown",
      "metadata": {
        "id": "view-in-github",
        "colab_type": "text"
      },
      "source": [
        "<a href=\"https://colab.research.google.com/github/hikmatfarhat-ndu/CSC645/blob/master/keras_layers.ipynb\" target=\"_parent\"><img src=\"https://colab.research.google.com/assets/colab-badge.svg\" alt=\"Open In Colab\"/></a>"
      ]
    },
    {
      "cell_type": "markdown",
      "metadata": {
        "id": "ox1CU-NtVcsS"
      },
      "source": [
        "### Copyright 2020 Hikmat Farhat"
      ]
    },
    {
      "cell_type": "markdown",
      "metadata": {
        "id": "7E4IT-MqWxP-"
      },
      "source": [
        "### Callable Objects in Python"
      ]
    },
    {
      "cell_type": "code",
      "metadata": {
        "id": "luC2TLAxVSwi"
      },
      "source": [
        "class myclass:\n",
        "  def __init__(self):\n",
        "    self.x=2\n",
        "  def __call__(self,y):\n",
        "    return self.x*y "
      ],
      "execution_count": 53,
      "outputs": []
    },
    {
      "cell_type": "code",
      "metadata": {
        "id": "XDxXD_chVsVr",
        "outputId": "5f01dc84-8c98-48dd-cea7-20017691def3",
        "colab": {
          "base_uri": "https://localhost:8080/",
          "height": 34
        }
      },
      "source": [
        "c=myclass()\n",
        "c(4)"
      ],
      "execution_count": 54,
      "outputs": [
        {
          "output_type": "execute_result",
          "data": {
            "text/plain": [
              "8"
            ]
          },
          "metadata": {
            "tags": []
          },
          "execution_count": 54
        }
      ]
    },
    {
      "cell_type": "code",
      "metadata": {
        "id": "0Y4AfDIiV3lp"
      },
      "source": [
        "import tensorflow as tf\n",
        "from tensorflow import keras"
      ],
      "execution_count": 55,
      "outputs": []
    },
    {
      "cell_type": "code",
      "metadata": {
        "id": "W_CkjAqmYH8K"
      },
      "source": [
        "class Linear(keras.layers.Layer):\n",
        "    def __init__(self,output_dim):\n",
        "        super(Linear, self).__init__()\n",
        "        self.output_dim=output_dim\n",
        "    def build(self,input_shape):\n",
        "        print(\"calling build\")\n",
        "        w_init = tf.random_normal_initializer()\n",
        "        self.w = tf.Variable(\n",
        "            initial_value=w_init(shape=(input_shape[-1], self.output_dim), dtype=\"float32\"),\n",
        "            trainable=True,\n",
        "        )\n",
        "        b_init = tf.zeros_initializer()\n",
        "        self.b = tf.Variable(\n",
        "            initial_value=b_init(shape=(self.output_dim,), dtype=\"float32\"), trainable=True\n",
        "        )\n",
        "\n",
        "    def call(self, inputs):\n",
        "        print(\"calling call\")\n",
        "        return tf.matmul(inputs, self.w)+self.b"
      ],
      "execution_count": 103,
      "outputs": []
    },
    {
      "cell_type": "code",
      "metadata": {
        "id": "pjwEKKkIYJjZ",
        "outputId": "f88282ab-8285-4133-dacb-2fc6712cb987",
        "colab": {
          "base_uri": "https://localhost:8080/",
          "height": 103
        }
      },
      "source": [
        "linear_layer = Linear(4)\n",
        "y = linear_layer(x)\n",
        "print(y)\n",
        "#print(y)"
      ],
      "execution_count": 104,
      "outputs": [
        {
          "output_type": "stream",
          "text": [
            "calling build\n",
            "calling call\n",
            "tf.Tensor(\n",
            "[[-5.1486556e-04  5.6377670e-05 -2.2215821e-04 -1.4420119e-04]\n",
            " [-5.1486556e-04  5.6377670e-05 -2.2215821e-04 -1.4420119e-04]], shape=(2, 4), dtype=float32)\n"
          ],
          "name": "stdout"
        }
      ]
    },
    {
      "cell_type": "code",
      "metadata": {
        "id": "_NNC0dzVYNTr",
        "outputId": "0eb1aca1-c376-4762-f216-b316c6523176",
        "colab": {
          "base_uri": "https://localhost:8080/",
          "height": 190
        }
      },
      "source": [
        "input=keras.Input(shape=(2,2))\n",
        "first=Linear(4)(input)\n",
        "second=Linear(4)(first)\n",
        "model=tf.keras.models.Model(input,second)\n",
        "y=tf.ones((2,2))\n",
        "print(\"running model\")\n",
        "x=model(y)\n",
        "print(x)"
      ],
      "execution_count": 105,
      "outputs": [
        {
          "output_type": "stream",
          "text": [
            "calling build\n",
            "calling call\n",
            "calling build\n",
            "calling call\n",
            "running model\n",
            "calling call\n",
            "calling call\n",
            "tf.Tensor(\n",
            "[[-0.00132059  0.00371666  0.00031399 -0.00136844]\n",
            " [-0.00132059  0.00371666  0.00031399 -0.00136844]], shape=(2, 4), dtype=float32)\n"
          ],
          "name": "stdout"
        }
      ]
    },
    {
      "cell_type": "code",
      "metadata": {
        "id": "xDc8p6TSh7RS"
      },
      "source": [
        ""
      ],
      "execution_count": null,
      "outputs": []
    }
  ]
}