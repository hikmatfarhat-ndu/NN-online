{
 "cells": [
  {
   "cell_type": "markdown",
   "metadata": {},
   "source": [
    "Assume that the model is linear:\n",
    "\n",
    "$$f(x,\\beta)=\\sum_k\\beta_k\\phi_k(x)$$\n",
    "\n",
    "Then the loss function can be written as \n",
    "$$\\begin{align*} L&=\\sum_i \\left(y_i-f(x_i)\\right)^2\\\\&=\\sum_i\\left(y_i-\\sum_k\\beta_k\\phi_k(x_i)\\right)^2\\end{align*}$$\n",
    "taking the derivative with respect to parameter $\\beta_l$ we get\n",
    "$$\\begin{align*}\\frac{\\partial L}{\\partial\\beta_l}&=\\\\\n",
    "&=2\\sum_i\\left(\\ y_i\\sum_k\\beta_k\\phi_k(z_i)\\right)\\frac{\\partial}{\\partial\\beta_l}\\left(y_i-\\sum_k\\beta_k\\phi_k(x_i)\\right)\\\\\n",
    "&=-2\\sum_i\\left(y_i -\\sum_k\\beta_k\\phi_k(x_i)\\right)\\phi_l(x_i)\\\\\n",
    "&=-2\\sum_iy_i\\phi_l(x_i)+2\\sum_i\\phi_l(x_i)\\sum_k\\beta_k\\phi_k(x_i)\n",
    "\\end{align*}$$\n",
    "\n",
    "To write the above in matrix form let $\\Phi_{ki}=\\phi_k(x_i)$ then\n",
    "$$\\begin{align*}\n",
    "\\frac{\\partial L}{\\partial \\beta_l}=-2Xy+2X(X^T\\beta)\n",
    "\n",
    "\\end{align*}$$\n",
    "setting the derivatives to zero we finally get\n",
    "$$Xy=X(X^T\\beta)$$\n",
    "and solving for $\\beta$\n",
    "$$\\beta=(XX^T)^{-1}Xy$$"
   ]
  },
  {
   "cell_type": "markdown",
   "metadata": {},
   "source": [
    "## Implementation in Python"
   ]
  },
  {
   "cell_type": "code",
   "execution_count": 1,
   "metadata": {},
   "outputs": [],
   "source": [
    "import numpy as np\n",
    "import pandas as pd\n"
   ]
  },
  {
   "cell_type": "code",
   "execution_count": 7,
   "metadata": {},
   "outputs": [],
   "source": [
    "df=pd.read_csv(\"Book1.csv\")\n",
    "x=df['x']\n",
    "y=df['y']\n",
    "X=np.vstack((np.ones(x.shape[0]),x))\n",
    "XT=X.T\n",
    "r=np.matmul(X,XT)\n",
    "rinv=np.linalg.inv(r)"
   ]
  },
  {
   "cell_type": "code",
   "execution_count": 9,
   "metadata": {},
   "outputs": [],
   "source": [
    "beta=np.matmul(rinv,np.matmul(X,y))"
   ]
  },
  {
   "cell_type": "code",
   "execution_count": null,
   "metadata": {},
   "outputs": [],
   "source": []
  }
 ],
 "metadata": {
  "kernelspec": {
   "display_name": "Python 3.10.6 64-bit",
   "language": "python",
   "name": "python3"
  },
  "language_info": {
   "codemirror_mode": {
    "name": "ipython",
    "version": 3
   },
   "file_extension": ".py",
   "mimetype": "text/x-python",
   "name": "python",
   "nbconvert_exporter": "python",
   "pygments_lexer": "ipython3",
   "version": "3.10.6"
  },
  "orig_nbformat": 4,
  "vscode": {
   "interpreter": {
    "hash": "916dbcbb3f70747c44a77c7bcd40155683ae19c65e1c03b4aa3499c5328201f1"
   }
  }
 },
 "nbformat": 4,
 "nbformat_minor": 2
}
