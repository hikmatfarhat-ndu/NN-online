{
  "nbformat": 4,
  "nbformat_minor": 0,
  "metadata": {
    "kernelspec": {
      "name": "python3",
      "display_name": "Python 3"
    },
    "colab": {
      "name": "sequence-modeling.ipynb",
      "provenance": [],
      "include_colab_link": true
    },
    "accelerator": "GPU"
  },
  "cells": [
    {
      "cell_type": "markdown",
      "metadata": {
        "id": "view-in-github",
        "colab_type": "text"
      },
      "source": [
        "<a href=\"https://colab.research.google.com/github/hikmatfarhat-ndu/CSC645/blob/master/10sequence_modeling.ipynb\" target=\"_parent\"><img src=\"https://colab.research.google.com/assets/colab-badge.svg\" alt=\"Open In Colab\"/></a>"
      ]
    },
    {
      "cell_type": "code",
      "metadata": {
        "id": "13NLGKdqH92v",
        "outputId": "1b98f85f-fdc9-4ea0-ae5c-a361d575da99",
        "colab": {
          "base_uri": "https://localhost:8080/"
        }
      },
      "source": [
        "import tensorflow as tf\n",
        "from tensorflow.keras.datasets import imdb\n",
        "from tensorflow.keras.preprocessing.sequence import pad_sequences\n",
        "from tensorflow.keras.layers import Dropout,Embedding,LSTM,Dense\n",
        "print(tf.__version__)"
      ],
      "execution_count": 1,
      "outputs": [
        {
          "output_type": "stream",
          "text": [
            "2.3.0\n"
          ],
          "name": "stdout"
        }
      ]
    },
    {
      "cell_type": "code",
      "metadata": {
        "id": "I_xBeZe-CHhf"
      },
      "source": [
        "(x_train,y_train),(x_test,y_test)=imdb.load_data()"
      ],
      "execution_count": 2,
      "outputs": []
    },
    {
      "cell_type": "code",
      "metadata": {
        "id": "H6Binkr-ETFn",
        "outputId": "c7f787f3-7809-4f23-f152-a69c77d9776f",
        "colab": {
          "base_uri": "https://localhost:8080/"
        }
      },
      "source": [
        "for i in range(5):\n",
        " print(len(x_train[i]),x_train[i][0:10])\n"
      ],
      "execution_count": 3,
      "outputs": [
        {
          "output_type": "stream",
          "text": [
            "218 [1, 14, 22, 16, 43, 530, 973, 1622, 1385, 65]\n",
            "189 [1, 194, 1153, 194, 8255, 78, 228, 5, 6, 1463]\n",
            "141 [1, 14, 47, 8, 30, 31, 7, 4, 249, 108]\n",
            "550 [1, 4, 18609, 16085, 33, 2804, 4, 2040, 432, 111]\n",
            "147 [1, 249, 1323, 7, 61, 113, 10, 10, 13, 1637]\n"
          ],
          "name": "stdout"
        }
      ]
    },
    {
      "cell_type": "markdown",
      "metadata": {
        "id": "0nH0tWhEH95A"
      },
      "source": [
        "#### START HERE Load and transform the IMDB review sentiment dataset"
      ]
    },
    {
      "cell_type": "code",
      "metadata": {
        "id": "eR-uHxhiH95B"
      },
      "source": [
        "# load and preprocess the IMDB dataset\n",
        "num_words=5000\n",
        "maxlen=300\n",
        "index_from=3\n",
        "(x_train, y_train), (x_test, y_test) = imdb.load_data(path='imdb.npz',num_words=num_words,maxlen=maxlen)\n",
        "\n"
      ],
      "execution_count": 4,
      "outputs": []
    },
    {
      "cell_type": "code",
      "metadata": {
        "id": "nH8-qLFYBqhd",
        "outputId": "865d028d-4aad-4129-df3f-0ff47d3691c8",
        "colab": {
          "base_uri": "https://localhost:8080/"
        }
      },
      "source": [
        "for i in range(4):\n",
        " print(len(x_train[i]),x_train[i][0:10])\n"
      ],
      "execution_count": 5,
      "outputs": [
        {
          "output_type": "stream",
          "text": [
            "218 [1, 14, 22, 16, 43, 530, 973, 1622, 1385, 65]\n",
            "189 [1, 194, 1153, 194, 2, 78, 228, 5, 6, 1463]\n",
            "141 [1, 14, 47, 8, 30, 31, 7, 4, 249, 108]\n",
            "147 [1, 249, 1323, 7, 61, 113, 10, 10, 13, 1637]\n"
          ],
          "name": "stdout"
        }
      ]
    },
    {
      "cell_type": "code",
      "metadata": {
        "id": "4tB9kOCvBnlk"
      },
      "source": [
        "x_train = pad_sequences(x_train,maxlen=None,padding='pre',truncating='pre',value=0)\n",
        "    \n",
        "x_test =pad_sequences(x_test,maxlen=None,padding='pre',truncating='pre',value=0)"
      ],
      "execution_count": 6,
      "outputs": []
    },
    {
      "cell_type": "code",
      "metadata": {
        "id": "aDqR0iivCjgU",
        "outputId": "eacc1200-9a0c-4d6d-e63b-9952debcac43",
        "colab": {
          "base_uri": "https://localhost:8080/"
        }
      },
      "source": [
        "print(x_train.shape)"
      ],
      "execution_count": 7,
      "outputs": [
        {
          "output_type": "stream",
          "text": [
            "(19051, 299)\n"
          ],
          "name": "stdout"
        }
      ]
    },
    {
      "cell_type": "code",
      "metadata": {
        "id": "Rwd0mwJkH95D"
      },
      "source": [
        "# Load the dataset\n",
        "\n",
        "#(x_train,y_train),(x_test,y_test)=get_and_pad_imdb_dataset(num_words=num_words,maxlen=300)"
      ],
      "execution_count": 8,
      "outputs": []
    },
    {
      "cell_type": "code",
      "metadata": {
        "id": "gPANcwE1H95H"
      },
      "source": [
        "# A function to get the dataset word index\n",
        "\n",
        "def get_imdb_word_index(num_words=5000, index_from=2):\n",
        "    imdb_word_index = imdb.get_word_index(\n",
        "                                        path='imdb_word_index.json')\n",
        "    imdb_word_index = {key: value + index_from for\n",
        "                       key, value in imdb_word_index.items() if value <= num_words-index_from}\n",
        "    return imdb_word_index"
      ],
      "execution_count": 9,
      "outputs": []
    },
    {
      "cell_type": "code",
      "metadata": {
        "id": "Qvuhek9BH95J"
      },
      "source": [
        "# Get the word index using get_imdb_word_index()\n",
        "imdb_word_index=get_imdb_word_index(num_words=num_words)\n"
      ],
      "execution_count": 10,
      "outputs": []
    },
    {
      "cell_type": "markdown",
      "metadata": {
        "id": "aav965QDH95L"
      },
      "source": [
        "#### Create a recurrent neural network model"
      ]
    },
    {
      "cell_type": "code",
      "metadata": {
        "id": "t9ltGa8pH95L"
      },
      "source": [
        "# Get the maximum index value\n",
        "\n",
        "max_index_value=max(imdb_word_index.values())\n",
        "embedding_dim=256"
      ],
      "execution_count": 11,
      "outputs": []
    },
    {
      "cell_type": "code",
      "metadata": {
        "id": "2FHM89-4H95O"
      },
      "source": [
        "model=tf.keras.Sequential()\n",
        "model.add(Embedding(input_dim=max_index_value+1,output_dim=embedding_dim,mask_zero=True))\n",
        "model.add(LSTM(units=60))\n",
        "model.add(Dense(units=1,activation='sigmoid'))    \n",
        "\n"
      ],
      "execution_count": 12,
      "outputs": []
    },
    {
      "cell_type": "markdown",
      "metadata": {
        "id": "KWPRGm6sH95R"
      },
      "source": [
        "#### Compile and fit the model"
      ]
    },
    {
      "cell_type": "code",
      "metadata": {
        "id": "zotvkXSfH95R"
      },
      "source": [
        "# Compile the model with binary cross-entropy loss\n",
        "\n",
        "model.compile(loss='binary_crossentropy',metrics=['accuracy'],optimizer='adam')"
      ],
      "execution_count": 13,
      "outputs": []
    },
    {
      "cell_type": "code",
      "metadata": {
        "id": "JgUS_2WIH95T",
        "outputId": "da5427c1-3302-4bee-81db-987123aaed1b",
        "colab": {
          "base_uri": "https://localhost:8080/"
        }
      },
      "source": [
        "# Fit the model and save its training history\n",
        "history=model.fit(x_train,y_train,epochs=3,batch_size=500,validation_data=(x_test,y_test))\n"
      ],
      "execution_count": 14,
      "outputs": [
        {
          "output_type": "stream",
          "text": [
            "Epoch 1/3\n",
            "39/39 [==============================] - 32s 831ms/step - loss: 0.5515 - accuracy: 0.7220 - val_loss: 0.3585 - val_accuracy: 0.8540\n",
            "Epoch 2/3\n",
            "39/39 [==============================] - 31s 801ms/step - loss: 0.2864 - accuracy: 0.8877 - val_loss: 0.3511 - val_accuracy: 0.8609\n",
            "Epoch 3/3\n",
            "39/39 [==============================] - 32s 812ms/step - loss: 0.2274 - accuracy: 0.9135 - val_loss: 0.2993 - val_accuracy: 0.8790\n"
          ],
          "name": "stdout"
        }
      ]
    },
    {
      "cell_type": "code",
      "metadata": {
        "id": "jpiwIFlfOo0b",
        "tags": [
          "outputPrepend"
        ],
        "outputId": "d5d7d65b-e7eb-4b86-85d1-111f12a67474",
        "colab": {
          "base_uri": "https://localhost:8080/"
        }
      },
      "source": [
        "model.evaluate(x_test,y_test,verbose=1)\n",
        "print(\"done\")"
      ],
      "execution_count": 15,
      "outputs": [
        {
          "output_type": "stream",
          "text": [
            "608/608 [==============================] - 34s 55ms/step - loss: 0.2993 - accuracy: 0.8790\n",
            "done\n"
          ],
          "name": "stdout"
        }
      ]
    },
    {
      "cell_type": "code",
      "metadata": {
        "id": "NoJGrfl3P4py",
        "outputId": "47d60849-4687-4f42-e8ab-175123adee45",
        "colab": {
          "base_uri": "https://localhost:8080/"
        }
      },
      "source": [
        "emb=model.layers[0]\n",
        "lstm=model.layers[1]\n",
        "dense=model.layers[2]\n",
        "y=emb(x_train[0:1])\n",
        "print(x_train[0:1])\n",
        "print(y)\n",
        "z=lstm(y)\n",
        "print(z)\n",
        "logit=dense(z)\n",
        "print(logit)"
      ],
      "execution_count": 21,
      "outputs": [
        {
          "output_type": "stream",
          "text": [
            "[[   0    0    0    0    0    0    0    0    0    0    0    0    0    0\n",
            "     0    0    0    0    0    0    0    0    0    0    0    0    0    0\n",
            "     0    0    0    0    0    0    0    0    0    0    0    0    0    0\n",
            "     0    0    0    0    0    0    0    0    0    0    0    0    0    0\n",
            "     0    0    0    0    0    0    0    0    0    0    0    0    0    0\n",
            "     0    0    0    0    0    0    0    0    0    0    0    1   14   22\n",
            "    16   43  530  973 1622 1385   65  458 4468   66 3941    4  173   36\n",
            "   256    5   25  100   43  838  112   50  670    2    9   35  480  284\n",
            "     5  150    4  172  112  167    2  336  385   39    4  172 4536 1111\n",
            "    17  546   38   13  447    4  192   50   16    6  147 2025   19   14\n",
            "    22    4 1920 4613  469    4   22   71   87   12   16   43  530   38\n",
            "    76   15   13 1247    4   22   17  515   17   12   16  626   18    2\n",
            "     5   62  386   12    8  316    8  106    5    4 2223    2   16  480\n",
            "    66 3785   33    4  130   12   16   38  619    5   25  124   51   36\n",
            "   135   48   25 1415   33    6   22   12  215   28   77   52    5   14\n",
            "   407   16   82    2    8    4  107  117    2   15  256    4    2    7\n",
            "  3766    5  723   36   71   43  530  476   26  400  317   46    7    4\n",
            "     2 1029   13  104   88    4  381   15  297   98   32 2071   56   26\n",
            "   141    6  194    2   18    4  226   22   21  134  476   26  480    5\n",
            "   144   30    2   18   51   36   28  224   92   25  104    4  226   65\n",
            "    16   38 1334   88   12   16  283    5   16 4472  113  103   32   15\n",
            "    16    2   19  178   32]]\n",
            "tf.Tensor(\n",
            "[[[-0.03868975  0.04195425 -0.03029068 ...  0.01590535  0.0496436\n",
            "    0.02525698]\n",
            "  [-0.03868975  0.04195425 -0.03029068 ...  0.01590535  0.0496436\n",
            "    0.02525698]\n",
            "  [-0.03868975  0.04195425 -0.03029068 ...  0.01590535  0.0496436\n",
            "    0.02525698]\n",
            "  ...\n",
            "  [-0.01592961  0.00398639  0.0384778  ... -0.04412751  0.03904767\n",
            "   -0.01117608]\n",
            "  [-0.03949455 -0.0540452  -0.01487525 ...  0.04078636  0.02420986\n",
            "   -0.01701155]\n",
            "  [-0.03325516 -0.00815951 -0.02408331 ... -0.04035429  0.00969782\n",
            "   -0.0480123 ]]], shape=(1, 299, 256), dtype=float32)\n",
            "tf.Tensor(\n",
            "[[ 0.3645379   0.15277496 -0.23723035  0.35424095  0.26723638 -0.2563127\n",
            "   0.13671856  0.24727245  0.1630521  -0.18757203 -0.17929174 -0.30841517\n",
            "  -0.06295458 -0.12124313 -0.21062821  0.15632999  0.26319557 -0.35826793\n",
            "  -0.01316723 -0.26656958  0.29856452  0.3604562  -0.3006286  -0.192428\n",
            "  -0.07882854 -0.39991403  0.03139199 -0.0701409  -0.33293346 -0.16066432\n",
            "  -0.17958504 -0.23317896 -0.25580534 -0.17091101  0.30208102 -0.21083729\n",
            "   0.00692983  0.23223959 -0.29386646  0.20991391  0.20425391 -0.16724463\n",
            "   0.2530054   0.40504548  0.02074471 -0.2260246  -0.35133842 -0.39028785\n",
            "   0.19223617  0.19850998 -0.34200636  0.05103754 -0.28024843  0.34311363\n",
            "   0.44454294  0.4251098   0.282345   -0.25271592  0.23600794 -0.09396558]], shape=(1, 60), dtype=float32)\n",
            "tf.Tensor([[0.9592367]], shape=(1, 1), dtype=float32)\n"
          ],
          "name": "stdout"
        }
      ]
    },
    {
      "cell_type": "markdown",
      "metadata": {
        "id": "kNMVsBFsH95V"
      },
      "source": [
        "#### Plot learning curves"
      ]
    },
    {
      "cell_type": "code",
      "metadata": {
        "id": "faKUwy8DH95V",
        "outputId": "0f8d7f53-505e-48ae-d2fb-f83269d7cacb",
        "colab": {
          "base_uri": "https://localhost:8080/",
          "height": 354
        }
      },
      "source": [
        "# Plot the training and validation accuracy\n",
        "\n",
        "import matplotlib.pyplot as plt\n",
        "%matplotlib inline\n",
        "plt.style.use('ggplot')\n",
        "\n",
        "history_dict = history.history\n",
        "\n",
        "acc      = history_dict['accuracy']\n",
        "val_acc  = history_dict['val_accuracy']\n",
        "loss     = history_dict['loss']\n",
        "val_loss = history_dict['val_loss']\n",
        "\n",
        "epochs = range(1, len(acc) + 1)\n",
        "\n",
        "plt.figure(figsize=(14,5))\n",
        "plt.plot(epochs, acc, marker='.', label='Training acc')\n",
        "plt.plot(epochs, val_acc, marker='.', label='Validation acc')\n",
        "plt.title('Training and validation accuracy')\n",
        "plt.xlabel('Epoch')\n",
        "plt.ylabel('Classification accuracy')\n",
        "plt.legend(loc='lower right')\n",
        "plt.ylim(0, 1);"
      ],
      "execution_count": 17,
      "outputs": [
        {
          "output_type": "display_data",
          "data": {
            "image/png": "[encoded data removed]",
            "text/plain": [
              "<Figure size 1008x360 with 1 Axes>"
            ]
          },
          "metadata": {
            "tags": []
          }
        }
      ]
    },
    {
      "cell_type": "markdown",
      "metadata": {
        "id": "blC-Bzv4H95Y"
      },
      "source": [
        "#### Make predictions with the model"
      ]
    },
    {
      "cell_type": "code",
      "metadata": {
        "id": "nT0y-viOH95Y",
        "outputId": "199654b1-6180-417c-c62a-4b68236a5494",
        "colab": {
          "base_uri": "https://localhost:8080/"
        }
      },
      "source": [
        "# View the first test data example sentence\n",
        "# (invert the word index)\n",
        "inv_imdb_word_index={val:key for key,val in imdb_word_index.items()}\n",
        "[inv_imdb_word_index[index] for index in x_test[0] if index >2]\n",
        "\n"
      ],
      "execution_count": 18,
      "outputs": [
        {
          "output_type": "execute_result",
          "data": {
            "text/plain": [
              "['james',\n",
              " 'may',\n",
              " 'that',\n",
              " 'all',\n",
              " 'of',\n",
              " 'jack',\n",
              " 'in',\n",
              " 'in',\n",
              " 'a',\n",
              " 'and',\n",
              " 'use',\n",
              " 'to',\n",
              " 'and',\n",
              " 'us',\n",
              " 'playing',\n",
              " 'wrong',\n",
              " 'and',\n",
              " 'know',\n",
              " 'br',\n",
              " 'cute',\n",
              " 'cute',\n",
              " 'cute',\n",
              " 'in',\n",
              " 'in',\n",
              " 'this',\n",
              " 'made',\n",
              " 'off',\n",
              " 'him',\n",
              " 'quality',\n",
              " 'any',\n",
              " 'he',\n",
              " 'wonderfully',\n",
              " 'that',\n",
              " 'all',\n",
              " 'not',\n",
              " 'have',\n",
              " 'be',\n",
              " 'interesting',\n",
              " 'throughout',\n",
              " 'is',\n",
              " 'off',\n",
              " 'that',\n",
              " 'shows',\n",
              " 'few',\n",
              " 'is',\n",
              " '10',\n",
              " 'has',\n",
              " 'a',\n",
              " 'have',\n",
              " \"he's\",\n",
              " 'as',\n",
              " 'down',\n",
              " 'from',\n",
              " 'at',\n",
              " 'are',\n",
              " 'mother',\n",
              " 'may',\n",
              " 'that',\n",
              " 'of',\n",
              " 'jack']"
            ]
          },
          "metadata": {
            "tags": []
          },
          "execution_count": 18
        }
      ]
    },
    {
      "cell_type": "code",
      "metadata": {
        "id": "hqhocrzVH95a",
        "outputId": "12012d2b-9db3-48c2-9a47-8b0a7a5ff5cc",
        "colab": {
          "base_uri": "https://localhost:8080/"
        }
      },
      "source": [
        "# Get the model prediction using model.predict()\n",
        "\n",
        "model.predict(x_test[None,0,:])"
      ],
      "execution_count": 19,
      "outputs": [
        {
          "output_type": "execute_result",
          "data": {
            "text/plain": [
              "array([[0.14059912]], dtype=float32)"
            ]
          },
          "metadata": {
            "tags": []
          },
          "execution_count": 19
        }
      ]
    },
    {
      "cell_type": "code",
      "metadata": {
        "id": "_5n2s8TPH95b",
        "outputId": "3a01b2e5-1fb0-4027-fbd0-3ad04d2533a3",
        "colab": {
          "base_uri": "https://localhost:8080/"
        }
      },
      "source": [
        "# Get the corresponding label\n",
        "y_test[0]\n"
      ],
      "execution_count": 20,
      "outputs": [
        {
          "output_type": "execute_result",
          "data": {
            "text/plain": [
              "0"
            ]
          },
          "metadata": {
            "tags": []
          },
          "execution_count": 20
        }
      ]
    }
  ]
}