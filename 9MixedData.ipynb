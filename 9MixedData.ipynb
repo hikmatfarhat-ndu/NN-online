{
  "nbformat": 4,
  "nbformat_minor": 0,
  "metadata": {
    "colab": {
      "name": "6zMixedData.ipynb",
      "provenance": [],
      "include_colab_link": true
    },
    "kernelspec": {
      "name": "python3",
      "display_name": "Python 3.6.8 64-bit",
      "metadata": {
        "interpreter": {
          "hash": "ffa8138a954375a0eba8eca80543292cc4faeae39ef0340fcb1267261a1ca77f"
        }
      }
    }
  },
  "cells": [
    {
      "cell_type": "markdown",
      "metadata": {
        "id": "view-in-github",
        "colab_type": "text"
      },
      "source": [
        "<a href=\"https://colab.research.google.com/github/hikmatfarhat-ndu/CSC645/blob/master/9MixedData.ipynb\" target=\"_parent\"><img src=\"https://colab.research.google.com/assets/colab-badge.svg\" alt=\"Open In Colab\"/></a>"
      ]
    },
    {
      "cell_type": "markdown",
      "metadata": {
        "id": "0WwSeBjZixYA"
      },
      "source": [
        "# Keras Functional API\n",
        "\n",
        "In this exercise we will use the functional API provided by Keras. We will use a model with multiple inputs/outputs which cannot be done with the Sequential model.\n",
        "The data is related to the prices of houses. The features are the number of bathrooms,bedrooms, size and zipcode. Also there are 4 images per house. Since this is a proof of concept exercise we will use only one of the images only."
      ]
    },
    {
      "cell_type": "code",
      "metadata": {
        "id": "xir1Ek3CGKnI"
      },
      "source": [
        "import tensorflow as tf\n",
        "import pandas as pd\n",
        "import cv2\n",
        "import numpy as np\n",
        "from tensorflow.keras.layers import Dense,Input,concatenate,Flatten\n",
        "from tensorflow.keras.models import Model\n",
        "\n",
        "\n",
        "\n"
      ],
      "execution_count": null,
      "outputs": []
    },
    {
      "cell_type": "markdown",
      "metadata": {
        "id": "EWuuyxAbixYD"
      },
      "source": [
        "### The Data\n",
        "The data can be found in the Github repository below."
      ]
    },
    {
      "cell_type": "code",
      "metadata": {
        "id": "PFGlUp4kGPfz"
      },
      "source": [
        "!git clone https://github.com/emanhamed/Houses-dataset\n"
      ],
      "execution_count": null,
      "outputs": []
    },
    {
      "cell_type": "markdown",
      "metadata": {
        "id": "WHjaCtKCixYD"
      },
      "source": [
        "### Read the non-image features"
      ]
    },
    {
      "cell_type": "code",
      "metadata": {
        "id": "48KwRMrkG2Ke"
      },
      "source": [
        "df=pd.read_csv(\"Houses-dataset/Houses Dataset/HousesInfo.txt\",header=None,delim_whitespace=True,\n",
        "               names=[\"bedrooms\",\"bathrooms\",\"size\",\"zipcode\",\"price\"])"
      ],
      "execution_count": null,
      "outputs": []
    },
    {
      "cell_type": "markdown",
      "metadata": {
        "id": "mSe0sPJ8ixYD"
      },
      "source": [
        "Display the first 10 elements of the data"
      ]
    },
    {
      "cell_type": "code",
      "metadata": {
        "id": "0bXxxKFJJ7Tr"
      },
      "source": [
        "df[0:10]"
      ],
      "execution_count": null,
      "outputs": []
    },
    {
      "cell_type": "markdown",
      "metadata": {
        "id": "lGr3NUeq2CHA"
      },
      "source": [
        "### Preprocessing the data\n",
        "First we would like to remove entries where the zipcode contains less than 20 entries.\n",
        "We use pandas to count the number of houses per zipcode"
      ]
    },
    {
      "cell_type": "code",
      "metadata": {
        "id": "J46BDxnCthyH"
      },
      "source": [
        "zipcodes=df['zipcode'].value_counts().keys().tolist()\n",
        "counts=df['zipcode'].value_counts().tolist()"
      ],
      "execution_count": null,
      "outputs": []
    },
    {
      "cell_type": "markdown",
      "metadata": {
        "id": "5rtvHQzh2GKH"
      },
      "source": [
        "remove all the entries with zipcodes containing less than 20 houses"
      ]
    },
    {
      "cell_type": "code",
      "metadata": {
        "id": "uwiRENZ5t1j-"
      },
      "source": [
        "for count,zipcode in zip(counts,zipcodes):\n",
        "  if count<20:\n",
        "    idx=df[df['zipcode']==zipcode].index\n",
        "    df.drop(idx,inplace=True)"
      ],
      "execution_count": null,
      "outputs": []
    },
    {
      "cell_type": "markdown",
      "metadata": {
        "id": "52TsNWQhixYE"
      },
      "source": [
        "Display the first 10 entries after the removal"
      ]
    },
    {
      "cell_type": "code",
      "metadata": {
        "id": "ASaS65if2Uxq"
      },
      "source": [
        "df[0:10]"
      ],
      "execution_count": null,
      "outputs": []
    },
    {
      "cell_type": "markdown",
      "metadata": {
        "id": "7IJmu634ixYE"
      },
      "source": [
        "### Importing the images\n",
        "Next we use OpenCV to read the images, resize them to 48x48"
      ]
    },
    {
      "cell_type": "code",
      "metadata": {
        "id": "GpVKwv0e2nqk"
      },
      "source": [
        "\n",
        "image_list=[]\n",
        "prefix=\"Houses-dataset/Houses Dataset/\"\n",
        "suffix=\"_frontal.jpg\"\n",
        "for idx in df.index.tolist():\n",
        "  path=prefix+str(idx)+suffix\n",
        "  img=cv2.imread(path)\n",
        "  img=cv2.resize(img,(48,48))\n",
        "  image_list.append(img)"
      ],
      "execution_count": null,
      "outputs": []
    },
    {
      "cell_type": "markdown",
      "metadata": {
        "id": "T_J9JZTPixYE"
      },
      "source": [
        "Create the image dataset"
      ]
    },
    {
      "cell_type": "code",
      "metadata": {
        "id": "ucfzCiOMegoq"
      },
      "source": [
        "\n",
        "images=np.stack(image_list)"
      ],
      "execution_count": null,
      "outputs": []
    },
    {
      "cell_type": "code",
      "metadata": {
        "id": "26jbazrd5eEc"
      },
      "source": [
        "images.shape"
      ],
      "execution_count": null,
      "outputs": []
    },
    {
      "cell_type": "markdown",
      "metadata": {
        "id": "vucjnSIBixYE"
      },
      "source": [
        "For better and faster convergence we rescale the pixel values to between 0 and 1"
      ]
    },
    {
      "cell_type": "code",
      "metadata": {
        "id": "ebuBnIQ_8PdG"
      },
      "source": [
        "images=images/255."
      ],
      "execution_count": null,
      "outputs": []
    },
    {
      "cell_type": "markdown",
      "metadata": {
        "id": "U9yRYvonixYE"
      },
      "source": [
        "### Creating the features dataset\n",
        "Again for better  and faster convergence we would like to rescale the data. For number of bathrooms, bedrooms and size we just divide by the maximal value. Since zipcodes are categorical we use one_hot encoding for zipcodes."
      ]
    },
    {
      "cell_type": "code",
      "metadata": {
        "id": "kpC2Duph6VJv"
      },
      "source": [
        "values=df.values\n",
        "prices=values[:,4]\n",
        "max_price=prices.max()\n",
        "prices=prices/max_price\n",
        "\n",
        "bedrooms=values[:,0]\n",
        "bathrooms=values[:,1]\n",
        "size=values[:,2]\n",
        "max_size=size.max()\n",
        "size=size/max_size\n",
        "zipcodes=values[:,3]\n",
        "max_zipcodes=zipcodes.max()\n",
        "zipcodes=tf.one_hot(zipcodes,max_zipcodes).numpy()"
      ],
      "execution_count": null,
      "outputs": []
    },
    {
      "cell_type": "code",
      "metadata": {
        "id": "kZPGNEt57haH"
      },
      "source": [
        "nsamples=bedrooms.shape[0]\n",
        "bathrooms=bathrooms.reshape(nsamples,1)\n",
        "bedrooms=bedrooms.reshape(nsamples,1)\n",
        "size=size.reshape(nsamples,1)\n",
        "features=np.hstack([bedrooms,bathrooms,size,zipcodes])\n",
        "features.shape"
      ],
      "execution_count": null,
      "outputs": []
    },
    {
      "cell_type": "markdown",
      "metadata": {
        "id": "H-LzzhrTixYF"
      },
      "source": [
        "Split the data between train and test sets"
      ]
    },
    {
      "cell_type": "code",
      "metadata": {
        "id": "jigkzS507vPv"
      },
      "source": [
        "train_images=images[0:300]\n",
        "test_images=images[300:nsamples]\n",
        "train_features=features[0:300]\n",
        "test_features=features[300:nsamples]\n",
        "train_prices=prices[0:300]\n",
        "test_prices=prices[300:nsamples]\n"
      ],
      "execution_count": null,
      "outputs": []
    },
    {
      "cell_type": "markdown",
      "metadata": {
        "id": "W77D4CP9ixYF"
      },
      "source": [
        "### Create a Model for features"
      ]
    },
    {
      "cell_type": "code",
      "metadata": {
        "id": "iAnng4TFP8mW"
      },
      "source": [
        "def get_features_model():\n",
        "  features_input=Input(shape=(train_features.shape[1]),name=\"features_input\")\n",
        "  features_layers=Dense(32,activation=\"relu\")(features_input)\n",
        "  features_layers=Dense(16,activation=\"relu\")(features_layers)\n",
        "  features_output=Dense(1,activation=\"linear\",name=\"features_output\")(features_layers)\n",
        "  model=Model(inputs=features_input,outputs=features_output)\n",
        "  return model\n"
      ],
      "execution_count": null,
      "outputs": []
    },
    {
      "cell_type": "markdown",
      "metadata": {
        "id": "cHcHCpt5ixYF"
      },
      "source": [
        "### Create a model for images\n",
        "\n",
        "Using convolution networks work best with images but we are not looking to optimize the results, just to show how to use keras for multiple inputs/outputs models"
      ]
    },
    {
      "cell_type": "code",
      "metadata": {
        "id": "qWpsSGV05oqY"
      },
      "source": [
        "def get_image_model():\n",
        "  image_input=Input(shape=(48,48,3),name=\"image_input\")\n",
        "  flatten=Flatten()(image_input)\n",
        "  image_layers=Dense(64,activation=\"relu\")(flatten)\n",
        "  image_layers=Dense(32,activation=\"relu\")(image_layers)\n",
        "  image_layers=Dense(16,activation=\"relu\")(image_layers)\n",
        "  image_output=Dense(1,activation=\"linear\",name='image_output')(image_layers)\n",
        "  model=Model(inputs=image_input,outputs=image_output)\n",
        "  return model"
      ],
      "execution_count": null,
      "outputs": []
    },
    {
      "cell_type": "code",
      "metadata": {
        "id": "JK1aKLVj8k3B"
      },
      "source": [
        "features_model=get_features_model()\n",
        "image_model=get_image_model()\n"
      ],
      "execution_count": null,
      "outputs": []
    },
    {
      "cell_type": "markdown",
      "metadata": {
        "id": "DhpF-EzkixYF"
      },
      "source": [
        "### Create the combined model\n",
        "\n",
        "We use the concatenate layer provided by keras to combine both models.\n",
        "__Note__: even though the output of the feature_model does not show in the plot below but if you look at the outputs of the model, it is there\n"
      ]
    },
    {
      "cell_type": "code",
      "metadata": {
        "id": "GCTqqZXCR46g"
      },
      "source": [
        "both=concatenate([features_model.output,image_model.output])\n",
        "both=Dense(10,activation='relu')(both)\n",
        "both=Dense(1,activation='linear',name='both_outputs')(both)\n",
        "model=Model(inputs=[features_model.input,image_model.input],outputs=[both,features_model.output])\n"
      ],
      "execution_count": null,
      "outputs": []
    },
    {
      "cell_type": "markdown",
      "metadata": {
        "id": "TJrwYZFZixYG"
      },
      "source": [
        "### Plot the model\n",
        "\n",
        "__IMPORTANT__: the graph below was generated using graphviz so the appearance of the image model on the left does __NOT__ reflect on the way it is organized in Keras. In fact if you check the input of the model you will see that the leftmost input is the feature input not the images"
      ]
    },
    {
      "cell_type": "code",
      "metadata": {
        "id": "3UNdpuKSTyM1"
      },
      "source": [
        "tf.keras.utils.plot_model(model,show_shapes=True)"
      ],
      "execution_count": null,
      "outputs": []
    },
    {
      "cell_type": "markdown",
      "metadata": {
        "id": "foZbvTIYixYH"
      },
      "source": [
        "__NOTE__: for simplicity we are using the same loss function for __both__ outputs but it is possible to specify a different loss for each output. Also, since the output (price) is always positive we choose the mean_absolute_precentage_error"
      ]
    },
    {
      "cell_type": "code",
      "metadata": {
        "id": "OaYEk_Q1TBOu"
      },
      "source": [
        "opt=tf.keras.optimizers.Adam()\n",
        "model.compile(optimizer=opt,loss='mean_absolute_percentage_error')\n"
      ],
      "execution_count": null,
      "outputs": []
    },
    {
      "cell_type": "code",
      "metadata": {
        "id": "Ute42veJTIyz"
      },
      "source": [
        "model.fit(x=[train_features,train_images],y=train_prices,epochs=100)\n"
      ],
      "execution_count": null,
      "outputs": []
    },
    {
      "cell_type": "code",
      "metadata": {
        "id": "zzbuj_zQTWLi"
      },
      "source": [
        "model.evaluate([test_features,test_images],test_prices)\n"
      ],
      "execution_count": null,
      "outputs": []
    },
    {
      "cell_type": "code",
      "metadata": {
        "id": "jJAFd-3NYv2l"
      },
      "source": [
        "predict=np.squeeze(model.predict([test_features[0:6],test_images[0:6]]))\n",
        "print(predict[0]*max_price)\n",
        "print(test_prices[0:6]*max_price)\n",
        "print(predict[1]*max_price)"
      ],
      "execution_count": null,
      "outputs": []
    },
    {
      "cell_type": "code",
      "metadata": {
        "id": "k5jcIHtzZSuo"
      },
      "source": [
        "print(100*np.abs(test_prices[0:6]-combined_predict[0])/test_prices[0:6])\n",
        "print(100*np.abs(test_prices[0:6]-combined_predict[1])/test_prices[0:6])"
      ],
      "execution_count": null,
      "outputs": []
    },
    {
      "cell_type": "code",
      "metadata": {
        "id": "OJZH5fg9joHL"
      },
      "source": [
        ""
      ],
      "execution_count": null,
      "outputs": []
    }
  ]
}