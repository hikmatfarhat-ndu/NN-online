{
  "nbformat": 4,
  "nbformat_minor": 0,
  "metadata": {
    "accelerator": "GPU",
    "colab": {
      "name": "text_generation.ipynb",
      "provenance": [],
      "collapsed_sections": [],
      "include_colab_link": true
    },
    "kernelspec": {
      "name": "python3",
      "display_name": "Python 3.6.8 64-bit",
      "metadata": {
        "interpreter": {
          "hash": "ffa8138a954375a0eba8eca80543292cc4faeae39ef0340fcb1267261a1ca77f"
        }
      }
    }
  },
  "cells": [
    {
      "cell_type": "markdown",
      "metadata": {
        "id": "view-in-github",
        "colab_type": "text"
      },
      "source": [
        "<a href=\"https://colab.research.google.com/github/hikmatfarhat-ndu/NN-online/blob/main/11text_generation.ipynb\" target=\"_parent\"><img src=\"https://colab.research.google.com/assets/colab-badge.svg\" alt=\"Open In Colab\"/></a>"
      ]
    },
    {
      "cell_type": "markdown",
      "metadata": {
        "id": "ovpZyIhNIgoq"
      },
      "source": [
        "# Text generation with an RNN\n",
        "Recurrent Neural Networks are typically used on __sequences__. Unlike the NNs we have seen so far an RNN takes a __sequence__ of inputs instead of just one. \n",
        "The main difference between RRNs and the others is that an RNN contains a __feedback__ loop as shown in the figure below.\n",
        "The figure also showns an __unrolled__ RNN when the input sequence is of size 4."
      ]
    },
    {
      "cell_type": "markdown",
      "metadata": {
        "id": "ieZzscdrWmuP"
      },
      "source": [
        "![rnn](https://github.com/hikmatfarhat-ndu/NN-online/blob/main/figures/rnn.png?raw=1)"
      ]
    },
    {
      "cell_type": "markdown",
      "metadata": {
        "id": "WGyKZj3bzf9p"
      },
      "source": [
        "### Import TensorFlow and other libraries"
      ]
    },
    {
      "cell_type": "code",
      "metadata": {
        "id": "yG_n40gFzf9s"
      },
      "source": [
        "import tensorflow as tf\n",
        "import numpy as np\n",
        "import os\n",
        "import time\n",
        "from tensorflow.keras.layers import Dense,SimpleRNN,SimpleRNNCell,Embedding"
      ],
      "execution_count": 1,
      "outputs": []
    },
    {
      "cell_type": "markdown",
      "metadata": {
        "id": "SuYp0XX5WmuP"
      },
      "source": [
        "As we have seen above an RNN layer is basically a sequence of RNN cells that feed each other. To illustrate we compare the output from a SimpleRNN layer in Keras and the output of two SimpleRNN cells that feed one another"
      ]
    },
    {
      "cell_type": "code",
      "metadata": {
        "id": "rebqC7D2iPo8",
        "colab": {
          "base_uri": "https://localhost:8080/"
        },
        "outputId": "0a113c42-1fe9-4377-8328-2153f69f9e16"
      },
      "source": [
        "## Initial state\n",
        "init=tf.zeros_like([[0,0,0,0]],dtype='float32')\n",
        "print(\"init shape={}\".format(init.shape))\n",
        "## the input contatins 1 single batch\n",
        "## of a sequence (size 2) of vectors of dim 3\n",
        "input=np.array([[1,1,1],[4,4,4]]).astype('float32')\n",
        "input=input.reshape(1,2,3)\n",
        "print(\"input shape={}\".format(input.shape))\n",
        "## Create a \"deterministic\" RNN so that we always\n",
        "## get the same output\n",
        "rnn=SimpleRNN(4,activation='linear', \n",
        "       kernel_initializer=tf.keras.initializers.Constant(1), \n",
        "        return_sequences=True,\n",
        "        recurrent_initializer=tf.keras.initializers.Constant(1)\n",
        "        )\n",
        "output=rnn(input,initial_state=init)\n",
        "print(np.squeeze(output.numpy()))"
      ],
      "execution_count": 97,
      "outputs": [
        {
          "output_type": "stream",
          "text": [
            "init shape=(1, 4)\n",
            "input shape=(1, 2, 3)\n",
            "[[ 3.  3.  3.  3.]\n",
            " [24. 24. 24. 24.]]\n"
          ],
          "name": "stdout"
        }
      ]
    },
    {
      "cell_type": "markdown",
      "metadata": {
        "id": "6QNJZWocHDwj"
      },
      "source": [
        "## return\\_sequence=False\n",
        "If set the RNN will return only the  output of the last step"
      ]
    },
    {
      "cell_type": "code",
      "metadata": {
        "id": "UoGlQ_O2E69r",
        "colab": {
          "base_uri": "https://localhost:8080/"
        },
        "outputId": "a8ae98b9-e538-4b90-dc50-eb7a8faa394f"
      },
      "source": [
        "rnn=SimpleRNN(4,activation='linear', \n",
        "       kernel_initializer=tf.keras.initializers.Constant(1), \n",
        "        return_sequences=False,\n",
        "        recurrent_initializer=tf.keras.initializers.Constant(1)\n",
        "        )\n",
        "output=rnn(input,initial_state=init)\n",
        "print(np.squeeze(output.numpy()))\n",
        "\n"
      ],
      "execution_count": 3,
      "outputs": [
        {
          "output_type": "stream",
          "text": [
            "[24. 24. 24. 24.]\n"
          ],
          "name": "stdout"
        }
      ]
    },
    {
      "cell_type": "markdown",
      "metadata": {
        "id": "yf99Jh3PWmuP"
      },
      "source": [
        "### Equivalent network \n",
        "Below we build an equivalent network that uses two cells in sequence"
      ]
    },
    {
      "cell_type": "code",
      "metadata": {
        "id": "mF3UhTokkMaA",
        "colab": {
          "base_uri": "https://localhost:8080/"
        },
        "outputId": "5f0ca76c-53f3-4946-e4b6-217981e9c7ca"
      },
      "source": [
        "seq1=np.array([[1,1,1]]).astype('float32')\n",
        "seq2=np.array([[4,4,4]]).astype('float32')\n",
        "### Create a deterministic cell\n",
        "cell=SimpleRNNCell(4,activation='linear',\n",
        "        kernel_initializer=tf.keras.initializers.Constant(1),\n",
        "        recurrent_initializer=tf.keras.initializers.Constant(1)\n",
        "        )\n",
        "## output of the first cell\n",
        "## using seq1 and initialized to init\n",
        "one=cell(inputs=seq1,states=init)\n",
        "print(one[0],one[1])\n",
        "## output of the second cell\n",
        "## using seq2 and the output of the previous cell \n",
        "two=cell(inputs=seq2,states=one[1])\n",
        "two=cell(inputs=seq2,states=one[1])\n",
        "print(np.squeeze(one[0].numpy()))\n",
        "print(np.squeeze(two[0].numpy()))\n"
      ],
      "execution_count": 98,
      "outputs": [
        {
          "output_type": "stream",
          "text": [
            "tf.Tensor([[3. 3. 3. 3.]], shape=(1, 4), dtype=float32) tf.Tensor([[3. 3. 3. 3.]], shape=(1, 4), dtype=float32)\n",
            "[3. 3. 3. 3.]\n",
            "[24. 24. 24. 24.]\n"
          ],
          "name": "stdout"
        }
      ]
    },
    {
      "cell_type": "code",
      "metadata": {
        "id": "HwF0rira3-9L",
        "colab": {
          "resources": {
            "http://localhost:8080/nbextensions/google.colab/files.js": {
              "data": "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",
              "ok": true,
              "headers": [
                [
                  "content-type",
                  "application/javascript"
                ]
              ],
              "status": 200,
              "status_text": ""
            }
          },
          "base_uri": "https://localhost:8080/",
          "height": 73
        },
        "outputId": "4a399af3-f16c-4a23-982a-590c03db27ce"
      },
      "source": [
        "from google.colab import files\n",
        "file=files.upload()\n",
        "!mkdir /root/.kaggle\n",
        "!mv kaggle.json  /root/.kaggle\n"
      ],
      "execution_count": 5,
      "outputs": [
        {
          "output_type": "display_data",
          "data": {
            "text/html": [
              "\n",
              "     <input type=\"file\" id=\"files-82d41bf5-4fda-4ee1-a174-636d45b3a67d\" name=\"files[]\" multiple disabled\n",
              "        style=\"border:none\" />\n",
              "     <output id=\"result-82d41bf5-4fda-4ee1-a174-636d45b3a67d\">\n",
              "      Upload widget is only available when the cell has been executed in the\n",
              "      current browser session. Please rerun this cell to enable.\n",
              "      </output>\n",
              "      <script src=\"/nbextensions/google.colab/files.js\"></script> "
            ],
            "text/plain": [
              "<IPython.core.display.HTML object>"
            ]
          },
          "metadata": {
            "tags": []
          }
        },
        {
          "output_type": "stream",
          "text": [
            "Saving kaggle.json to kaggle.json\n"
          ],
          "name": "stdout"
        }
      ]
    },
    {
      "cell_type": "code",
      "metadata": {
        "id": "odpyT3ps4n1t",
        "colab": {
          "base_uri": "https://localhost:8080/"
        },
        "outputId": "b7a5f1f7-7827-4b01-e22e-f046c6d4db5a"
      },
      "source": [
        "#!kaggle datasets download -d nzalake52/new-york-times-articles\n",
        "!kaggle datasets download -d ad6398/bbcnewsarticle\n",
        "!unzip bbcnewsarticle.zip"
      ],
      "execution_count": 6,
      "outputs": [
        {
          "output_type": "stream",
          "text": [
            "Warning: Your Kaggle API key is readable by other users on this system! To fix this, you can run 'chmod 600 /root/.kaggle/kaggle.json'\n",
            "Downloading bbcnewsarticle.zip to /content\n",
            "  0% 0.00/1.83M [00:00<?, ?B/s]\n",
            "100% 1.83M/1.83M [00:00<00:00, 61.6MB/s]\n",
            "Archive:  bbcnewsarticle.zip\n",
            "  inflating: bbc-text.csv            \n"
          ],
          "name": "stdout"
        }
      ]
    },
    {
      "cell_type": "markdown",
      "metadata": {
        "id": "7SdZNnmwHbPD"
      },
      "source": [
        "### Python 'set' datastructure\n",
        "\n"
      ]
    },
    {
      "cell_type": "markdown",
      "metadata": {
        "id": "g_Y7ouPeYgU6"
      },
      "source": [
        "Collect the vocabulary(characters) used in the text"
      ]
    },
    {
      "cell_type": "code",
      "metadata": {
        "id": "0zV_8hfCHyCE",
        "colab": {
          "base_uri": "https://localhost:8080/"
        },
        "outputId": "1b02485f-5085-4442-e35e-71cba5367a0e"
      },
      "source": [
        "input=['b','a','a','c','a','b','c','a']\n",
        "inputSet=set(input)\n",
        "inputSet"
      ],
      "execution_count": 7,
      "outputs": [
        {
          "output_type": "execute_result",
          "data": {
            "text/plain": [
              "{'a', 'b', 'c'}"
            ]
          },
          "metadata": {
            "tags": []
          },
          "execution_count": 7
        }
      ]
    },
    {
      "cell_type": "code",
      "metadata": {
        "id": "IalZLbvOzf-F",
        "colab": {
          "base_uri": "https://localhost:8080/"
        },
        "outputId": "92e8d039-4cee-41a9-f714-f1cd9530c76d"
      },
      "source": [
        "data_file=\"bbc-text.csv\"\n",
        "text=open(data_file,encoding='utf8').read()\n",
        "## A set has unique elements\n",
        "## therefore set(text)\n",
        "## contains all characters used in the text\n",
        "vocab = sorted(set(text))\n",
        "print(vocab[0:20])\n",
        "print(vocab[20:40])\n",
        "print(vocab[40:59])"
      ],
      "execution_count": 8,
      "outputs": [
        {
          "output_type": "stream",
          "text": [
            "['\\n', ' ', '!', '#', '$', '%', '&', '(', ')', '*', '+', ',', '-', '.', '/', '0', '1', '2', '3', '4']\n",
            "['5', '6', '7', '8', '9', ':', ';', '=', '@', '[', ']', '`', 'a', 'b', 'c', 'd', 'e', 'f', 'g', 'h']\n",
            "['i', 'j', 'k', 'l', 'm', 'n', 'o', 'p', 'q', 'r', 's', 't', 'u', 'v', 'w', 'x', 'y', 'z', '£']\n"
          ],
          "name": "stdout"
        }
      ]
    },
    {
      "cell_type": "markdown",
      "metadata": {
        "id": "zUa6zXlIYloM"
      },
      "source": [
        "Convert the characters to integers\n"
      ]
    },
    {
      "cell_type": "code",
      "metadata": {
        "id": "JqIab7jVXwUY",
        "colab": {
          "base_uri": "https://localhost:8080/"
        },
        "outputId": "e75a1dc3-5449-43c6-b288-8705c1c152b7"
      },
      "source": [
        "index2char = np.array(vocab)\n",
        "\n",
        "# Create a dictionary from vocab, with key 'character' and value 'index'\n",
        "char2index = {u:i for i, u in enumerate(vocab)}\n",
        "\n",
        "## The encoded text is just a sequence of numbers\n",
        "encoded_text = np.array([char2index[c] for c in text])\n",
        "print(\"number of characters in text={}\".format(len(encoded_text)))\n",
        "nc=10\n",
        "print(\"first {} characters\".format(nc))\n",
        "print([index2char[c] for c in encoded_text[0:nc]])\n",
        "print(\"first {} encoded characters\".format(nc))\n",
        "encoded_text[0:nc]"
      ],
      "execution_count": 9,
      "outputs": [
        {
          "output_type": "stream",
          "text": [
            "number of characters in text=5056090\n",
            "first 10 characters\n",
            "['c', 'a', 't', 'e', 'g', 'o', 'r', 'y', ',', 't']\n",
            "first 10 encoded characters\n"
          ],
          "name": "stdout"
        },
        {
          "output_type": "execute_result",
          "data": {
            "text/plain": [
              "array([34, 32, 51, 36, 38, 46, 49, 56, 11, 51])"
            ]
          },
          "metadata": {
            "tags": []
          },
          "execution_count": 9
        }
      ]
    },
    {
      "cell_type": "code",
      "metadata": {
        "id": "0UHJDA39zf-O",
        "colab": {
          "base_uri": "https://localhost:8080/"
        },
        "outputId": "747b2420-dbe8-4a3a-e8e1-a425d3b3d352"
      },
      "source": [
        "# The maximum length sentence  for a single input in characters\n",
        "seq_length = 100\n",
        "examples_per_epoch = len(text)//(seq_length+1)\n",
        "\n",
        "# Create training examples / targets\n",
        "char_dataset = tf.data.Dataset.from_tensor_slices(encoded_text)\n",
        "char_dataset"
      ],
      "execution_count": 10,
      "outputs": [
        {
          "output_type": "execute_result",
          "data": {
            "text/plain": [
              "<TensorSliceDataset shapes: (), types: tf.int64>"
            ]
          },
          "metadata": {
            "tags": []
          },
          "execution_count": 10
        }
      ]
    },
    {
      "cell_type": "code",
      "metadata": {
        "id": "T21rlTVaZ8Z6",
        "colab": {
          "base_uri": "https://localhost:8080/"
        },
        "outputId": "41232c30-9e2e-4b98-a9cd-b7b58ecb22a8"
      },
      "source": [
        "b =char_dataset.take(5)\n",
        "print(\"Original Data\")\n",
        "print(\"------------\")\n",
        "for e in b:\n",
        "  print(e.numpy(),end= \" \")\n",
        "print(\"\\nBatched data\")\n",
        "c=char_dataset.batch(5,drop_remainder=True)\n",
        "for e in c.take(1):\n",
        "  print(e.numpy())\n",
        "\n",
        "def split_input(batch):\n",
        "    input_text = batch[:-1]\n",
        "    target_text = batch[1:]\n",
        "    return input_text, target_text\n",
        "print(\"the final data set\")\n",
        "print(\"------------------\")\n",
        "d=c.map(split_input)\n",
        "for e in d.take(1):\n",
        "  print(e[0].numpy())\n",
        "  print(e[1].numpy())\n"
      ],
      "execution_count": 11,
      "outputs": [
        {
          "output_type": "stream",
          "text": [
            "Original Data\n",
            "------------\n",
            "34 32 51 36 38 \n",
            "Batched data\n",
            "[34 32 51 36 38]\n",
            "the final data set\n",
            "------------------\n",
            "[34 32 51 36]\n",
            "[32 51 36 38]\n"
          ],
          "name": "stdout"
        }
      ]
    },
    {
      "cell_type": "markdown",
      "metadata": {
        "id": "-ZSYAcQV8OGP"
      },
      "source": [
        "The `batch` method lets us easily convert these individual characters to sequences of the desired size."
      ]
    },
    {
      "cell_type": "code",
      "metadata": {
        "id": "4MmlXh7LZJlK",
        "colab": {
          "base_uri": "https://localhost:8080/"
        },
        "outputId": "0816cdb5-f442-467e-a988-c002eeaf004c"
      },
      "source": [
        "sequences = char_dataset.batch(seq_length+1, drop_remainder=True)\n",
        "type(sequences)\n"
      ],
      "execution_count": 12,
      "outputs": [
        {
          "output_type": "execute_result",
          "data": {
            "text/plain": [
              "tensorflow.python.data.ops.dataset_ops.BatchDataset"
            ]
          },
          "metadata": {
            "tags": []
          },
          "execution_count": 12
        }
      ]
    },
    {
      "cell_type": "code",
      "metadata": {
        "id": "p2pGotuNzf-S",
        "colab": {
          "base_uri": "https://localhost:8080/"
        },
        "outputId": "41d8285f-59e2-448d-816e-4af35ce7046c"
      },
      "source": [
        "#print(sequences)\n",
        "def split_input_target(chunk):\n",
        "    input_text = chunk[:-1]\n",
        "    target_text = chunk[1:]\n",
        "    return input_text, target_text\n",
        "\n",
        "dataset = sequences.map(split_input_target)\n",
        "\n",
        "BATCH_SIZE = 64\n",
        "BUFFER_SIZE = 10000\n",
        "\n",
        "#dataset = dataset.shuffle(BUFFER_SIZE).batch(BATCH_SIZE, drop_remainder=True)\n",
        "dataset = dataset.batch(BATCH_SIZE, drop_remainder=True)\n",
        "\n",
        "print(dataset)\n",
        "for d in dataset.take(1):\n",
        "    print(d[0][0,3].numpy())\n",
        "    #print(d[0])\n",
        "    #print(d[1])"
      ],
      "execution_count": 13,
      "outputs": [
        {
          "output_type": "stream",
          "text": [
            "<BatchDataset shapes: ((64, 100), (64, 100)), types: (tf.int64, tf.int64)>\n",
            "36\n"
          ],
          "name": "stdout"
        }
      ]
    },
    {
      "cell_type": "markdown",
      "metadata": {
        "id": "r6oUuElIMgVx"
      },
      "source": [
        "## Build The Model"
      ]
    },
    {
      "cell_type": "code",
      "metadata": {
        "id": "zHT8cLh7EAsg",
        "colab": {
          "base_uri": "https://localhost:8080/"
        },
        "outputId": "f075d134-6eae-439b-ae54-c385679abd52"
      },
      "source": [
        "# Length of the vocabulary in chars\n",
        "vocab_size = len(vocab)\n",
        "print(vocab_size)\n",
        "\n",
        "# The embedding dimension\n",
        "embedding_dim = 256\n",
        "\n",
        "# Output of the RNN layer\n",
        "rnn_units = 1024\n"
      ],
      "execution_count": 14,
      "outputs": [
        {
          "output_type": "stream",
          "text": [
            "59\n"
          ],
          "name": "stdout"
        }
      ]
    },
    {
      "cell_type": "markdown",
      "metadata": {
        "id": "apje5PB--Mth"
      },
      "source": [
        "### Build model\n",
        "In this example we are using statefull RNN. This means that the state from a batch is saved and affects the next batch. For this reason we need to specify the batch size."
      ]
    },
    {
      "cell_type": "code",
      "metadata": {
        "id": "MtCrdfzEI2N0"
      },
      "source": [
        "def build_model(vocab_size, embedding_dim, rnn_units, batch_size):\n",
        "    model = tf.keras.Sequential()\n",
        "    model.add(Embedding(vocab_size, embedding_dim,batch_input_shape=[batch_size, None]))\n",
        "    model.add(SimpleRNN(rnn_units,return_sequences=True,stateful=True))\n",
        "    model.add(Dense(vocab_size))\n",
        "    return model"
      ],
      "execution_count": 15,
      "outputs": []
    },
    {
      "cell_type": "code",
      "metadata": {
        "id": "wwsrpOik5zhv",
        "colab": {
          "base_uri": "https://localhost:8080/",
          "height": 665
        },
        "outputId": "aa9c5a8b-943f-43d1-d42f-9b1e3383330d"
      },
      "source": [
        "model = build_model(vocab_size=len(vocab),embedding_dim=embedding_dim,rnn_units=rnn_units,batch_size=BATCH_SIZE)\n",
        "model.summary()\n",
        "model.compile(optimizer='adam', loss=tf.keras.losses.SparseCategoricalCrossentropy(from_logits=True))    \n",
        "tf.keras.utils.plot_model(model,show_shapes=True)"
      ],
      "execution_count": 16,
      "outputs": [
        {
          "output_type": "stream",
          "text": [
            "Model: \"sequential\"\n",
            "_________________________________________________________________\n",
            "Layer (type)                 Output Shape              Param #   \n",
            "=================================================================\n",
            "embedding (Embedding)        (64, None, 256)           15104     \n",
            "_________________________________________________________________\n",
            "simple_rnn_2 (SimpleRNN)     (64, None, 1024)          1311744   \n",
            "_________________________________________________________________\n",
            "dense (Dense)                (64, None, 59)            60475     \n",
            "=================================================================\n",
            "Total params: 1,387,323\n",
            "Trainable params: 1,387,323\n",
            "Non-trainable params: 0\n",
            "_________________________________________________________________\n"
          ],
          "name": "stdout"
        },
        {
          "output_type": "execute_result",
          "data": {
            "image/png": "[encoded data removed]",
            "text/plain": [
              "<IPython.core.display.Image object>"
            ]
          },
          "metadata": {
            "tags": []
          },
          "execution_count": 16
        }
      ]
    },
    {
      "cell_type": "markdown",
      "metadata": {
        "id": "UTIwDX_iwCdQ"
      },
      "source": [
        "### Download the weights of the  pretrained model"
      ]
    },
    {
      "cell_type": "code",
      "metadata": {
        "colab": {
          "base_uri": "https://localhost:8080/"
        },
        "id": "h97f2wmxwHjC",
        "outputId": "2bbdf8a7-8ac4-4f9e-feab-f1bebd099de1"
      },
      "source": [
        "!wget https://raw.githubusercontent.com/hikmatfarhat-ndu/NN-online/main/data/rnn-weights.h5"
      ],
      "execution_count": 17,
      "outputs": [
        {
          "output_type": "stream",
          "text": [
            "--2020-11-26 12:54:05--  https://raw.githubusercontent.com/hikmatfarhat-ndu/NN-online/main/data/rnn-weights.h5\n",
            "Resolving raw.githubusercontent.com (raw.githubusercontent.com)... 151.101.0.133, 151.101.64.133, 151.101.128.133, ...\n",
            "Connecting to raw.githubusercontent.com (raw.githubusercontent.com)|151.101.0.133|:443... connected.\n",
            "HTTP request sent, awaiting response... 200 OK\n",
            "Length: 5567632 (5.3M) [application/octet-stream]\n",
            "Saving to: ‘rnn-weights.h5’\n",
            "\n",
            "\rrnn-weights.h5        0%[                    ]       0  --.-KB/s               \rrnn-weights.h5      100%[===================>]   5.31M  --.-KB/s    in 0.06s   \n",
            "\n",
            "2020-11-26 12:54:05 (91.9 MB/s) - ‘rnn-weights.h5’ saved [5567632/5567632]\n",
            "\n"
          ],
          "name": "stdout"
        }
      ]
    },
    {
      "cell_type": "code",
      "metadata": {
        "id": "UK-hmKjYVoll",
        "colab": {
          "base_uri": "https://localhost:8080/"
        },
        "outputId": "46e3ad90-e51a-4ab6-dc30-f7d28d058adc"
      },
      "source": [
        "\n",
        "EPOCHS = 1\n",
        "\n",
        "weights_file=\"rnn-weights.h5\"\n",
        "model.load_weights(weights_file)\n",
        "history = model.fit(dataset, epochs=EPOCHS)\n"
      ],
      "execution_count": 18,
      "outputs": [
        {
          "output_type": "stream",
          "text": [
            "782/782 [==============================] - 45s 57ms/step - loss: 1.3221\n"
          ],
          "name": "stdout"
        }
      ]
    },
    {
      "cell_type": "markdown",
      "metadata": {
        "id": "kKkD5M6eoSiN"
      },
      "source": [
        "## Generate text\n",
        "\n",
        "Up until now we have used the argmax function to select the category from a vector of logits or probabilities. Argmax, however, is a deterministic function: we always get the same value if the input is the same. In this exercise we would like to __sample__ a probability distribution"
      ]
    },
    {
      "cell_type": "code",
      "metadata": {
        "colab": {
          "base_uri": "https://localhost:8080/"
        },
        "id": "TdnPJs3-EjI_",
        "outputId": "cde7c751-fd46-4762-b1c8-465d21df28bd"
      },
      "source": [
        "logits=np.array([[4,2,1],[5,6,7]],dtype='float32')\n",
        "samples=tf.random.categorical(logits,num_samples=100).numpy()\n",
        "\n",
        "unique,count=np.unique(samples[0],return_counts=True)\n",
        "print(unique,count)\n",
        "unique,count=np.unique(samples[1],return_counts=True)\n",
        "print(unique,count)"
      ],
      "execution_count": 19,
      "outputs": [
        {
          "output_type": "stream",
          "text": [
            "[0 1 2] [86 11  3]\n",
            "[0 1 2] [ 6 29 65]\n"
          ],
          "name": "stdout"
        }
      ]
    },
    {
      "cell_type": "code",
      "metadata": {
        "id": "LycQ-ot_jjyu",
        "colab": {
          "base_uri": "https://localhost:8080/"
        },
        "outputId": "1022a4ba-eeaf-49a3-d40c-3a19d9b80d37"
      },
      "source": [
        "model = build_model(vocab_size, embedding_dim, rnn_units, batch_size=1)\n",
        "model.load_weights(weights_file)\n",
        "model.summary()"
      ],
      "execution_count": 20,
      "outputs": [
        {
          "output_type": "stream",
          "text": [
            "Model: \"sequential_1\"\n",
            "_________________________________________________________________\n",
            "Layer (type)                 Output Shape              Param #   \n",
            "=================================================================\n",
            "embedding_1 (Embedding)      (1, None, 256)            15104     \n",
            "_________________________________________________________________\n",
            "simple_rnn_3 (SimpleRNN)     (1, None, 1024)           1311744   \n",
            "_________________________________________________________________\n",
            "dense_1 (Dense)              (1, None, 59)             60475     \n",
            "=================================================================\n",
            "Total params: 1,387,323\n",
            "Trainable params: 1,387,323\n",
            "Non-trainable params: 0\n",
            "_________________________________________________________________\n"
          ],
          "name": "stdout"
        }
      ]
    },
    {
      "cell_type": "markdown",
      "metadata": {
        "id": "DjGz1tDkzf-u"
      },
      "source": [
        "### Generating text\n"
      ]
    },
    {
      "cell_type": "code",
      "metadata": {
        "id": "e7rdHwmMpJ1k"
      },
      "source": [
        "def get_next(input):\n",
        " input=[char2index[c] ]\n",
        " input=tf.expand_dims(input,0)\n",
        " pred=model(input)\n",
        " pred=tf.squeeze(pred,0)\n",
        " pred_id=tf.random.categorical(pred,num_samples=1)\n",
        " res=pred_id[-1,0].numpy()\n",
        " #return index2char[res]\n",
        " return res\n"
      ],
      "execution_count": 66,
      "outputs": []
    },
    {
      "cell_type": "code",
      "metadata": {
        "id": "HsQTc0ZInn1_",
        "outputId": "67252419-8f6b-4c74-bc19-d706796e387c",
        "colab": {
          "base_uri": "https://localhost:8080/"
        }
      },
      "source": [
        "starting_string=\"statetement of gov\"\n",
        "input_eval=[char2index[s] for s in starting_string]\n",
        "input_eval=tf.expand_dims(input_eval,0)\n",
        "pred=model(input_eval)\n",
        "print(pred.shape)\n",
        "pred=tf.squeeze(pred,0)\n",
        "pred_id=tf.random.categorical(pred,num_samples=1)\n",
        "res=pred_id[-1,0].numpy()\n",
        "print(index2char[res],end='')\n",
        "for i in range(100):\n",
        "    res=get_next([res])\n",
        "    print(index2char[res],end='')"
      ],
      "execution_count": 88,
      "outputs": [
        {
          "output_type": "stream",
          "text": [
            "(1, 18, 59)\n",
            "ernor people with a bigger sss is to keep r though famed against his immediately dancer action and my"
          ],
          "name": "stdout"
        }
      ]
    }
  ]
}