{
  "nbformat": 4,
  "nbformat_minor": 0,
  "metadata": {
    "colab": {
      "name": "Untitled3.ipynb",
      "provenance": [],
      "authorship_tag": "ABX9TyO61SugFbJL2ez0mEAtuQLe",
      "include_colab_link": true
    },
    "kernelspec": {
      "name": "python3",
      "display_name": "Python 3"
    }
  },
  "cells": [
    {
      "cell_type": "markdown",
      "metadata": {
        "id": "view-in-github",
        "colab_type": "text"
      },
      "source": [
        "<a href=\"https://colab.research.google.com/github/hikmatfarhat-ndu/CSC645/blob/master/more-keras.ipynb\" target=\"_parent\"><img src=\"https://colab.research.google.com/assets/colab-badge.svg\" alt=\"Open In Colab\"/></a>"
      ]
    },
    {
      "cell_type": "code",
      "metadata": {
        "id": "hGp4kpaZQSsX"
      },
      "source": [
        "import tensorflow as tf\n",
        "import numpy as np\n",
        "from tensorflow.keras import layers\n",
        "from tensorflow.keras.layers import Layer"
      ],
      "execution_count": 11,
      "outputs": []
    },
    {
      "cell_type": "markdown",
      "metadata": {
        "id": "vS8wm_8PRY3E"
      },
      "source": [
        "## Callable objects in Python\n",
        "\n",
        "In Python we can make an object callable if we include \\_\\_call\\_\\_ method  int the class definition. For example"
      ]
    },
    {
      "cell_type": "code",
      "metadata": {
        "id": "TvciBGo9QeCn",
        "outputId": "69db8b02-2ed9-4ceb-abd1-d0dde5a1c8a0",
        "colab": {
          "base_uri": "https://localhost:8080/"
        }
      },
      "source": [
        "class Object:\n",
        "  def __init__(self,x,y):\n",
        "    self.x=x\n",
        "    self.y=y\n",
        "  def __call__(self):\n",
        "    print(\"x={} and y={}\".format(self.x,self.y))\n",
        "\n",
        "x=Object(2,3)\n",
        "x()\n"
      ],
      "execution_count": 8,
      "outputs": [
        {
          "output_type": "stream",
          "text": [
            "x=2 and y=3\n"
          ],
          "name": "stdout"
        }
      ]
    },
    {
      "cell_type": "markdown",
      "metadata": {
        "id": "b3BsIn0rR0gc"
      },
      "source": [
        "## Models and Layers in Keras\n",
        "\n",
        "Models and layers in Keras are callable Python objects. The call function"
      ]
    },
    {
      "cell_type": "code",
      "metadata": {
        "id": "z0Ksh1oOR0G8"
      },
      "source": [
        ""
      ],
      "execution_count": null,
      "outputs": []
    },
    {
      "cell_type": "code",
      "metadata": {
        "id": "44o4IvojTKCo",
        "outputId": "ea7041af-82d3-4f91-a894-d19e8a22ac59",
        "colab": {
          "base_uri": "https://localhost:8080/"
        }
      },
      "source": [
        "class ComputeSum(Layer):\n",
        "\n",
        "  def __init__(self, input_dim):\n",
        "      super(ComputeSum, self).__init__()\n",
        "      # Create a non-trainable weight.\n",
        "  def build(self,inputs):\n",
        "      self.total = tf.Variable(initial_value=tf.zeros(tf.shape(inputs)), trainable=False)\n",
        "      print(\"build\")\n",
        "\n",
        "  def call(self, inputs):\n",
        "      print(\"compute\")\n",
        "      self.total.assign_add(tf.reduce_sum(inputs, axis=0))\n",
        "      return self.total\n",
        "\n",
        "my_sum = ComputeSum(2)\n",
        "x = tf.ones((2, 2))\n",
        "y = my_sum(x)\n",
        "#print(y.numpy())  # [2. 2.]\n",
        "y = my_sum(x)\n",
        "#print(y.numpy())  # [4. 4.]\n"
      ],
      "execution_count": 58,
      "outputs": [
        {
          "output_type": "stream",
          "text": [
            "build\n",
            "compute\n",
            "compute\n"
          ],
          "name": "stdout"
        }
      ]
    }
  ]
}