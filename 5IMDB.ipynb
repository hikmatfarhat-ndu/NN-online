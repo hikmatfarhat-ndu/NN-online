{
  "nbformat": 4,
  "nbformat_minor": 0,
  "metadata": {
    "colab": {
      "name": "IMDB.ipynb",
      "provenance": [],
      "authorship_tag": "ABX9TyOIHSqtfWrelyBlYLq3BRBE",
      "include_colab_link": true
    },
    "kernelspec": {
      "name": "python3",
      "display_name": "Python 3"
    },
    "accelerator": "GPU"
  },
  "cells": [
    {
      "cell_type": "markdown",
      "metadata": {
        "id": "view-in-github",
        "colab_type": "text"
      },
      "source": [
        "<a href=\"https://colab.research.google.com/github/hikmatfarhat-ndu/NN-online/blob/main/5IMDB.ipynb\" target=\"_parent\"><img src=\"https://colab.research.google.com/assets/colab-badge.svg\" alt=\"Open In Colab\"/></a>"
      ]
    },
    {
      "cell_type": "markdown",
      "metadata": {
        "id": "cn14FvrTaltK"
      },
      "source": [
        "# Keras\n",
        "\n",
        "\n",
        "In this notebook we will learn to use the high-level framework Keras for building neural networks. From now on this will be our default framework to solve ML problems"
      ]
    },
    {
      "cell_type": "markdown",
      "metadata": {
        "id": "yjyzzSPFsoIy"
      },
      "source": [
        "# Predicting Movie Reviews\n",
        "\n",
        "In this exercise we are given a set of IMDB movie reviews and we train our model to predict other reviews. The output of the review is either positive or negative so it is a binary classification problem like the ship/not ship problem we dealt with before"
      ]
    },
    {
      "cell_type": "code",
      "metadata": {
        "id": "AxlaPRhjYIOj"
      },
      "source": [
        "import tensorflow as tf\n",
        "from tensorflow.keras.preprocessing.sequence import pad_sequences\n",
        "from tensorflow.keras.datasets import imdb\n",
        "import numpy as np\n",
        "#import cupy as np\n",
        "from keras.utils import to_categorical\n",
        "\n"
      ],
      "execution_count": 1,
      "outputs": []
    },
    {
      "cell_type": "markdown",
      "metadata": {
        "id": "2_ZwNhSPmNLU"
      },
      "source": [
        "###Zip, List comprehension and Dictionaries in Python\n",
        "\n",
        "list comprehensions are a succinct way to create lists in Python"
      ]
    },
    {
      "cell_type": "code",
      "metadata": {
        "id": "6VgkasfBl6yP"
      },
      "source": [
        "x=[i for i in range(5)]\n",
        "x"
      ],
      "execution_count": null,
      "outputs": []
    },
    {
      "cell_type": "markdown",
      "metadata": {
        "id": "uukXSAx5pRyQ"
      },
      "source": [
        "using a filter: choose only even numbers from raw"
      ]
    },
    {
      "cell_type": "code",
      "metadata": {
        "id": "dZVe_VEimbwu"
      },
      "source": [
        "raw=[1,2,3,4,5,6]\n",
        "x=[i for i in raw if i%2==0]\n",
        "x"
      ],
      "execution_count": null,
      "outputs": []
    },
    {
      "cell_type": "markdown",
      "metadata": {
        "id": "GU0jBsJapXw0"
      },
      "source": [
        "Operating differently on odd and even  numbers. Note the different syntax from the previous example. When __ONLY__ if is present it appears __after__ the for in syntax. When if else block is present it appears __before__ the for in block"
      ]
    },
    {
      "cell_type": "code",
      "metadata": {
        "id": "FyK-JPu2nU7d"
      },
      "source": [
        "collatz=[x//2 if x%2==0 else x+1 for x in range(10)]\n",
        "print([x for x in range(10)])\n",
        "collatz"
      ],
      "execution_count": null,
      "outputs": []
    },
    {
      "cell_type": "markdown",
      "metadata": {
        "id": "YcSgwimPps8f"
      },
      "source": [
        "zip combines two or more list into a list of tuples"
      ]
    },
    {
      "cell_type": "code",
      "metadata": {
        "id": "Ki6FgYYon5fo"
      },
      "source": [
        "lpairs=zip(range(0,10,2),range(1,10,2))\n",
        "rev=[(y,x) for (x,y) in zip(range(0,10,2),range(1,10,2))]\n",
        "print(list(lpairs))\n",
        "print(rev)"
      ],
      "execution_count": null,
      "outputs": []
    },
    {
      "cell_type": "markdown",
      "metadata": {
        "id": "WCVNkCfioMmq"
      },
      "source": [
        "Dictionaries are (key,value) containers"
      ]
    },
    {
      "cell_type": "code",
      "metadata": {
        "id": "S5YACVCqoIjY"
      },
      "source": [
        "## create a dictionary from a list of pairs\n",
        "dict(rev)"
      ],
      "execution_count": null,
      "outputs": []
    },
    {
      "cell_type": "code",
      "metadata": {
        "id": "_ughsjFkoU3f"
      },
      "source": [
        "# create an empty dictionary\n",
        "d={}\n",
        "# add (key,value) pairs using associative arrays notation\n",
        "d['key1']=1\n",
        "d['key2']=2\n",
        "# iterate over all the items\n",
        "for (k,v) in d.items():\n",
        "  print(\"key {} has value {}\".format(k,v))\n",
        "## create a dictionary using initialization \n",
        "D={\"a\":0,\"b\":1,\"t\":179}\n",
        "for (k,v) in D.items():\n",
        "    print(\"key {} has value {}\".format(k,v))\n"
      ],
      "execution_count": null,
      "outputs": []
    },
    {
      "cell_type": "code",
      "metadata": {
        "id": "-unp5n1irn7Y"
      },
      "source": [
        "listW=[\"one\",\"two\",\"three\",\"four\"]\n",
        "joinSP=\" \".join(listW)\n",
        "print(joinSP)\n",
        "joinD=\"-\".join(listW)\n",
        "print(joinD)"
      ],
      "execution_count": null,
      "outputs": []
    },
    {
      "cell_type": "markdown",
      "metadata": {
        "id": "t7L--NEHrmXZ"
      },
      "source": [
        "String join"
      ]
    },
    {
      "cell_type": "markdown",
      "metadata": {
        "id": "dUvFJR-vkYNh"
      },
      "source": [
        "## The data\n",
        "\n",
        "The movie review dataset is a set of 50000 reviews of movies (half training, half test). Each review contains a set of words and is labeled positive (1) or negative (0). For convenience each word index refer to its frequency of occurence in the dataset. For example a word with index 5 is the fifth most frequently used data set. The indices 0,1 and 2 are reserved so 5 really means the third most frequent.\n",
        "\n",
        "Details about the dataset can be found here [Keras IMDB](https://keras.io/api/datasets/imdb/)\n",
        "\n",
        "In this exercise we choose only the first 10000 most frequent words to be included. Any word that is not among them is given the index 2.\n",
        "\n",
        "First we load data set without omitting any words"
      ]
    },
    {
      "cell_type": "markdown",
      "metadata": {
        "id": "XX_34kZwx7bp"
      },
      "source": [
        "### Data details\n",
        "\n",
        "We would like to have an idea about the number of reviews, the average length of a review. Also we compute how many entries with values 0,1,2 and 3. The number 0 is used for padding and 1 to denote the beginning of each sequence. The number 2 is used for missing words. Finally, the number 3 is never used since as you will see later we will shift the indices by 3."
      ]
    },
    {
      "cell_type": "code",
      "metadata": {
        "id": "l2VxN9cJyNez"
      },
      "source": [
        "(x_train,y_train),(x_test,y_test)=tf.keras.datasets.imdb.load_data()\n",
        "\n",
        "print(\"The number of reviews in the x_train data set = {}\\n\".format(x_train.shape[0]))\n",
        "print(\"The average length of reviews = {}\".format(np.mean([len(x) for x in x_train])))\n",
        "print(\"With standard deviation = {}\".format(np.std([len(x) for x in x_train])))"
      ],
      "execution_count": null,
      "outputs": []
    },
    {
      "cell_type": "markdown",
      "metadata": {
        "id": "ql1rL9j80jgO"
      },
      "source": [
        "Now when we choose only the first _max_words_ most frequent words and compute the number of 2's in the data set. As you can see the number of 2's is now very large since all the \"ignored\" words were given the code 2."
      ]
    },
    {
      "cell_type": "code",
      "metadata": {
        "id": "fBaHMaLXYSQT",
        "outputId": "16c2e473-faa6-4b9c-ac11-f9da2e025c12",
        "colab": {
          "base_uri": "https://localhost:8080/"
        }
      },
      "source": [
        "max_words=5000\n",
        "(x_train,y_train),(x_test,y_test)=imdb.load_data(num_words=max_words)\n",
        "print(\"The number of 2's in the x_train data set = {}\\n\".format(sum([1 for x in np.hstack(x_train) if x==2])))"
      ],
      "execution_count": 2,
      "outputs": [
        {
          "output_type": "stream",
          "text": [
            "Downloading data from https://storage.googleapis.com/tensorflow/tf-keras-datasets/imdb.npz\n",
            "17465344/17464789 [==============================] - 0s 0us/step\n",
            "The number of 2's in the x_train data set = 592372\n",
            "\n"
          ],
          "name": "stdout"
        }
      ]
    },
    {
      "cell_type": "markdown",
      "metadata": {
        "id": "n9Sm_zbolngj"
      },
      "source": [
        "### Word index\n",
        "\n",
        "Keras provides also a dictionary of word to index. We don't need it for training but it helps us get an idea what the reviews are saying in plain English. From that we build a dictionary of index to words. We use the index_to_word to display the first review in the data set."
      ]
    },
    {
      "cell_type": "code",
      "metadata": {
        "id": "5sKLW9l0YoYE",
        "outputId": "00e1f565-a172-4f41-eab7-6abf63ed5837",
        "colab": {
          "base_uri": "https://localhost:8080/"
        }
      },
      "source": [
        "\n",
        "word_to_index=imdb.get_word_index()\n",
        "index_to_word=dict([(key,val) for (val,key) in word_to_index.items()])\n",
        "review = \" \".join( [index_to_word.get(i - 3, \"***\") for i in x_train[0]] )\n",
        "print(review)"
      ],
      "execution_count": 3,
      "outputs": [
        {
          "output_type": "stream",
          "text": [
            "Downloading data from https://storage.googleapis.com/tensorflow/tf-keras-datasets/imdb_word_index.json\n",
            "1646592/1641221 [==============================] - 0s 0us/step\n",
            "*** this film was just brilliant casting location scenery story direction everyone's really suited the part they played and you could just imagine being there robert *** is an amazing actor and now the same being director *** father came from the same scottish island as myself so i loved the fact there was a real connection with this film the witty remarks throughout the film were great it was just brilliant so much that i bought the film as soon as it was released for *** and would recommend it to everyone to watch and the fly *** was amazing really cried at the end it was so sad and you know what they say if you cry at a film it must have been good and this definitely was also *** to the two little *** that played the *** of norman and paul they were just brilliant children are often left out of the *** list i think because the stars that play them all grown up are such a big *** for the whole film but these children are amazing and should be *** for what they have done don't you think the whole story was so lovely because it was true and was someone's life after all that was *** with us all\n"
          ],
          "name": "stdout"
        }
      ]
    },
    {
      "cell_type": "markdown",
      "metadata": {
        "id": "bqB0XxTDtS8G"
      },
      "source": [
        "## One hot Encoding\n",
        "\n",
        "Even though this problem is similar to the image classification problem that we saw, we cannot feed the word indices to our model directly. \n",
        "1. First, not all the reviews are the same length. \n",
        "1. Second, the same word in different reviews can occur at different position.\n",
        "\n",
        "For example the two reviews \" that was a good movie\" and \"That movie was good\" will be interpreted differently because the **same** words occur at different positions. So we need to do the following\n",
        "\n",
        "1. Truncate or pad all reviews to contain the same number of words\n",
        "1. Make sure the same word occurs at the same position in every review. This we do by using one hot encoding.\n",
        "\n",
        "Suppose that our vocabulary contains only 3 words labeled 1,2 and 3. Further, suppose that two reviews have the values [2,1]  and [1,2] respectively then the one hot representation of both is the same:\n",
        "[1,1,0] i.e. words 1 and 2 are present but 3 is missing\n",
        "\n",
        "**NOTE** our representation is a one-hot encoding for __sentences__  __not__ words like it is __usually__ done.\n",
        "\n"
      ]
    },
    {
      "cell_type": "markdown",
      "metadata": {
        "id": "owyL7pdcDqzq"
      },
      "source": [
        "## Implementation Details\n",
        "\n",
        "The indices of a numpy tensor can be arrays. For example suppose that we are given an array A of size _n_ filled with zeros and we need to set the values at positions 1,13,27 with 1. We can perform the operation in one statement as A[[1,13,27]]=1. Knowing that the function one_hot below goes through every review which is a array of indices and sets the corresponding positions to 1.\n",
        "\n",
        "Remember that not all sentences have the same length (i.e. number of words) but below we convert each sentence to a fixed sized representation"
      ]
    },
    {
      "cell_type": "code",
      "metadata": {
        "id": "kYprPNE5S-LD",
        "outputId": "475812c3-9ca7-41a0-ada0-f65982050287",
        "colab": {
          "base_uri": "https://localhost:8080/"
        }
      },
      "source": [
        "\n",
        "\n",
        "def one_hot(reviews, nb_words = max_words):\n",
        " res = np.zeros((len(reviews), nb_words))\n",
        " for i, review in enumerate(reviews):\n",
        "  res[i, review] = 1\n",
        " return res\n",
        "\n",
        "x_train_one_hot=one_hot(x_train)\n",
        "x_test_one_hot=one_hot(x_test)\n",
        "\n",
        "## W converted the sentences from variable\n",
        "## length to fixed length\n",
        "print(\"number of words in sentence {} is {}\".format(0,len(x_train[0])))\n",
        "print(\"number of words in sentence {} is {}\".format(1,len(x_train[1])))\n",
        "\n",
        "print(\"the shape of the one-hot encoding is {}\".format(x_train_one_hot.shape))\n"
      ],
      "execution_count": 4,
      "outputs": [
        {
          "output_type": "stream",
          "text": [
            "number of words in sentence 0 is 218\n",
            "number of words in sentence 1 is 189\n",
            "the shape of the one-hot encoding is (25000, 5000)\n"
          ],
          "name": "stdout"
        }
      ]
    },
    {
      "cell_type": "markdown",
      "metadata": {
        "id": "lwaHnGcabY4J"
      },
      "source": [
        "### Keras Model\n",
        "\n",
        "A Keras __model__ can be build from component __layers__. Later one we will look at the __functional__ API in Keras. Now, for simplicity, we will use the __Sequential__ Model which can be build by adding layers to it.\n",
        "\n",
        "We will build the __logistic regression__ model that we have used before and shown in the figure below\n",
        "\n",
        "![logistic](https://github.com/hikmatfarhat-ndu/CSC645/blob/master/figures/perceptron.png?raw=1)"
      ]
    },
    {
      "cell_type": "markdown",
      "metadata": {
        "id": "pWCsnqYkczYY"
      },
      "source": [
        "First we create a __Sequential__ Model"
      ]
    },
    {
      "cell_type": "code",
      "metadata": {
        "id": "xlRCL2Dec2u6"
      },
      "source": [
        "model=tf.keras.models.Sequential()"
      ],
      "execution_count": 6,
      "outputs": []
    },
    {
      "cell_type": "markdown",
      "metadata": {
        "id": "eD9OU_M_c5ec"
      },
      "source": [
        "Now we start adding __layers__ to it. From the figure above we can see that there are two layers: the __input__ and the __output__"
      ]
    },
    {
      "cell_type": "code",
      "metadata": {
        "id": "nwic_ig4Fdt3",
        "outputId": "9bfea69a-e858-41dc-b11a-5d2bb6eff6f4",
        "colab": {
          "base_uri": "https://localhost:8080/"
        }
      },
      "source": [
        "input_shape=(x_train_one_hot.shape[1],)\n",
        "input=tf.keras.layers.Input(shape=input_shape)\n",
        "model.add(input)\n",
        "output=tf.keras.layers.Dense(1,activation=\"sigmoid\")\n",
        "model.add(output)\n",
        "model.summary()\n"
      ],
      "execution_count": 7,
      "outputs": [
        {
          "output_type": "stream",
          "text": [
            "Model: \"sequential\"\n",
            "_________________________________________________________________\n",
            "Layer (type)                 Output Shape              Param #   \n",
            "=================================================================\n",
            "dense (Dense)                (None, 1)                 5001      \n",
            "=================================================================\n",
            "Total params: 5,001\n",
            "Trainable params: 5,001\n",
            "Non-trainable params: 0\n",
            "_________________________________________________________________\n"
          ],
          "name": "stdout"
        }
      ]
    },
    {
      "cell_type": "markdown",
      "metadata": {
        "id": "PO-p5RJuswxh"
      },
      "source": [
        "### Visual representation of the Model"
      ]
    },
    {
      "cell_type": "code",
      "metadata": {
        "id": "uPeGXZl2sz5Y",
        "outputId": "b5f5e6e4-254b-429d-843a-e6565b78fe89",
        "colab": {
          "base_uri": "https://localhost:8080/",
          "height": 201
        }
      },
      "source": [
        "tf.keras.utils.plot_model(model,show_shapes=True)"
      ],
      "execution_count": 8,
      "outputs": [
        {
          "output_type": "execute_result",
          "data": {
            "image/png": "[encoded data removed]",
            "text/plain": [
              "<IPython.core.display.Image object>"
            ]
          },
          "metadata": {
            "tags": []
          },
          "execution_count": 8
        }
      ]
    },
    {
      "cell_type": "markdown",
      "metadata": {
        "id": "dX8cGCoEkhr8"
      },
      "source": [
        "### Compiling the Model\n",
        "After building the model we need to find its optimal parameters with respect to the data. To do so we need to specify\n",
        "1. The optimizer function\n",
        "1. The loss function\n",
        "\n",
        "In this exercise we use the Adam optimizer which can be viewed as stochastic gradient descent with __variable__ learning rate"
      ]
    },
    {
      "cell_type": "code",
      "metadata": {
        "id": "bpbG1GQ0kez_"
      },
      "source": [
        "model.compile(optimizer=\"Adam\",loss=\"binary_crossentropy\",metrics=[\"accuracy\"])\n"
      ],
      "execution_count": 9,
      "outputs": []
    },
    {
      "cell_type": "markdown",
      "metadata": {
        "id": "pG5WJL4lyAMA"
      },
      "source": [
        "## Start trainning"
      ]
    },
    {
      "cell_type": "code",
      "metadata": {
        "id": "WURKvIopk6Xb",
        "outputId": "6441ad2e-61fd-415c-f628-e152badafee7",
        "colab": {
          "base_uri": "https://localhost:8080/"
        }
      },
      "source": [
        "history = model.fit(x_train_one_hot,y_train,batch_size=500,epochs=10)"
      ],
      "execution_count": 11,
      "outputs": [
        {
          "output_type": "stream",
          "text": [
            "Epoch 1/10\n",
            "50/50 [==============================] - 0s 5ms/step - loss: 0.6042 - accuracy: 0.7355\n",
            "Epoch 2/10\n",
            "50/50 [==============================] - 0s 5ms/step - loss: 0.4882 - accuracy: 0.8390\n",
            "Epoch 3/10\n",
            "50/50 [==============================] - 0s 5ms/step - loss: 0.4262 - accuracy: 0.8634\n",
            "Epoch 4/10\n",
            "50/50 [==============================] - 0s 5ms/step - loss: 0.3860 - accuracy: 0.8765\n",
            "Epoch 5/10\n",
            "50/50 [==============================] - 0s 5ms/step - loss: 0.3574 - accuracy: 0.8847\n",
            "Epoch 6/10\n",
            "50/50 [==============================] - 0s 6ms/step - loss: 0.3357 - accuracy: 0.8910\n",
            "Epoch 7/10\n",
            "50/50 [==============================] - 0s 5ms/step - loss: 0.3186 - accuracy: 0.8954\n",
            "Epoch 8/10\n",
            "50/50 [==============================] - 0s 5ms/step - loss: 0.3045 - accuracy: 0.8997\n",
            "Epoch 9/10\n",
            "50/50 [==============================] - 0s 5ms/step - loss: 0.2927 - accuracy: 0.9024\n",
            "Epoch 10/10\n",
            "50/50 [==============================] - 0s 5ms/step - loss: 0.2827 - accuracy: 0.9064\n"
          ],
          "name": "stdout"
        }
      ]
    },
    {
      "cell_type": "code",
      "metadata": {
        "id": "eweJcr0YmHV7",
        "outputId": "ccfdd67c-dde5-4091-fdc0-4f1c26bc9cb5",
        "colab": {
          "base_uri": "https://localhost:8080/"
        }
      },
      "source": [
        "model.evaluate(x_test_one_hot,y_test)\n"
      ],
      "execution_count": 12,
      "outputs": [
        {
          "output_type": "stream",
          "text": [
            "782/782 [==============================] - 1s 2ms/step - loss: 0.3226 - accuracy: 0.8802\n"
          ],
          "name": "stdout"
        },
        {
          "output_type": "execute_result",
          "data": {
            "text/plain": [
              "[0.32264354825019836, 0.8802000284194946]"
            ]
          },
          "metadata": {
            "tags": []
          },
          "execution_count": 12
        }
      ]
    },
    {
      "cell_type": "code",
      "metadata": {
        "id": "9Lh9JPjqmhDy",
        "outputId": "7ab454f8-dcc6-4ebe-f32d-85da01ac341e",
        "colab": {
          "base_uri": "https://localhost:8080/"
        }
      },
      "source": [
        "y=model.predict(x_test_one_hot)\n",
        "\n",
        "print(y.shape)\n",
        "sent=(y>=0.5).astype(int)\n",
        "print(np.squeeze(sent[0:15]))\n",
        "print(y_test[0:15])"
      ],
      "execution_count": 13,
      "outputs": [
        {
          "output_type": "stream",
          "text": [
            "(25000, 1)\n",
            "[0 1 1 1 1 1 1 0 1 1 1 0 0 0 1]\n",
            "[0 1 1 0 1 1 1 0 0 1 1 0 0 0 1]\n"
          ],
          "name": "stdout"
        }
      ]
    },
    {
      "cell_type": "markdown",
      "metadata": {
        "id": "2sJ-yv6dYJ8l"
      },
      "source": [
        "### History object contains a dictionary"
      ]
    },
    {
      "cell_type": "code",
      "metadata": {
        "id": "VamKirhQXbyo",
        "outputId": "d4c11961-125d-4f82-fc28-195c4b7229fb",
        "colab": {
          "base_uri": "https://localhost:8080/"
        }
      },
      "source": [
        "history.history.keys()"
      ],
      "execution_count": 22,
      "outputs": [
        {
          "output_type": "execute_result",
          "data": {
            "text/plain": [
              "dict_keys(['loss', 'accuracy'])"
            ]
          },
          "metadata": {
            "tags": []
          },
          "execution_count": 22
        }
      ]
    },
    {
      "cell_type": "code",
      "metadata": {
        "id": "o0o5WBJNYgWj",
        "outputId": "c313ccd0-1d81-4099-8c64-c106e078c03a",
        "colab": {
          "base_uri": "https://localhost:8080/",
          "height": 283
        }
      },
      "source": [
        "import matplotlib.pyplot as plt\n",
        "fig,ax=plt.subplots()\n",
        "ax.plot(history.epoch,history.history['loss'],label='Loss')\n",
        "ax.plot(history.epoch,history.history['accuracy'],label='accuracy')\n",
        "ax.set_xlabel('epochs')\n",
        "ax.set_xlim(0,10)\n",
        "ax.set_ylim(0,1)\n",
        "plt.xticks(range(0,11,1))\n",
        "plt.yticks(np.arange(0,1.1,0.1))\n",
        "ax.legend()\n",
        "plt.show()"
      ],
      "execution_count": 43,
      "outputs": [
        {
          "output_type": "display_data",
          "data": {
            "image/png": "[encoded data removed]",
            "text/plain": [
              "<Figure size 432x288 with 1 Axes>"
            ]
          },
          "metadata": {
            "tags": [],
            "needs_background": "light"
          }
        }
      ]
    },
    {
      "cell_type": "code",
      "metadata": {
        "id": "Yvm1Jm1KYdN8",
        "outputId": "84c7703d-5d6c-4a3d-d1d7-9b6271bdeb3b",
        "colab": {
          "base_uri": "https://localhost:8080/"
        }
      },
      "source": [
        "  history.epoch"
      ],
      "execution_count": 23,
      "outputs": [
        {
          "output_type": "execute_result",
          "data": {
            "text/plain": [
              "[0, 1, 2, 3, 4, 5, 6, 7, 8, 9]"
            ]
          },
          "metadata": {
            "tags": []
          },
          "execution_count": 23
        }
      ]
    },
    {
      "cell_type": "markdown",
      "metadata": {
        "id": "ItUdg_xKEvfA"
      },
      "source": [
        "## Word Embedding\n",
        "\n",
        "Our previous approach to modelling sentences does not take into account the syntax. It decides on a sentiment according to the presence or absence of certain words, regardless where they occur in the sentence. For this type of data it seems that this shortcoming doesn't matter but for other applications the particular sequencing of words is important. We could use one-hot encoding __per word__ instead of __per sentence__ like we did above but this becomes infeasible of the number of words is large. Instead we use what is called __word embedding__"
      ]
    },
    {
      "cell_type": "markdown",
      "metadata": {
        "id": "vhj6BKTLI6UZ"
      },
      "source": [
        "### Embedding Layer Example\n",
        "\n",
        "As an example consider two __integer sequences__ representing two __sentences__ where each sequence contains the integer representation of words and the largesst word encoding is 9. Using an embedding layer we convert each word into a __three dimensional__ vector."
      ]
    },
    {
      "cell_type": "code",
      "metadata": {
        "id": "6inT2mdzI5Rl"
      },
      "source": [
        "\n",
        "## this input simulates 2 samples of sequences of length 4 where the largest value is 9\n",
        "input_array=np.array([[1,8,3,4],[5,3,2,9]])\n",
        "elayer=tf.keras.layers.Embedding(10,3,input_length=4)\n",
        "\n",
        "e=elayer(input_array)\n",
        "print(e.shape)\n",
        "print(e)"
      ],
      "execution_count": null,
      "outputs": []
    },
    {
      "cell_type": "markdown",
      "metadata": {
        "id": "81dCUlWSI8v_"
      },
      "source": [
        "## Using the Embedding Layer "
      ]
    },
    {
      "cell_type": "code",
      "metadata": {
        "id": "OYBCzczk8afa"
      },
      "source": [
        "x_train=pad_sequences(x_train,maxlen=500)\n",
        "x_test=pad_sequences(x_test,maxlen=500)\n",
        "embedding_dim=32\n",
        "model=tf.keras.models.Sequential()\n",
        "model.add(tf.keras.layers.Embedding(max_words,embedding_dim,input_length=500))\n",
        "model.add(tf.keras.layers.Flatten())\n",
        "model.add(tf.keras.layers.Dense(1,activation=\"sigmoid\"))\n",
        "model.summary()\n",
        "tf.keras.utils.plot_model(model,show_shapes=True)\n",
        "\n"
      ],
      "execution_count": null,
      "outputs": []
    },
    {
      "cell_type": "code",
      "metadata": {
        "id": "3Abq0sb2tefr"
      },
      "source": [
        "model.compile(optimizer=tf.keras.optimizers.Adam(),loss=tf.keras.losses.BinaryCrossentropy(),\n",
        "    metrics=[\"accuracy\"])\n",
        "history = model.fit(\n",
        "    x_train,\n",
        "    y_train,\n",
        "    batch_size=500,\n",
        "    epochs=20)"
      ],
      "execution_count": null,
      "outputs": []
    },
    {
      "cell_type": "code",
      "metadata": {
        "id": "a_iWQf8z186j"
      },
      "source": [
        "model.evaluate(x_test,y_test)"
      ],
      "execution_count": null,
      "outputs": []
    },
    {
      "cell_type": "code",
      "metadata": {
        "id": "Mh6ebifW2Bc3"
      },
      "source": [
        ""
      ],
      "execution_count": null,
      "outputs": []
    }
  ]
}