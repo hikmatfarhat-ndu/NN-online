{
 "cells": [
  {
   "cell_type": "code",
   "execution_count": 74,
   "metadata": {},
   "outputs": [
    {
     "name": "stdout",
     "output_type": "stream",
     "text": [
      "tensor([[-2.8918,  0.4742,  0.6208,  0.3573],\n",
      "        [-0.0795,  0.4714,  2.0265,  0.6418],\n",
      "        [ 0.9364, -0.0040, -0.2763,  0.8219],\n",
      "        [ 0.4053,  0.1325, -0.0042, -0.3059]])\n",
      "tensor([[-2.3667, -0.2812, -2.5162, -1.1943],\n",
      "        [ 0.2673, -0.0846, -0.6763,  0.1132],\n",
      "        [ 0.3349, -0.0052, -0.7993, -0.3788],\n",
      "        [-0.3790, -0.4033, -0.3808,  1.2394]])\n"
     ]
    }
   ],
   "source": [
    "import torch\n",
    "torch.manual_seed(6)\n",
    "x = torch.randn(4, 4, requires_grad=True)\n",
    "y = torch.randn(4, 4, requires_grad=True)\n",
    "u = torch.randn(4, 4, requires_grad=True)\n",
    "z = x * y*u\n",
    "l = z.sum()\n",
    "l.backward()\n",
    "print(x.grad)\n",
    "print(y.grad)\n"
   ]
  },
  {
   "cell_type": "code",
   "execution_count": 75,
   "metadata": {},
   "outputs": [],
   "source": [
    "\n",
    "torch.manual_seed(6)\n",
    "x = torch.randn(4, 4, requires_grad=True)\n",
    "y = torch.randn(4, 4, requires_grad=True)\n",
    "u = torch.randn(4, 4, requires_grad=True)\n",
    "z = x * y*u\n",
    "\n",
    "l = z.sum()\n"
   ]
  },
  {
   "cell_type": "code",
   "execution_count": 83,
   "metadata": {},
   "outputs": [
    {
     "name": "stdout",
     "output_type": "stream",
     "text": [
      "['__call__', '__class__', '__delattr__', '__dir__', '__doc__', '__eq__', '__format__', '__ge__', '__getattribute__', '__gt__', '__hash__', '__init__', '__init_subclass__', '__le__', '__lt__', '__ne__', '__new__', '__reduce__', '__reduce_ex__', '__repr__', '__setattr__', '__sizeof__', '__str__', '__subclasshook__', '_register_hook_dict', '_saved_self_sym_sizes', 'metadata', 'name', 'next_functions', 'register_hook', 'register_prehook', 'requires_grad']\n",
      "False\n"
     ]
    }
   ],
   "source": [
    "import inspect\n",
    "\n",
    "dl = torch.tensor(1.)\n",
    "back_sum = l.grad_fn\n",
    "dz = back_sum(dl)\n",
    "back_mul = back_sum.next_functions[0][0]\n",
    "\n",
    "dx, dy = back_mul(dz)\n",
    "back_x = back_mul.next_functions[0][0]\n",
    "back_x(dx)\n",
    "back_y = back_mul.next_functions[1][0]\n",
    "back_y(dy)\n",
    "print(dir(back_sum))\n",
    "#print(back_sum._register_hook_dict(1))\n",
    "#print(type(back_mul))\n",
    "#print(id(back_mul))\n",
    "#print(back_x)\n",
    "#print(x.grad)\n",
    "#print(z.grad)\n",
    "print(l.equal(back_mul._saved_self))\n",
    "\n",
    "#q=[]\n",
    "#q.append(back_sum)\n",
    "#while len(q)!=0:\n",
    "#    n=q.pop(0)\n",
    "#   \n",
    "#    for next in n.next_functions:\n",
    "#        q.append(next[0])\n",
    "#        print(type(n).__name__,\"->\",type(next[0]).__name__)\n",
    "\n"
   ]
  },
  {
   "cell_type": "code",
   "execution_count": 77,
   "metadata": {},
   "outputs": [
    {
     "name": "stdout",
     "output_type": "stream",
     "text": [
      "((<UnbindBackward0 object at 0x7faa4b9bf2e0>, 0), (<UnbindBackward0 object at 0x7faa4b9bf2e0>, 1))\n"
     ]
    }
   ],
   "source": [
    "a, b = torch.randn(2, requires_grad=True).unbind()\n",
    "c = a+b\n",
    "print(c.grad_fn.next_functions)"
   ]
  },
  {
   "cell_type": "code",
   "execution_count": 78,
   "metadata": {},
   "outputs": [
    {
     "name": "stdout",
     "output_type": "stream",
     "text": [
      "True\n",
      "True\n"
     ]
    }
   ],
   "source": [
    "x = torch.randn(5, requires_grad=True)\n",
    "y = x.pow(2)\n",
    "print(x.equal(y.grad_fn._saved_self))  # True\n",
    "print(x is y.grad_fn._saved_self)  # True\n"
   ]
  },
  {
   "cell_type": "code",
   "execution_count": 113,
   "metadata": {},
   "outputs": [
    {
     "name": "stdout",
     "output_type": "stream",
     "text": [
      "tensor([0.4389], requires_grad=True)\n",
      "tensor([0.2748], requires_grad=True)\n",
      "tensor([0.9068], requires_grad=True)\n",
      "tensor([0.7684], requires_grad=True)\n"
     ]
    }
   ],
   "source": [
    "x=torch.rand(1,requires_grad=True)\n",
    "y=torch.rand(1,requires_grad=True)\n",
    "z=torch.rand(1,requires_grad=True)\n",
    "w=torch.rand(1,requires_grad=True)\n",
    "l=x*y*z*w\n",
    "print(x)\n",
    "print(y)\n",
    "print(z)\n",
    "print(w)\n",
    "dl=l.grad_fn.next_functions"
   ]
  },
  {
   "cell_type": "code",
   "execution_count": 114,
   "metadata": {},
   "outputs": [
    {
     "name": "stdout",
     "output_type": "stream",
     "text": [
      "tensor([0.1094], grad_fn=<MulBackward0>)\n"
     ]
    }
   ],
   "source": [
    "print(l.grad_fn._saved_self)\n"
   ]
  },
  {
   "cell_type": "code",
   "execution_count": 121,
   "metadata": {},
   "outputs": [
    {
     "data": {
      "text/plain": [
       "()"
      ]
     },
     "execution_count": 121,
     "metadata": {},
     "output_type": "execute_result"
    }
   ],
   "source": [
    "dl[1][0](torch.tensor(1.))"
   ]
  },
  {
   "cell_type": "code",
   "execution_count": 122,
   "metadata": {},
   "outputs": [
    {
     "name": "stdout",
     "output_type": "stream",
     "text": [
      "None None None tensor([1.])\n"
     ]
    }
   ],
   "source": [
    "print(x.grad,y.grad,z.grad,w.grad)"
   ]
  },
  {
   "cell_type": "code",
   "execution_count": null,
   "metadata": {},
   "outputs": [],
   "source": []
  }
 ],
 "metadata": {
  "kernelspec": {
   "display_name": "Python 3.10.6 64-bit",
   "language": "python",
   "name": "python3"
  },
  "language_info": {
   "codemirror_mode": {
    "name": "ipython",
    "version": 3
   },
   "file_extension": ".py",
   "mimetype": "text/x-python",
   "name": "python",
   "nbconvert_exporter": "python",
   "pygments_lexer": "ipython3",
   "version": "3.10.6"
  },
  "orig_nbformat": 4,
  "vscode": {
   "interpreter": {
    "hash": "916dbcbb3f70747c44a77c7bcd40155683ae19c65e1c03b4aa3499c5328201f1"
   }
  }
 },
 "nbformat": 4,
 "nbformat_minor": 2
}
