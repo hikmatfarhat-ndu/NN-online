{
  "nbformat": 4,
  "nbformat_minor": 0,
  "metadata": {
    "accelerator": "GPU",
    "colab": {
      "name": "dcgan.ipynb",
      "provenance": [],
      "collapsed_sections": [],
      "include_colab_link": true
    },
    "kernelspec": {
      "name": "python3",
      "display_name": "Python 3.6.8 64-bit",
      "metadata": {
        "interpreter": {
          "hash": "ffa8138a954375a0eba8eca80543292cc4faeae39ef0340fcb1267261a1ca77f"
        }
      }
    }
  },
  "cells": [
    {
      "cell_type": "markdown",
      "metadata": {
        "id": "view-in-github",
        "colab_type": "text"
      },
      "source": [
        "<a href=\"https://colab.research.google.com/github/hikmatfarhat-ndu/NN-online/blob/main/dcgan.ipynb\" target=\"_parent\"><img src=\"https://colab.research.google.com/assets/colab-badge.svg\" alt=\"Open In Colab\"/></a>"
      ]
    },
    {
      "cell_type": "markdown",
      "metadata": {
        "id": "rF2x3qooyBTI"
      },
      "source": [
        "# Deep Convolutional Generative Adversarial Network"
      ]
    },
    {
      "cell_type": "markdown",
      "metadata": {
        "id": "48byh00OnIU8"
      },
      "source": [
        "### Generator and Discriminator as Adversaries\n",
        "\n",
        "In this exercise we build __two__ neural networks, a __generator__ and a __discrimintor__, that act as __adversaries__. The generator will generate images of digits to fool the discriminator and the discriminator tries to tell the fake (generated) from the real (from the MNIST dataset).\n",
        "\n",
        "The image below shows our setup which can be summarized as follows\n",
        "\n",
        "1. The generator generates a fake image.\n",
        "1. The fake image, along with a real one, are fed to the discriminator.\n",
        "1. The discriminator has to predict if an image is real (1) or fake (0)\n",
        "1. Both predictions of the discriminator are fed back into the discriminator and the fake prediction into the generator.\n",
        "1. The losses are as follows:\n",
        "a. For the generator: a small loss means the more fakes are fooling the discriminator, i.e. the discriminator is labeling the fakes as real (1)\n",
        "b. For the discriminator: combine how well it is detecting reals (1) and fakes(0)\n"
      ]
    },
    {
      "source": [
        "![image](figures/gan.png)"
      ],
      "cell_type": "markdown",
      "metadata": {}
    },
    {
      "cell_type": "code",
      "metadata": {
        "id": "WZKbyU2-AiY-"
      },
      "source": [
        "import tensorflow as tf\n",
        "import matplotlib.pyplot as plt\n",
        "import numpy as np\n",
        "from tensorflow.keras import layers\n",
        "tf.__version__\n",
        "from IPython import display\n"
      ],
      "execution_count": 1,
      "outputs": []
    },
    {
      "cell_type": "markdown",
      "metadata": {
        "id": "iYn4MdZnKCey"
      },
      "source": [
        "### Load and prepare the dataset\n",
        "\n",
        "You will use the MNIST dataset to train the generator and the discriminator. The generator will generate handwritten digits resembling the MNIST data. Scale the pixel values for better stability/convergence"
      ]
    },
    {
      "cell_type": "code",
      "metadata": {
        "id": "a4fYMGxGhrna"
      },
      "source": [
        "(train_images, train_labels), (_, _) = tf.keras.datasets.mnist.load_data()\n",
        "train_images = train_images.reshape(train_images.shape[0], 28, 28, 1).astype('float32')\n",
        "train_images=train_images/255."
      ],
      "execution_count": 2,
      "outputs": []
    },
    {
      "cell_type": "code",
      "metadata": {
        "id": "lJw6AFBQwteB",
        "colab": {
          "base_uri": "https://localhost:8080/"
        },
        "outputId": "b15cf683-4608-4468-8fa0-dde43441d5db"
      },
      "source": [
        "train_images.shape"
      ],
      "execution_count": 3,
      "outputs": [
        {
          "output_type": "execute_result",
          "data": {
            "text/plain": [
              "(60000, 28, 28, 1)"
            ]
          },
          "metadata": {},
          "execution_count": 3
        }
      ]
    },
    {
      "source": [
        "### Create a suffled dataset with batches"
      ],
      "cell_type": "markdown",
      "metadata": {}
    },
    {
      "cell_type": "code",
      "metadata": {
        "id": "S4PIDhoDLbsZ"
      },
      "source": [
        "BUFFER_SIZE = 60000\n",
        "BATCH_SIZE = 256\n",
        "train_dataset = tf.data.Dataset.from_tensor_slices(train_images).shuffle(BUFFER_SIZE).batch(BATCH_SIZE)"
      ],
      "execution_count": 4,
      "outputs": []
    },
    {
      "cell_type": "markdown",
      "metadata": {
        "id": "oUwuk_IGYM0H"
      },
      "source": [
        "### Batch Normalization\n",
        "In the presence of ReLU like activations batch normalization can help with the stability and convergence of the model. For a given __feature__ the data is normalized (center around the mean and scaled by the standard deviation).\n",
        "\n",
        "Example"
      ]
    },
    {
      "cell_type": "code",
      "metadata": {
        "id": "jH01QYgaxhe9",
        "colab": {
          "base_uri": "https://localhost:8080/"
        },
        "outputId": "76d5ac25-c40f-4254-96d3-564fc3995391"
      },
      "source": [
        "a=np.array([[1,2,3],[4,5,6],[7,8,9]]).astype('float32')\n",
        "print(np.mean(a,axis=1))\n",
        "print(np.std(a,axis=1))\n",
        "bn=layers.BatchNormalization()\n",
        "bn(a,training=True)"
      ],
      "execution_count": 5,
      "outputs": [
        {
          "output_type": "stream",
          "name": "stdout",
          "text": [
            "[2. 5. 8.]\n[0.8164966 0.8164966 0.8164966]\n"
          ]
        },
        {
          "output_type": "execute_result",
          "data": {
            "text/plain": [
              "<tf.Tensor: shape=(3, 3), dtype=float32, numpy=\n",
              "array([[-1.2246428, -1.2246429, -1.2246428],\n",
              "       [ 0.       ,  0.       ,  0.       ],\n",
              "       [ 1.2246428,  1.2246428,  1.224643 ]], dtype=float32)>"
            ]
          },
          "metadata": {},
          "execution_count": 5
        }
      ]
    },
    {
      "cell_type": "markdown",
      "metadata": {
        "id": "THY-sZMiQ4UV"
      },
      "source": [
        "## The models"
      ]
    },
    {
      "source": [
        "### Generator"
      ],
      "cell_type": "markdown",
      "metadata": {}
    },
    {
      "cell_type": "code",
      "metadata": {
        "id": "6bpTcDqoLWjY"
      },
      "source": [
        "def make_generator_model():\n",
        "    model = tf.keras.Sequential()\n",
        "    model.add(layers.Dense(7*7*256, use_bias=False, input_shape=(100,)))\n",
        "    model.add(layers.BatchNormalization())\n",
        "    model.add(layers.LeakyReLU())\n",
        "    model.add(layers.Reshape((7, 7, 256)))\n",
        "    #START upsampling\n",
        "    model.add(layers.Conv2DTranspose(128, (5, 5), strides=(1, 1), padding='same', use_bias=False))\n",
        "    model.add(layers.BatchNormalization())\n",
        "    model.add(layers.LeakyReLU())\n",
        "\n",
        "    model.add(layers.Conv2DTranspose(64, (5, 5), strides=(2, 2), padding='same', use_bias=False))\n",
        "    model.add(layers.BatchNormalization())\n",
        "    model.add(layers.LeakyReLU())\n",
        "    # the sigmoid activation has NO probabilistic interpretation, \n",
        "    # it used just to scale the output in the interval [0,1]\n",
        "    # Like the real images\n",
        "    model.add(layers.Conv2DTranspose(1, (5, 5), strides=(2, 2), padding='same', use_bias=False, activation='sigmoid'))\n",
        "\n",
        "    return model"
      ],
      "execution_count": 6,
      "outputs": []
    },
    {
      "source": [
        "### Discriminator"
      ],
      "cell_type": "markdown",
      "metadata": {}
    },
    {
      "cell_type": "code",
      "metadata": {
        "id": "dw2tPLmk2pEP"
      },
      "source": [
        "def make_discriminator_model():\n",
        "    model = tf.keras.Sequential()\n",
        "    model.add(layers.Input(shape=(28,28,1)))\n",
        "    model.add(layers.Conv2D(64, (5, 5), strides=(2, 2), padding='same'))\n",
        "    model.add(layers.LeakyReLU())\n",
        "    model.add(layers.Dropout(0.3))\n",
        "\n",
        "    model.add(layers.Conv2D(128, (5, 5), strides=(2, 2), padding='same'))\n",
        "    model.add(layers.LeakyReLU())\n",
        "    model.add(layers.Dropout(0.3))\n",
        "\n",
        "    model.add(layers.Flatten())\n",
        "    model.add(layers.Dense(1))\n",
        "\n",
        "    return model"
      ],
      "execution_count": 7,
      "outputs": []
    },
    {
      "cell_type": "code",
      "execution_count": 8,
      "metadata": {},
      "outputs": [],
      "source": [
        "generator = make_generator_model()\n",
        "discriminator=make_discriminator_model()"
      ]
    },
    {
      "cell_type": "markdown",
      "metadata": {
        "id": "0FMYgY_mPfTi"
      },
      "source": [
        "## Define the loss and optimizers\n",
        "\n",
        "Define loss functions and optimizers for both models. "
      ]
    },
    {
      "cell_type": "code",
      "metadata": {
        "id": "psQfmXxYKU3X"
      },
      "source": [
        "# This method returns a helper function to compute cross entropy loss\n",
        "cross_entropy = tf.keras.losses.BinaryCrossentropy(from_logits=True)"
      ],
      "execution_count": 9,
      "outputs": []
    },
    {
      "cell_type": "markdown",
      "metadata": {
        "id": "PKY_iPSPNWoj"
      },
      "source": [
        "### Discriminator loss\n",
        "\n",
        "This method quantifies how well the discriminator is able to distinguish real images from fakes. It compares the discriminator's predictions on real images to an array of 1s, and the discriminator's predictions on fake (generated) images to an array of 0s."
      ]
    },
    {
      "cell_type": "code",
      "metadata": {
        "id": "wkMNfBWlT-PV"
      },
      "source": [
        "def discriminator_loss(real_output, fake_output):\n",
        "    real_loss = cross_entropy(tf.ones_like(real_output), real_output)\n",
        "    fake_loss = cross_entropy(tf.zeros_like(fake_output), fake_output)\n",
        "    total_loss = real_loss + fake_loss\n",
        "    return total_loss"
      ],
      "execution_count": 10,
      "outputs": []
    },
    {
      "cell_type": "markdown",
      "metadata": {
        "id": "Jd-3GCUEiKtv"
      },
      "source": [
        "### Generator loss\n",
        "The generator's loss quantifies how well it was able to trick the discriminator. Intuitively, if the generator is performing well, the discriminator will classify the fake images as real (or 1). Here, we will compare the discriminators decisions on the generated images to an array of 1s.\n",
        "\n",
        "It is __important__ to note that the generator loss is computed over the __discriminator__'s output for \"fake\" images __NOT__ the generator's output"
      ]
    },
    {
      "cell_type": "code",
      "metadata": {
        "id": "90BIcCKcDMxz"
      },
      "source": [
        "def generator_loss(fake_output):\n",
        "    return cross_entropy(tf.ones_like(fake_output), fake_output)"
      ],
      "execution_count": 11,
      "outputs": []
    },
    {
      "cell_type": "markdown",
      "metadata": {
        "id": "MgIc7i0th_Iu"
      },
      "source": [
        "We would like for the two model to learn at the same rate"
      ]
    },
    {
      "cell_type": "code",
      "metadata": {
        "id": "iWCn_PVdEJZ7"
      },
      "source": [
        "learning_rate=0.0005\n",
        "generator_optimizer = tf.keras.optimizers.Adam(learning_rate)\n",
        "discriminator_optimizer = tf.keras.optimizers.Adam(learning_rate)"
      ],
      "execution_count": 12,
      "outputs": []
    },
    {
      "cell_type": "markdown",
      "metadata": {
        "id": "mWtinsGDPJlV"
      },
      "source": [
        "### Save checkpoints\n",
        "This notebook also demonstrates how to save and restore models, which can be helpful in case a long running training task is interrupted."
      ]
    },
    {
      "cell_type": "code",
      "metadata": {
        "id": "CA1w-7s2POEy"
      },
      "source": [
        "checkpoint_dir='c:/Users/hikmat/Downloads/training_checkpoints'\n",
        "checkpoint_prefix = 'c:/Users/hikmat/Downloads/training_checkpoints/ckpt'\n",
        "checkpoint = tf.train.Checkpoint(generator_optimizer=generator_optimizer,\n",
        "                                 discriminator_optimizer=discriminator_optimizer,\n",
        "                                 generator=generator,\n",
        "                                 discriminator=discriminator)"
      ],
      "execution_count": 13,
      "outputs": []
    },
    {
      "cell_type": "markdown",
      "metadata": {
        "id": "Rw1fkAczTQYh"
      },
      "source": [
        "## Define the training loop\n"
      ]
    },
    {
      "cell_type": "code",
      "metadata": {
        "id": "NS2GWywBbAWo"
      },
      "source": [
        "EPOCHS = 50\n",
        "noise_dim = 100"
      ],
      "execution_count": 14,
      "outputs": []
    },
    {
      "cell_type": "markdown",
      "metadata": {
        "id": "jylSonrqSWfi"
      },
      "source": [
        "The training loop begins with generator receiving a random seed as input. That seed is used to produce an image. The discriminator is then used to classify real images (drawn from the training set) and fakes images (produced by the generator). The loss is calculated for each of these models, and the gradients are used to update the generator and discriminator.\n",
        "### Single step learning"
      ]
    },
    {
      "cell_type": "code",
      "metadata": {
        "id": "3t5ibNo05jCB"
      },
      "source": [
        "# Notice the use of `tf.function`\n",
        "# This annotation causes the function to be \"compiled\".\n",
        "@tf.function\n",
        "def train_step(images):\n",
        "    noise = tf.random.normal([BATCH_SIZE, noise_dim])\n",
        "\n",
        "    with tf.GradientTape() as gen_tape, tf.GradientTape() as disc_tape:\n",
        "      generated_images = generator(noise, training=True)\n",
        "\n",
        "      real_output = discriminator(images, training=True)\n",
        "      fake_output = discriminator(generated_images, training=True)\n",
        "\n",
        "      gen_loss = generator_loss(fake_output)\n",
        "      disc_loss = discriminator_loss(real_output, fake_output)\n",
        "\n",
        "    gradients_of_generator = gen_tape.gradient(gen_loss, generator.trainable_variables)\n",
        "    gradients_of_discriminator = disc_tape.gradient(disc_loss, discriminator.trainable_variables)\n",
        "\n",
        "    generator_optimizer.apply_gradients(zip(gradients_of_generator, generator.trainable_variables))\n",
        "    discriminator_optimizer.apply_gradients(zip(gradients_of_discriminator, discriminator.trainable_variables))"
      ],
      "execution_count": 15,
      "outputs": []
    },
    {
      "source": [
        "Run the train_step method a number of EPOCHS. At the end of each epoch use the trained generator to generate images and plot them."
      ],
      "cell_type": "markdown",
      "metadata": {}
    },
    {
      "cell_type": "code",
      "metadata": {
        "id": "2M7LmLtGEMQJ"
      },
      "source": [
        "def train(dataset, epochs):\n",
        "  for epoch in range(epochs):\n",
        "\n",
        "    for image_batch in dataset:\n",
        "      train_step(image_batch)\n",
        "\n",
        "    # Display a sample of generated images\n",
        "    # after each epoch\n",
        "    display.clear_output(wait=True)\n",
        "    plot_images(generator,epoch)\n",
        "\n",
        "    # Save the model every 20 epochs\n",
        "    if (epoch + 1) % 20 == 0:\n",
        "      checkpoint.save(file_prefix = checkpoint_prefix)\n"
      ],
      "execution_count": 16,
      "outputs": []
    },
    {
      "cell_type": "markdown",
      "metadata": {
        "id": "2aFF7Hk3XdeW"
      },
      "source": [
        "### Function to generate and plot the images\n"
      ]
    },
    {
      "cell_type": "code",
      "metadata": {
        "id": "RmdVsmvhPxyy"
      },
      "source": [
        "def plot_images(model,epoch):\n",
        "  nsamples=24\n",
        "  ## generate random vectors for \n",
        "  ## nsamples images\n",
        "  ran = tf.random.normal([nsamples, noise_dim])\n",
        "  predictions=model.predict(ran)\n",
        "\n",
        "  fig = plt.figure(figsize=(4,nsamples//4))\n",
        "  #fig.tight_layout()\n",
        "  plt.subplots_adjust( wspace=0.2, hspace=0.2)\n",
        "\n",
        "  for i in range(predictions.shape[0]):\n",
        "      t=fig.add_subplot(4, nsamples//4, i+1)\n",
        "      plt.imshow(predictions[i, :, :, 0], cmap='gray_r')\n",
        "      plt.axis('off')\n",
        "  fig.suptitle(\"epoch\"+str(epoch))\n",
        "  plt.show()"
      ],
      "execution_count": 17,
      "outputs": []
    },
    {
      "cell_type": "markdown",
      "metadata": {
        "id": "dZrd4CdjR-Fp"
      },
      "source": [
        "## Main loop\n",
        "This model needs at least 100 epochs to start generating decent looking digits.\n",
        "Each epoch can take between 6 seconds and 2 minutes depending on the used GPU/CPU"
      ]
    },
    {
      "cell_type": "code",
      "metadata": {
        "id": "Ly3UN0SLLY2l",
        "colab": {
          "base_uri": "https://localhost:8080/",
          "height": 248
        },
        "outputId": "88214c92-5a21-4c24-c161-8dbb06442eb8"
      },
      "source": [
        "checkpoint.restore(tf.train.latest_checkpoint(checkpoint_dir))\n",
        "train(train_dataset, EPOCHS)"
      ],
      "execution_count": 18,
      "outputs": [
        {
          "output_type": "display_data",
          "data": {
            "text/plain": "<Figure size 288x432 with 24 Axes>",
            "image/svg+xml": "<?xml version=\"1.0\" encoding=\"utf-8\" standalone=\"no\"?>\r\n<!DOCTYPE svg PUBLIC \"-//W3C//DTD SVG 1.1//EN\"\r\n  \"http://www.w3.org/Graphics/SVG/1.1/DTD/svg11.dtd\">\r\n<!-- Created with matplotlib (https://matplotlib.org/) -->\r\n<svg height=\"364.250683pt\" version=\"1.1\" viewBox=\"0 0 237.6 364.250683\" width=\"237.6pt\" xmlns=\"http://www.w3.org/2000/svg\" xmlns:xlink=\"http://www.w3.org/1999/xlink\">\r\n <defs>\r\n  <style type=\"text/css\">\r\n*{stroke-linecap:butt;stroke-linejoin:round;}\r\n  </style>\r\n </defs>\r\n <g id=\"figure_1\">\r\n  <g id=\"patch_1\">\r\n   <path d=\"M 0 364.250683 \r\nL 237.6 364.250683 \r\nL 237.6 0 \r\nL 0 0 \r\nz\r\n\" style=\"fill:none;\"/>\r\n  </g>\r\n  <g id=\"axes_1\">\r\n   <g clip-path=\"url(#p126f6fd5df)\">\r\n    <image height=\"32\" id=\"image0338d7683b\" transform=\"scale(1 -1)translate(0 -32)\" width=\"32\" x=\"7.2\" xlink:href=\"data:image/png;base64,\r\niVBORw0KGgoAAAANSUhEUgAAACAAAAAgCAYAAABzenr0AAAABHNCSVQICAgIfAhkiAAAAb1JREFUWIXtlTHK4lAUhT9DJAbUKNgY0Mol2Fq6AEvBIuA6XIW9nVVaQWJjF0HcQYoEQUyjiEhQRO9UM1gNMckoP8zpUpx3P8497yUnIsIXpXxz+M8DEBGy3tjPSOB2u1Eul1EUBUVRWCwWmSURC0DTNAaDwZ/v8XjM8/nMBACJqd1uJ4AAouu6+L4f1/pXxe5AvV7HMAwMw0BVVY7HYyYB5N55iLbbLQDD4ZAwDNlsNmialgrgrVtgmiamadLtdvF9n+l0mmo4EL8Drzqfz1IsFkXXdZnP55/pwL/SWx141el0wjRNDMNgv98nBkicQKVSwbIswjDkcDgkBkjUgd8Kw1AA6ff7cr/fE52RCkBEBBDDMMR13UT+1CVst9tEUcTtdkv2t0ybwOPxkGazKZZlSRRFEkXRZxNQFIVer8dsNsO2bWzbfs+fFiCtEr8Dr7per9RqNRqNBgCu61KtVmN51bTDAQqFApPJBMdxALhcLrEBMltBp9PB8zw8z2O9Xsf2ZQZQKpUIgoAgCFgul7F9mawAIJ/P02q1AFitVogIuVzucwCqqjIajQBwHCfWcMjoFqTR19+B/wBfB/gFvPXeb9qIwYAAAAAASUVORK5CYII=\" y=\"-69.795031\"/>\r\n   </g>\r\n  </g>\r\n  <g id=\"axes_2\">\r\n   <g clip-path=\"url(#pd9a1a230ad)\">\r\n    <image height=\"32\" id=\"imagef313a49db4\" transform=\"scale(1 -1)translate(0 -32)\" width=\"32\" x=\"45.462857\" xlink:href=\"data:image/png;base64,\r\niVBORw0KGgoAAAANSUhEUgAAACAAAAAgCAYAAABzenr0AAAABHNCSVQICAgIfAhkiAAAA8pJREFUWIXtl71LK00Uxp8ddzcfaz4KjUmpiILBUrSwMJVICq0UtbXwT9BaQcQ/QFRSWAhqIbZKsNUihVWC+IEaJSox+EmyMTvPW9zroqhJfF9evMV9YGBhzsz5zZkzZ2YVksQPSvyk878AfwSAWo2RZVl4fHzE4eEhACCTyWB+fh6pVAo3Nzfwer0wDAMTExMAgJGREbjdbiiKUnlyllGpVGIqleLMzAxbWlqoqipVVaWiKHYDYLfX/kAgwEgkwoWFBT4/P5dzwS8BLMvi3Nwcm5qaWFtbSyGE7UhRFOq6TsMw6PF4aBgGHQ7HO6jX71AoxHg8/n2A3d1dhkIhappGTdPodDrp9/vp9/s5NDTEdDrNXC7Hs7Mznp6eMpFIMBaLMRaLMRgMUtM0G9jj8fDm5qZ6ACkl+/r6qOs6/X4/x8fHeXJywoODAx4cHFQMq2VZPD8/Z21trQ0xPDxcPUCpVGJdXR0VRWE0GmU2m6WU8h1gJUkpuba2Zm9dMBiklPLD2E+P4cvLC1RVBUlcXl4ikUjg+voapmnCNE3wTfUmCSklpJT4vSD7u66uDpqmAQDu7u5su7f6M+uAoihoaWlBNptFNpvF8vIyenp60NzcDADo7u6Gruu2raIoIIlSqQQAyOfzAIBkMmnXAiklhPi43k8BNE3D2NgYHh4e4PV6sbu7i0wmg4GBAQBAV1eXDfAW+jXcxWIR+Xwe29vbKBaLAACn01l9BIQQ6O/vh8/nw97eHgzDgJQSbW1tAACHw/HpZK9yu91IpVLY29uz9/wrgLKV0LIsmqbJQqHAl5eXipn/9gTs7+/T4XDYx7C3t/dT27J3gRDiQ6irEUns7OzAsiwAv7Z0dnb2+xH4tyoWi+zo6CAACiHY2NjIQqHwqW1VAPf398zlcrQsi5ZllXVcLBY5NTVFTdOoKAqDwSC3tra+HPPjdaBiBJ6fn9nX10efz8f29na2t7dzc3OTR0dHjMfjPD4+5tXVFZPJJEdHRzk6OmqXX4/Hw5WVFZZKpS/nrwhwe3vLzs5OqqpKIQSFEPR6vWxoaGBraysjkQjD4TB9Pp/dD4C6rnNxcbGs86oApJRcWlpiMBi07/hXGJfLRYfD8e6tgN+J19PTw4eHh0rTV5eE+Xyek5OTdLlctlNVVd85BWD3Dw4OMp1Ol03YVylkdT8mpmlidXUVwK8av7GxgYuLCxQKBQghEAgEMD09DQCIRqOor69HTU3Nf0/CzySl5NPTE+PxOMPhMBsbG7m+vk7TNGmaZlXvhW9H4P/Sj9eBvwA/DvAP8ITJzhmkRx8AAAAASUVORK5CYII=\" y=\"-69.795031\"/>\r\n   </g>\r\n  </g>\r\n  <g id=\"axes_3\">\r\n   <g clip-path=\"url(#pa0c13ecd55)\">\r\n    <image height=\"32\" id=\"imagea227433af4\" transform=\"scale(1 -1)translate(0 -32)\" width=\"32\" x=\"83.725714\" xlink:href=\"data:image/png;base64,\r\niVBORw0KGgoAAAANSUhEUgAAACAAAAAgCAYAAABzenr0AAAABHNCSVQICAgIfAhkiAAAAvZJREFUWIXtlT9LK00Yxc9MwjLCBokkEhERFZcUIRKxEQOCRRrBgGCRyjqlki8h2KRSCAiyTcBaRNIErGz8AuIfLEwKJSYxwcXMnlu5vML7xhjN671wD2z1PHvmx5mZZwRJ4gclf3JxAPD32vjPoIQQ3wbQUwIHBwdQSkFKCSklZmZmUKlU/j+AgYofyHVdzs7OUgjhfaFQiJOTk5yfn2ez2fzIoqs+TEBrjdHRUfh8PpimCdM0sbW1hUwmAykldnZ28Pz8PLgESHJvb4+GYRAAAbBcLlNrzVqtxsXFRWazWWqt+0qgJ4Bms8l0Ou0BJBIJNhoNNhoN5nI5np6e9rV4zwCu67JSqTAQCDAQCFApxYmJCSaTSW5ubvLq6mqwAG8QxWKRxWKRpmkSAKWUnJqa4s3NzeABSHqx27ZNv9/vbUkmk+n7DPz+c+DfpLXm+vq6l4BpmiyXy3Qch47jfMpLkP29hvV6HePj42i1WhBCYGFhARsbGwCA7e1t+Hy+wSXQbrd5dnbGRCJBKSWFEPT7/d4t2d3d7dnrUwClUomlUomhUIiWZbFQKDAajXJ6eppCiHdbUq1WvxfAcRyGw2GGw2EKIRiNRuk4DhuNBi8vLzk3N+e9FQCYy+XYarW+D+Dp6YlSSkopCYDJZJKu63r1er3OWCzGWCxGABwbG+PR0dG7ni8BPD4+UilFpRQBMBgM8uHhwau7rst8Ps98Pu8lsbS0xPv7+66+f9YciMfjjMfjVErRMAxalsXb21uvrrWm1pqhUIgAqJTi4eFhV89PAVSrVVarVe7v73NkZISGYTAYDPLu7u5d38nJCZVSlFJydXWVr6+v3wPwpk6nw2w2y6GhIQKgZVms1WrsdDrsdDpst9tcW1ujlJIrKytdD2JfACT58vJC27Y5PDxMpRQjkQhTqRRTqRTT6TQjkQgDgQBt2+7q0/cofpPjOLi+vkahUMDFxQUA4Pz8HFprLC8v4/j4GIZh/Of/Xwb4qn78Gv4F+AvwCz/4CV0fIxo7AAAAAElFTkSuQmCC\" y=\"-69.795031\"/>\r\n   </g>\r\n  </g>\r\n  <g id=\"axes_4\">\r\n   <g clip-path=\"url(#p68dcf99f76)\">\r\n    <image height=\"32\" id=\"image6cc547d6e9\" transform=\"scale(1 -1)translate(0 -32)\" width=\"32\" x=\"121.988571\" xlink:href=\"data:image/png;base64,\r\niVBORw0KGgoAAAANSUhEUgAAACAAAAAgCAYAAABzenr0AAAABHNCSVQICAgIfAhkiAAAAwxJREFUWIXtljFLM0sUht+duO4mSAJGQ9LIWktQLGIKC1NooVa2ghALQaxT+w9s/AFiEYg/QVCwtQpiKcYoiQRkVZJl15ideb/icpfrleTG6L3hwvfAgWFn5px39sw5uxpJYoiIYQb//wkgiT8zppSCUuq/FfBv0FOA7/u4uLhAOp1GJBKBEAJCCIRCIUQiEcTjcayurqLVag2ugF1otVrMZrMcGxujruvUNI0ACODTeGlpiZVKpZurnnQVsLW1FQQwTZOTk5OBTU1N0TRNjo6OEgCFELQsi+VymeVy+WcEZLNZplIpnp+f03Vdvr29UUpJKSWVUvQ8j4+Pj1xbW2MsFqOu68zlcszlcnQc5/sC3t/f+3ZSrVZpGAZ1Xaeu69zf3/++gK/g+z7T6XRwL+bn56mU6mvvj5RhKBTC5uYmNE2Dpmm4vb0N+sU/MfQ+MPITTur1Os7OzpBMJgEAc3NzEKLPs30n951Oh5lMhkII6rrOQqHAQqHAZrPZt4++BCil+PT0xHq9Htjy8vKHZrS4uEjP8+h53pcO0VWAUor5fJ4TExMfOt/fLRwO8/7+/ktB/0rXO6CUQq1Ww/PzM0giGo1iZOSP5fF4HAsLCzg6OgqeDUrX3UII5PN5PDw8IJFI4OTkBLFYLJhTSn07OABoZPeC7XQ6eH19BQCMj48Hte15Hi4vLzEzM4NUKtUzgOM48H0fhmEgHA5/mh96H+irCqSUdF2Xtm3Ttm0Wi0XOzs4yGo0ymUxyd3eXGxsbtCyLlmUxk8nw7u6OjUaD6+vrtCyLp6endBzn04eqryQKIWCaJm5ubgAAjUYD7XYbkUgEjuOgVCrBdV20220AQLVaxfT0NMLhMEzThOM4ODg4QK1WAwBsb28HvnvegW5IKXF9fQ3P83B8fIxms4lKpYKVlRUAQKlUgmEYSCQS2NnZweHhITRNw9XVFQDAtm3out5/Cnrh+z5d1w3+FaSUbLfbH9a8vLxwb2+PpmnSNE0Wi8VgbqA3MChSymAcCoUADJiCn2ToZfhbwG8BvwBJidIUOr6gLAAAAABJRU5ErkJggg==\" y=\"-69.795031\"/>\r\n   </g>\r\n  </g>\r\n  <g id=\"axes_5\">\r\n   <g clip-path=\"url(#pa60bb6c672)\">\r\n    <image height=\"32\" id=\"image3d4b841006\" transform=\"scale(1 -1)translate(0 -32)\" width=\"32\" x=\"160.251429\" xlink:href=\"data:image/png;base64,\r\niVBORw0KGgoAAAANSUhEUgAAACAAAAAgCAYAAABzenr0AAAABHNCSVQICAgIfAhkiAAAAvRJREFUWIXtlr1LI1EUxc8b5yvEZAgExsJpRDCiA2KnlZaSWsVCa5sgKe0tBFP7P9haGdBKBJs0RkQJWkoUgkQxIZmZd7ZYHJg1o4ns4i7shdvdue/3zn33MIIk8Y2hfOfh/wbA09MT1tbWYJomhBAQQkBRFKTTaczPz2N3dxedTufPAfzxYExIKVmtVjkxMUEAH2Y6nebe3h5936fv+3Ete0YsQL1ep+u6FEIQAIUQNE0zTE3TIhBCCLquS9d12el0+gZQe6nieR52dnZQq9XwtqWpVApbW1sAACEErq6ucHl5ievr6zclUa1WAQC5XA6VSgWZTOZrI/B9n+vr60wkElQUhVNTU7y5uaGUklLKsE5KyUKhwOHh4XdjWVpa6mscsSM4Ozvj7OwsFxcX+fDw8GGTRqNBx3EohAhHpigKNzc32e12vwbgeR6bzSafn58/uwRJ8v7+ntlsltlsNlRB0zRub29HVOsbgOQ7yT+rLZVKLJVKkVEkk0menJzEfvf3+gBJBkHQtwLkz9Wt1+s0TTNUQFEUTk5Oxvb5UAHP81Cv1xEEQV+XsSwLlmVhZGQEmqYBAKSUuLu7Q6PRGFyBWq3GhYUF5vP5gcxlf38/ooIQgoVCoWfthwArKys0DIOqqsY26BW3t7d0HCfyGMfHxwcDkFJyZmYmbKDrOsvlMsvl8qcAlUqFuVwu9AQATKVSgwGQ5PLycsTz3/b84uKC3W6X7XabLy8v9H0/9I1ms8lisUjLst6tYxAEDIKgf4CDgwMmEol3NqvrOm3bpm3bdByHyWSSqqqG+Ws9ANq23fOMv9sHXl9fubq6GpnlV1LTNJ6eng7+BsifZnR4eMjR0dGIuRiGEVm1XqmqKsfGxnh0dBTbX5D9/Zb7vo+NjQ0AwNzcHI6PjyGEwPn5OQzDwOPjIyzLelMVxWIR+Xwe09PTEELE9u0b4NeQUqLVaqHVaiGTyaDdbmNoaAgAoOt66ISfxZcBfld8+xb8B/gP8O0APwBRkq8XjBCF4AAAAABJRU5ErkJggg==\" y=\"-69.795031\"/>\r\n   </g>\r\n  </g>\r\n  <g id=\"axes_6\">\r\n   <g clip-path=\"url(#pf61f2e1922)\">\r\n    <image height=\"32\" id=\"imageb33a5d18fc\" transform=\"scale(1 -1)translate(0 -32)\" width=\"32\" x=\"198.514286\" xlink:href=\"data:image/png;base64,\r\niVBORw0KGgoAAAANSUhEUgAAACAAAAAgCAYAAABzenr0AAAABHNCSVQICAgIfAhkiAAAAtVJREFUWIXtVj1L82AUPXnIlxgxVgzNItms0EoRBIWK4J/Qwf/g7tJBkIIgQhcHceni7ugfcHUQER1UpKiptEFI/Eie804Giq+vqfrSxQvPEu5z7uHc59wbhSTRxxD9LP5tAhcXF1hZWUG73f46CL8QURRxbm6OlmURAIUQtCyLtVqNtVqNYRhmxup7C3pSQEpJKSVnZ2cphKBpmjRNk6qqEkB6pqen+fz8/PMKSCkhpcTZ2RlyuRz29vawtrYGwzC68i4vL8Gs5upFgSiKGEURh4eHeXp6mqqysbFBRVFSBXRdZxAEP69AkiRIkgSapuH4+BgAoCgKZmZmoOt6mjcwMIChoaGfV8D3ffq+z8nJSTqOw7u7O4ZhyImJia43UC6XM2OqvShg2zYAYHR0FDc3N1heXkaxWMT19XWqBgBsb29nB+1Fgbd4eHig67rvHOA4Dh3H4dPTU2asvs+BLxGwbRvz8/NIkgRxHKffPc+D53kQogfYXqRvNptsNpvc3NykbdtdDw8ALcuiZVk8Pz/PjJmJwOvrK+v1OhVF6fL7R8d1Xd7f3/8MASkl19fXaRhGV5GpqSlWKhUWi8W/quG6Lq+urr5P4OXlhYVCgYZhUNM0aprGra2trpwoiri0tETDMLqIlsvlTx2RicCb5fL5PPP5PNvt9ru8OI5ZrVZZrVYphEhH8s7OzvcIJEnCer1O0zQphKAQgru7u5RSvssNgoBBEHBsbIxCCGqaxtXVVcZx/CF+3+dAJhf4vs/FxcW0t7lcjo1G493G63Q67HQ6HBkZoa7r9DyPJycn/8RWyGyL+/HxEZ7nAQDCMIRt2xgfH0elUsHCwgKOjo7QaDQAALe3t/A8D4eHh+mdbynwFq1Wi61Wi/v7+117QAhBRVGoqipVVeXg4GD6v/BZfGkZJUnCg4MDFgqFtDgAlkollkqlzMXJHlrwv6LvLvgl8Eug7wT+AK88+myN1iktAAAAAElFTkSuQmCC\" y=\"-69.795031\"/>\r\n   </g>\r\n  </g>\r\n  <g id=\"axes_7\">\r\n   <g clip-path=\"url(#p7219d37eae)\">\r\n    <image height=\"32\" id=\"image49aea951c7\" transform=\"scale(1 -1)translate(0 -32)\" width=\"32\" x=\"7.2\" xlink:href=\"data:image/png;base64,\r\niVBORw0KGgoAAAANSUhEUgAAACAAAAAgCAYAAABzenr0AAAABHNCSVQICAgIfAhkiAAAAppJREFUWIXtlj9LI1EUxc+MmclLESam0VgYECQoBHxNsBDEdFZ2+gVsbCz9DpYqpLARK7FKYRnBLkWsgtiMgggWwSIizIxPM2/OFguDLuzuqNkRYU/3uNzDj/Pu+2OQJL5Q5keagiDA4+Nj+gCNRgONRgOVSgVra2vwPC9dACklpJSYmJhAt9vF7u4uHh4e0gP4J+I7FIYhwzDk1dUVx8bGKITg/Pw8Pc97j80bvQvgtTqdDvP5PC3L4tbWFsMwTBdAa83j42Oapsl8Ps9ms8koihhFUToAJDkYDLiwsEDbtimlpOu6dF03PQCS7PV6nJqaomVZrNVqrNVqfHp6Sg9Aa816vU4AzOVyzOVyvLu7Sw+AJF3XpWmazGQyzGQyPDg4SNz7ve6B3ykMQxYKBRqGQcMwuLS0NNwE9vf3cXh4CKUUlFLgLw/oyMgIFhcXwZ9bipubG2ith5fAysoKs9ksq9Uqq9Uq9/b22O/3ORgM4rN/dHRE0zRpmibL5TKfn58TJZBJArm8vIyTkxNcXl4CAHZ2dtBut9Hr9SCEQL1eR6fTgW3bAID7+3u8vLzE608nEAQBx8fH4z1eX1+n7/tUSrHb7bLZbHJ1dZWO49BxHAohGARBogQSD+Hp6Wkc8cbGxptaFEW8vb1lsVhksVikbdv0fT+Rr0Em+5L5vo/Z2VkAgFIK5+fnmJycjOtaaxQKBQCA53lQSiGbzf7V93vdA61Wi61Wi9PT03Qch9vb29Rax/VSqcRSqUQAVEol8vzQh+T6+pozMzN0HIeVSoVnZ2fs9/uUUlJKScuy3oANDeC1lFJst9ssl8sUQnB0dDQews3NzcQ+iYfwT/J9HxcXF5ibmwMACCES9w4F4DP68lPwH+A/wJcD/ABZBqmj+GE7FgAAAABJRU5ErkJggg==\" y=\"-154.880248\"/>\r\n   </g>\r\n  </g>\r\n  <g id=\"axes_8\">\r\n   <g clip-path=\"url(#p3be3d06ca3)\">\r\n    <image height=\"32\" id=\"image25f82d60b1\" transform=\"scale(1 -1)translate(0 -32)\" width=\"32\" x=\"45.462857\" xlink:href=\"data:image/png;base64,\r\niVBORw0KGgoAAAANSUhEUgAAACAAAAAgCAYAAABzenr0AAAABHNCSVQICAgIfAhkiAAAAwdJREFUWIXtVj1LK1sUXXOYCSOiZiBqQHS0iYJF0MbKzpSKIggptLKbSrv8BX9BSJCAvXaCkCrYWIpBA1ax8QMTkjhmdCbxrNvcO5j78a6TvIfvwl0wxeyZvfc6e5292QpJ4hMhPjP5XwJ/Cfx5BGq1Gmq1Go6OjpBIJGCaJnRdx/T0NPb39+E4DhzHQaDO5gcgpWS5XKau69R1nUIIKopCAP6j6zojkQgjkQhnZmZ4eXnJdrv929gfInB1dcWxsTE/2c+Sq6raYYtGo1xeXma5XO6NwMvLCzc3NzuSqqpK0zR92/DwMBcXF/0Kvf/PMAym02m6rhucwPPzMx8fH9nf399xOk3TmMvlOD8/z3g8zlQqRdd1mc/nmc/nGQ6HOTg4SE3TfJ94PM5ms8lms9mR49O74B8rIKXk29sbd3d3OzQeHx/n9fU19/b2mEqleHd31+H38PDAYrHIZDLp+2maxlKpxFKp9HEJvqFer3N0dNQnsLKyQs/zaNs2Lcvi9vY2pZQ/kC+VSgyHwwTAUCjEQqHAQqEQXIKBgQFMTU357+fn52i32+jr60MsFsPBwQHm5uZQrVZRrVYhpUStVkMmk4HrugAARVFQqVRQqVQ6YqsfISCEwNbWFs7OznyboihQFAX1eh2tVgsXFxcYGRkBAIRCIcRiMdze3oIkhBCYmJhAIpEIdgfew3EcCiEohKCu6zw+PubT0xNvbm6YTqcZjUb97/g6KwzDYDKZ5OHhYXdt+D0sy6JlWTQMg7qu8+TkpEN7z/PoeR53dnaYy+VYqVR+GzMQAdu2ads2V1dXKYSgaZr0PC9IiB/w/54D30NKSSklG40GDcMgAC4sLPRUAYXsbiu+v7/H5OQkpJR4fX2FEN0Vs2sJotEo1tbW0Gq10Gg0ug3T20a0vr4OAFhaWgq2hLxHL/p5nkcAFELw9PTUvyNB0BMBkgyHw1RVlbOzs3Rd95cD5z8jkMlkODQ0RADMZrPMZrOB/P+sOfArNJtNbmxssFgsslgsBvLteg78W/h0Cb4A76cvGZJmvoEAAAAASUVORK5CYII=\" y=\"-154.880248\"/>\r\n   </g>\r\n  </g>\r\n  <g id=\"axes_9\">\r\n   <g clip-path=\"url(#pce46895603)\">\r\n    <image height=\"32\" id=\"image3af6499135\" transform=\"scale(1 -1)translate(0 -32)\" width=\"32\" x=\"83.725714\" xlink:href=\"data:image/png;base64,\r\niVBORw0KGgoAAAANSUhEUgAAACAAAAAgCAYAAABzenr0AAAABHNCSVQICAgIfAhkiAAAAtJJREFUWIXtlj9L82oYxq8nDU/6N40R24AdgnRQcHEzm6tDF4dCwEFB0K8gKOIq+An8DgWHDkU3EQeXipDBTYNgpcFSKYppcr3DOQrvew6cWBU54G/OfT8/nue6wy1IEt+I8p2H/wj8vwS63S4cx4HjOMhkMlAUBUIICCEwNTWFq6ur0QyYENd1qes6dV3nysoKt7a2WK1WCYBSSh4cHCRt9RuJBOI4ZqFQoKIoVBSFg8GAJPnw8EApJYUQ3NvbG0kg8ROEYYi/haFpGgAgn88jm81CCIEgCEZ6gUQCcRzDMAxIKSGlRL/f/6tYUTA7OwtVVXF6evom+OkCrweFYYgwDLG2tobn52cEQQApJYQQuL6+RhRFiKLoXQKJQ3hyckIABEBVVTk/P8/19XWWSiVKKZnL5ej7Pn3f/5oMfBVq0g8dx0E+nwcADAYDZLNZjI2NvYUzjmO0220AQKVSSSyQ+AZSqRRc14XrulBVFQsLC9je3sb5+TnGx8cRhiFarRZarRbiOE4skDgDJOl5Hj3Po6ZpNAyDt7e3fHl54e7uLjVNo2VZtCyLNzc3iXu+S6DX67HX63FxcZFCCNq2zW63S9/3ubq6StM0aZoma7Ua4zj+fIFX7u7uaNs2JyYmeHR0xCiK+PT0xHq9znq9zsnJSV5eXn6dAEkeHh4ynU7TNE0GQcAoithsNtlsNjkzM8Pl5WW22+3/vInEU/AntVoNc3NzODs7g23b2NzcRKFQAAAUi0V4noeLiwsUi0WUy2Wk02kIIf7R59v/A4IcfSl9fHyEYRhIpVIolUqoVqsAgOFwiEqlgv39fViW9bY3/NsNjJyBV3Z2dlgsFuk4DhuNBhuNBu/v7zkcDhPVf1ig3+9zaWmJ09PT7HQ67HQ676r/cAZyuRzK5TJ0XYemaW+7QlJGnoJXFEXBxsYGjo+Pkclk3l3/oRB+Bt8+hj8CPwK/AKB4cUR7BmstAAAAAElFTkSuQmCC\" y=\"-154.880248\"/>\r\n   </g>\r\n  </g>\r\n  <g id=\"axes_10\">\r\n   <g clip-path=\"url(#pc8414b2f09)\">\r\n    <image height=\"32\" id=\"imageecc03500d0\" transform=\"scale(1 -1)translate(0 -32)\" width=\"32\" x=\"121.988571\" xlink:href=\"data:image/png;base64,\r\niVBORw0KGgoAAAANSUhEUgAAACAAAAAgCAYAAABzenr0AAAABHNCSVQICAgIfAhkiAAAAtZJREFUWIXtlj9LI08Yx7+z2XU3CAlq4j8QFiIimkJBq2nt1OA7SKeFha2FSAj4BgQbX0NEbUQLrSwsbOwsRchKEEVkA052Z79XHObuiuMm+Z3kV9wHphjYmf3s8zzzzAqSRA+xevny/4WAbfogSQRB0J6PjIzAto2X/5aeRwA0QCnFra0t2rZN27YJgEIILiwsMAxDky1+i5EASd7f39P3ffq+T8uyCICu63Jvb49a664FjFOQz+chpYSUErlcDp7nQQiBw8ND3N7edp0BYwGlFAqFAgqFAmZmZjA8PIxsNgvXdXF1dQWlVFcCxmU8NDSE5eVlAEAYhri5uUEcx5idncX4+Dju7u4wPz8PAHAc5+8L9PX1YW5uDgAghMD+/j7iOMbr6yuKxSKazWY7Cp0IdHQMU6kUUqkUms0mPM8DANTrdby/vyOTyUAp1XEqet4HBGl2GZHE5uYmAODo6AiWZSFJEiilMDY2hqWlJWxsbAAAisWiuYHpeb28vCSA9qhUKnx7e+POzg5d12Uul2OtVmOtVmOSJH+3D2itUa1Wf4RNCKysrCCbzaJarUJKCdu2obWG1tr862FYA5ZlYXd3tz13HKddbEIInJ2dYXt7G41GA41GA4ZZ/b7etAa01lhbWwMAXF9fY3FxEaenp0in0wCAOI7x9PQEABgcHER/f7+ZQSd9u9VqsdVq8eHhgZlMhpOTk1xfX+fLywuTJKHWuj1M66AjgZ95fHyk7/sUQtB1XZbLZQZBwCAIGEWR8QXV8z7QdQRIMooirq6ucnR0lEIIep5Hz/M4MTHBg4MDPj8//3GP/yTwycfHB8/PzymlpJSStm0znU5zamqKx8fHjKLoawU+ieOYcRyzUqlwenqanucxn89TSsl6vf71Ap9orRmGIS8uLlgqlTgwMMByudwW/BnjPtAtSimcnJzAcRyUSiUA+OVv+ssF/kTPj+E/gX8C3wBNEJWc2ci1TQAAAABJRU5ErkJggg==\" y=\"-154.880248\"/>\r\n   </g>\r\n  </g>\r\n  <g id=\"axes_11\">\r\n   <g clip-path=\"url(#pa56b2e3d66)\">\r\n    <image height=\"32\" id=\"image81da5c0fde\" transform=\"scale(1 -1)translate(0 -32)\" width=\"32\" x=\"160.251429\" xlink:href=\"data:image/png;base64,\r\niVBORw0KGgoAAAANSUhEUgAAACAAAAAgCAYAAABzenr0AAAABHNCSVQICAgIfAhkiAAAAt1JREFUWIXtl79KK0EUxs+Mu7iSuIgkNgbZbbTQjSkUCxs7sUwhauMTWNhYiCRNnsEmjYWNYKFgkQfwDYIBQROwUlz/LGxiZvNnvluIy81NVuPVXO/l+sFUc2b2t+d8c4ZhAEBfKP6VH/83AGq1Gp2dndHNzQ1JKUlK+WcBei4ESEqJjY0N6LoOzjk45zAMA4Zh4PDwEPf390FL36VAAACYn58HYwxE1DIGBwdhGAY2NzchhOgdwMHBAXRdbwNgjIFzDlVVsbCwANd1ewPQbDaRSqUQDoc7QjDGoCgKlpaWcHd39/kAwLMX0uk0QqFQG8TLUBQFi4uLyOfzyOfznwsAPGcik8n4fx0EEY/HEY/HYdt21wBKNyeFc047Ozv09PRERES7u7vkui7hpy7eaDSoVCoREVGlUqFIJNLVKfx7+0BQKZrNJnK5HCzLgqZpLWXQNA2apuHi4qLrPd8F8CIpJY6Pj2GaZkc/JJNJSCl7BwAADw8P2N7ehq7rbcaMRqMol8u9BRBC4OrqCqlUCnNzc1BVtQXi6Oioqyz8lgds24bjOHBdF9VqFZ7nYX9/H6FQyO8Xuq7j9PT0YwCO4yCXyyGZTGJmZgaJRAKJRAJjY2PY29tDrVbzY6WUyGazyGazfhbGx8ffhAgEOD8/x9TUFAYGBsA5b0kv5xxDQ0PIZDIQQqBer8PzPBSLRRSLRUSjUT82FovB87xAgC/vA4EAlUqFZmdnKRwOU19fHzHG/DkpJTmOQ+l0miKRCMViMVpdXaVCoUCFQoEmJyf9eMdxqFqtBhO8WiAA9Xodtm3j5OQEpmnCNE309/d3vBNeTKhpmj8/MjKCx8fH93ugk4QQEELg+voaW1tbmJ6eBuc88IJSVRXr6+toNBqfA/CryuUy1tbWMDo62mZURVEwMTGB29vbV/f4EADw3BtKpRKWl5dhWRYsy8Lw8DBWVlZweXn55noGfL+MvgH+c4Afl04ZBYYYRjoAAAAASUVORK5CYII=\" y=\"-154.880248\"/>\r\n   </g>\r\n  </g>\r\n  <g id=\"axes_12\">\r\n   <g clip-path=\"url(#p9fac782b41)\">\r\n    <image height=\"32\" id=\"image8ff8956d88\" transform=\"scale(1 -1)translate(0 -32)\" width=\"32\" x=\"198.514286\" xlink:href=\"data:image/png;base64,\r\niVBORw0KGgoAAAANSUhEUgAAACAAAAAgCAYAAABzenr0AAAABHNCSVQICAgIfAhkiAAAAsdJREFUWIXtlrFL61AUxr97W5NWW0EtVsQhFUez2EWQ4iYIBYf+A4KDq2v/iA466OTk4CJuTi5SRwWprTgoIgWLqINV0tZ7Tb43CH3De2pKSh8P/CBDSM65v/vlnpMjSBIBVK1WEY1GEY/HEYlEOk/AAHJdl2NjY5RS0rZtaq2pte4ohwyyeyklkskkSOLh4QEk0amhgQAAYHV1FeFwGK1Wq331FCCoAgMsLi7CNE28vr6iUCigUCh0FC+CVoHrupiYmMD9/T1s2wYAlEolCCF8xQd2IBQKYW1tDcBHSVarVTiO4zu+K2dgbm4OfX19UEpBKYXb29veAti2DSFEuwq2t7d7CyCEgGma7T5wenraW4BYLIZYLNa+v76+9t2Q/v8+AHx8gpWVFQghIIRAvV7H+/t7dwBc10WlUsHy8jLS6TTS6TRyuRz29vbw/PwMrTU8z0Mul2sDaK3x+PjoCyD82QPP83BxcYFSqYSdnR0Ui0W8vb0BAM7OznBwcADTNBGPxzEzM4NEIgHDMNrxT09PGB8f/xbg007YaDSQzWZxc3OD4eFhhEKhNsDV1RWUUvA87/dOwmG4rvuRVAgcHR0hk8l8b8FX//r19XUmk0mmUimenJxQKUWlFLXWrNVq3Nzc5MLCAhOJBIUQBEAAlFKyVqv5mge+HEheXl6Yz+c5NDTEfD7PZrPJZrP5x3tKKS4tLVEIQSEEI5EIHccJDkCSd3d3nJ+f58DAAC3LomVZPDw8ZKvVoud5JEnP87ixsUEpJaWUtCzL1+JkwImoK/JDeXl5yWw2S8MwaBgGo9EoBwcHOTs7y+PjY56fn3N6errtQCaT8e2A73mAJCqVCgBga2sL+/v7qNfrAID+/n40Gg2MjIwAAIrFIiYnJ7vnwN/kOA53d3c5OjrKqakpplIplstllsvljvIEnoiC6p8fwh+AH4AfgF9FWlcRyi5TQQAAAABJRU5ErkJggg==\" y=\"-154.880248\"/>\r\n   </g>\r\n  </g>\r\n  <g id=\"axes_13\">\r\n   <g clip-path=\"url(#p5de7de3e57)\">\r\n    <image height=\"32\" id=\"imagea3d25a163c\" transform=\"scale(1 -1)translate(0 -32)\" width=\"32\" x=\"7.2\" xlink:href=\"data:image/png;base64,\r\niVBORw0KGgoAAAANSUhEUgAAACAAAAAgCAYAAABzenr0AAAABHNCSVQICAgIfAhkiAAAA4RJREFUWIXtls1LMmsYxq8ZZnIUFSPIRVjRpxIItighsiLaJ7iJImgf/QEtCtwE0d/QomjVrnW1aBFGgguLJEySIgr7QFNSx5nrLM5p6IAfnfflPW664V4Nz3P/nue+r2segSTRxBCbWfwH4AegIUClUkEmk8Hq6irMZrORwWAQOzs7iMViUFUVJKFpGvL5PPL5PHRdN/b4/FYzWCNOT085NzdHv99Ph8NBAFXTbDbT7/dza2uLoVCIoVCIGxsbfHl5oaqqvLu74/j4OPf29qrWqQpQqVQYCAQoyzJNJhP7+/s5MDBAr9dLr9fLjo4OKopCQRAIgK2trYzH4ywUCiwUCszlciwUCry5uaHb7SYAejye7wNomsaVlRWKokhJkhgIBHh7e2sUuLy85OLiIm02GwFQlmWm02lqmkZN05jP5xmPxxkMBimKIgHQ7/dXBRBqOWEmk8HMzAyurq4gCAKCwSBcLhcAYHd3F4+PjzXbKkmS0ffP7UdGRnB2dvb9GSDJSCTCqampmv2vl4Ig0Ol0UlEUiqLI5eXlqjWaLsO6N6DrOt/e3uhyuWqeVJIkYxi/5vz8PN/f31kul5lMJlkqlarWkOrBCYIAh8OBZDKJ4+NjbG9vAwCen59xcXGBzc1NaJqGp6cnhMNhlEolAIAoimhra4PFYoEoiujt7f21G2gUuq5TVVVeX19zYmKCVquVVquVLS0t7OzsZDQabbjHbwF8Bdnf36fb7TZ0L4oih4aGmMvl/jzAJ0Q8Hmc8HqcsywRAk8nEg4OD/weApGFEs7OzNJlMFASBw8PDLBaLNdd8S4b8j682j8cDXddBEqlUqq5pNd0H6soQAHRdRywWw8nJCaanpwEAPT09hsSAv29I13UUi0UAwOHhISqVirH+4eEBXV1dvwaQzWYRDodxdHSE9fV1AMDg4CB8Ph/a29tRKBQQiUSQSCQMgFKpBJKQJAkWiwXZbLZ2gUaDlU6n6XK5/uV2n39JWZaruiD++RfYbDYuLS3VlWJDK06n05ycnDSk9Z0URZGKorCvr4+pVKruARtasdPpxMLCAl5fX5FIJADAeIYpigKr1Qqz2YxSqQRVVY2+2+12rK2tobu7u26La74Hvoau61BVFbFYDAAQjUbhdDoxNjYGu92Oj48PlMtlnJ+fAwDu7+8xOjoKn88HSao/Zt8C+JPRdB/4AWg6wF9b0fNnNNfLCAAAAABJRU5ErkJggg==\" y=\"-239.965466\"/>\r\n   </g>\r\n  </g>\r\n  <g id=\"axes_14\">\r\n   <g clip-path=\"url(#p9d3a9165e4)\">\r\n    <image height=\"32\" id=\"image001c058212\" transform=\"scale(1 -1)translate(0 -32)\" width=\"32\" x=\"45.462857\" xlink:href=\"data:image/png;base64,\r\niVBORw0KGgoAAAANSUhEUgAAACAAAAAgCAYAAABzenr0AAAABHNCSVQICAgIfAhkiAAAA3FJREFUWIXtVr9L61wYfhLzo2oNMTSlSKUU0fkWdHBRXMRJEBxdXBwUF6mjuLg4iZOg4F+gU/d2E6X4o4uuUUHaIlQhkaSaPN/gNVe5qPF+V/oN3wOHcDjnPOfhPe/75BVIEi2E2MrL/xMCpNeTm5sbAIAsyzAMA21tbd8uoOUREF6SMAgCaJoGAHAc59cGQYAgCAAARVEAAKZpQpIkqKqKiYkJLC4uIp1Oh+tfAn/i6emJAH4bgiCE35ehKApFUQzn2WyWKysrtCyLlmUxCAJGRSjA933KskxZlilJEvP5PG9vb1koFDgzM8OdnR0Wi0UWi0UeHBxwamqKqVSKgiBQFEWKoshkMslkMsmlpSVeX1/z8fExugCSLJVKLJVKdF3304NBEPDh4YHb29vMZDKUJOlN1OLxOEdGRlgoFNhsNqMJ+FM0m03u7e0xkUgwkUiETyNJEk3TZLlc/l4B5HNEqtUqq9UqFxYWqOs6ZVmmaZqs1WrvnvtrZUgyrJje3l7EYjGIoojOzk4YhvHuuZb7gPT5ll/wfR8AcHFxgb29PXieB0EQ0NfXh0wmg8vLSwDA1tYW7u/v0dXVhfX1dUjS+9dEFnB3d4fx8XEAwNXVFRqNBoBno1IUBaZpgj9/rLVaDQAwOTmJ6enpj4mjJtnu7m7oEy/jtUlJkhT6gSiKHBgYoOM4n/JGjkAQBGEoY7EYRkdHYVkWLMsCSTiOE0ZAVVWsra2ho6Pjc+KoETg+PmY2m2U2m+Xm5iZd16Xrujw9PeXGxgZTqRRVVaWqqtR1/cPSe43IVaAoChzHgeM40DQNqqpCVVX8+PED8/PzmJ2dDcvQ8zycnJxE4o0s4OzsDK7rwnXd37JaURQsLy9D0zRomgbP81AqlcIn+SsCvguRk5AkbNsGAJyfn4fO94J4PI7u7m4AQL1eh2mab9b/tYCxsbGwRTs8PITv+2+eQhRFeJ4Xznt6eiLxRhaQTqcxODgIAGg0GrBtG7quh+uCIMB13WdSScLw8HA04qhlSJKVSoWVSoVDQ0Ocm5tjvV5nEAQMgoBHR0c0TZOmabK/v//DHuA1viTA9336vs9yucxUKsVEIsH29nbGYjEahsFcLsdcLsf9/f3InH/cD9i2zdXVVeq6TsMwmM/nads2bdv+Uk8YdsWtQst94H8BLRfwD97TpLxPn55/AAAAAElFTkSuQmCC\" y=\"-239.965466\"/>\r\n   </g>\r\n  </g>\r\n  <g id=\"axes_15\">\r\n   <g clip-path=\"url(#pa9736c7e08)\">\r\n    <image height=\"32\" id=\"imageca55caa034\" transform=\"scale(1 -1)translate(0 -32)\" width=\"32\" x=\"83.725714\" xlink:href=\"data:image/png;base64,\r\niVBORw0KGgoAAAANSUhEUgAAACAAAAAgCAYAAABzenr0AAAABHNCSVQICAgIfAhkiAAAAkBJREFUWIXtlr9qYkEUh7+Zm3uRCCpqJaaLYJF0drGwCWhjm/eInU0aXyMJafIMguQBAqkS0CKBVBZipfcq+Ofes4XEdYm7ZO7d1V3YXznMOfPN4ZzfjBIRYY/S+zz8P8BfAXBgsrnVagFwfX3NZDKh2+2SzWYjARhVwHVdXNdlMBjgui7Pz8+RDjcGGA6HDIdDfN8nCAI6nc5uAWKxGLFYDMdx0FrTbreZzWa7A6jVatRqNY6OjpjP57y+vvLw8BAJwKgJ8/k8AIlEAhFhOp1yeXlJPp+nWCziOM7WuCAIWC6XaL2678HB92OViRX3+30A7u/vaTabLJfLNdj5+Tn1eh2AwWDA6ekpj4+PZDIZ7u7ueHp6Yj6fA3Bzc8PFxQVa6/37AGKgIAgkCAIZjUZSKpVEKSVKKalUKuJ53tb92+I3140qoJRCKUUikaDRaOA4DiKCiHB4eLh1/7b4H9ZNKrAp13Xl+PhYAEmlUvL29hYqT+geiMfjXF1dATAej7m9vcX3fXzfN8pjNIabUkpRrVaB1Zi9vLwgIf42kaYgmUxi2zYAvV6P2Wxm7IyhKwArQ7Esi8ViAfBTI/qV9u4DkQCUUti2jdaaYrGIZVlYlrU7AIByuYxlWZycnKysVRumDOsDH3p/f5d0Oi3VavWTy/1RH/hQLpcjm83S6/VYLBbrhvyqIgPYts3Z2Rmj0QjP8/A8zyg+0hjCqhELhQLJZHL9PBvFSxj72iIR+fT4fEX/tg9sKsztfytAWO0d4Bv6PBJzTP7h2AAAAABJRU5ErkJggg==\" y=\"-239.965466\"/>\r\n   </g>\r\n  </g>\r\n  <g id=\"axes_16\">\r\n   <g clip-path=\"url(#pf9e0dfdb4a)\">\r\n    <image height=\"32\" id=\"imagefb58d665a1\" transform=\"scale(1 -1)translate(0 -32)\" width=\"32\" x=\"121.988571\" xlink:href=\"data:image/png;base64,\r\niVBORw0KGgoAAAANSUhEUgAAACAAAAAgCAYAAABzenr0AAAABHNCSVQICAgIfAhkiAAAA01JREFUWIXtlj9II1sYxc8dJ07UiYmBiBZKYqWInURBwTSiA9qkMJVax9LGQomgrYtBQUQi2NjaWEgECdoFBMHKIjEggghiYPyTfzNzXvWCwmqy6q5v4R24zdw7Z37z3e+eGUGS+EZJ3/nwvwdA13Vsb2/D4/HA4/EgFAohnU7DMIw/A/BbxQpKJpNsaGgggJ8OIQQ1TePh4SELhQILhUIly1cS750C0zTR3d0NklhZWcHt7S0AYG9vD2dnZ7i/v0exWAQAOBwOaJoGAIjFYnA4HJ+vwP7+Pp1OJ6enp386bxgG19fX2dPTQ0mSaLPZaLPZODQ0VHUl3gVIp9MMhULs7++nZVlvriuVSlxcXCwDyLLMnZ2dzwNYlsVcLsdgMMjj4+N3jZ6enuj1eun1egmAfX19VQHI722PEAKKouDHjx+YmZkpXx8cHIQkvT5AlmUhn8+X76utrf18D7ysRCqVoqZp1DSN4XCYmUyGhmGU11xeXlJRFCqKQiEEV1dXq6rAfz8HXiqbzTKbzXJycpKapvHo6IiPj4+8u7ujz+ejEIJCCNbV1fH5+bkqz18C+FeWZTGRSHBiYoKjo6P0+XyUJKm8BVtbW1V7fQiAJDOZDF0uFwHQ5XLR7/czHo8zHo+/6o3fBjA7O0tVVQmAbrebBwcHzOfzzOfzv+TzbhS/pVKphI6ODqiqilwuBwBob2/H2toaAKCrqwuKonx9E1qWRcuyuLS0xJaWFu7u7vLh4YGnp6dsbGyk3W6n3W7nwMDA10TxS5mmyUAgwEAgwN7eXl5dXb0CW15epizL5TE/P0/TNCv6/j05sLm5WX67trY2lkqlV/OWZTESiTASiVAIQbvdzpOTk4q+VQNsbGxQVVWqqkq3281kMvlmiYeHhynLMsfGxir6Vn0KisUiFhYWAADn5+e4ublBZ2cnxsfHEQwGUV9fX157cXEBv98Pt9uNVCoFWX7nm1dtBUhS13Xqus5EIsGpqSm6XC7abDY6HA6Gw2FGo1FGo1G2trayqamJc3NzFRvxQ0Fkmiavr68Zi8XY3NxMp9NJIUT5P1GSJI6MjFDX9YpeHwqiF9WDYRiQJAmFQqF8XVEU1NTUVOXxKYCv0LfnwP8A3w7wD0cK0zajd2Z+AAAAAElFTkSuQmCC\" y=\"-239.965466\"/>\r\n   </g>\r\n  </g>\r\n  <g id=\"axes_17\">\r\n   <g clip-path=\"url(#p2e60460622)\">\r\n    <image height=\"32\" id=\"image0024e3b85b\" transform=\"scale(1 -1)translate(0 -32)\" width=\"32\" x=\"160.251429\" xlink:href=\"data:image/png;base64,\r\niVBORw0KGgoAAAANSUhEUgAAACAAAAAgCAYAAABzenr0AAAABHNCSVQICAgIfAhkiAAAAxtJREFUWIXtlz9LK0EUxc9OdrOzboKuxGKFmBAkGBGJYGNlJYiVfgEtbCVgJX4DkTR2NgErIaAptJIg2NlZWCgY1CKCQWQlatCE7J5XmffXl7y8iDx4B6YYdvfc38zce5lVSBKfKPGZwf9dgFqthq2tLUxOTkJKiYGBASwsLCCfzyOfz+Px8fFjAToq/oGy2Syz2SwtyyKAd0coFOLl5WVLni0DOI5DKSWllARAv9/PaDTK7u5umqZJTdO+g0gmk6zVap0B8DyPmUyGmqZR0zRKKbmzs8NqtUrXdek4Dvf29mjbNm3bJgAKIXh0dNQZAJI8OTlhIpFgIpHg0NAQz8/Pf3qnVCqxVCpRCEFFUbi6utrUV201V8bGxnB8fAwAqNfruLq6gud5EOJrHgeDQQBAf38/7u/v8fT01Nkk/Fb1ep3VarUxf35+ZjgcZjgcpqIoNE3zl7vU9g78KJ/PB5/P97YIpNNp3N7eNubj4+OIx+NNff6tPvArlctlZjIZGobBQCDAQCDAWCzG6+vrlr7/a4BcLkcpJRVFYTweZzwe5/7+Puv1+scDuK7LkZER+v1+xmIxFgoFFgoFep7XskdbAK7rslAoMBwOEwBVVeXu7m47Vq0B3NzcMJfL0bIsWpZFXdepqioty2IqlaLrum0FbwmgUqkwEolQVdXver0Qgul0uu3Ab2raB4rFIorFIjzPQ09PDwBgamoKo6OjmJ2dBUkoitJ2FX56H2i6A6ZpQgiB4eFhnJ6eAkBjxeVyGRcXF9B1HZZloaurCwCgaVrnAHRdR19fH1Kp1E/PHMfB4uIi7u7uYBgGarUaAKBSqWBubg5LS0sYHBz8/RE1S5KXlxfats3e3l4mk0kmk0lubGxwe3ub0WiUUkoGg0EahkEhBIUQBEBFUWgYBpeXl3l2dvbu5aQpgOu6XFlZadyE3sZbKQohGAgEaNs2Q6EQQ6EQI5EI19fXeXh4yIeHB76+vr7rr5DNf0wqlQo2NzextrYGAKhWq5iYmMDMzAwODg4gpcT09DTm5+cbx9ZqZbQE8JH69DL8D/Af4AtOWtO4HJMgxQAAAABJRU5ErkJggg==\" y=\"-239.965466\"/>\r\n   </g>\r\n  </g>\r\n  <g id=\"axes_18\">\r\n   <g clip-path=\"url(#p1596c21dc3)\">\r\n    <image height=\"32\" id=\"imagecf87eac3c5\" transform=\"scale(1 -1)translate(0 -32)\" width=\"32\" x=\"198.514286\" xlink:href=\"data:image/png;base64,\r\niVBORw0KGgoAAAANSUhEUgAAACAAAAAgCAYAAABzenr0AAAABHNCSVQICAgIfAhkiAAAAwRJREFUWIXtlz1LK10UhfcZZzITxogERYTECJLKYKWQSrFIEbCxsLC0MW1aG/+EWNiIlZViZcRfIApCGgUNxBC0UImSoEnMx3luZXgt3utcv3KLu+BUc84+D3vtWcMoAOmijG5e7hkgl8vJ2NiYpNNpSafT0mq1vo4AD8pkMvh8PkQEESEej3Nzc+Pl6LvqugWeOpDNZolGo50OGIZBLBZja2uLdrv9qQ54AgAoFAqEw2HC4TCGYWCaJiMjI5yfn/8MAECxWKRYLDI1NYWIYJomk5OTXF9f/wyA1hqtNZubmwQCAZRS2LZNKpWiWq1+P8Crnp+fWV5exnEcRIT+/n5WV1ep1+vU6/XvBwCoVCrMzc0hIiiliEQi5HI5crncH9VR4C2KW62WNBoNERGxLEt6enrk6upKYrGY1Ot1sSxLUqmUiIisra15fgv//hzQWrO/v08kEsFxnM4KhUIsLi4yODjYyYdgMEgwGOT09NSzBb8FaDQarKysYFlW5xIva3Z2lpeXF08Av7WgXC7L8fGxKKVEKSW2bYtt2+Lz+UQp9b/nstmsVCqVz1vQbre5vLwkGo1iWRahUIhQKMTu7i53d3dsbGwQi8UIBAJvOqCUYnt7+/MWvOri4oKhoSEMw8AwDObn52k0Gp3ntVqN6elplFIopRARZmZm0Fp/DYDWmkwmg2mamKaJ4zgcHR292fPw8IDruriui4jgui6Pj49fAwDQbDZJJpMkk0ksy2J4ePhN6GitSSQSJBKJjg07Ozvv1v37c+C/KhQKFAoFlpaWME2T0dFRDg8PO16XSiVKpVJnDvb29t6t+aFvQa1WY2FhAdu2cV2X9fV1tNY0m02azSa2baOUIp/Pfw8AQLlcJh6PIyI4jsPBwQH5fJ58Pk9vby+O43B7e/t9AFpr7u/viUaj+P1++vr6OlH8OqS1Wu3dOh8eQqWUDAwMyNnZmZycnMj4+LhUq1WpVqsCyMTEhNi2/X4d+Lo/I621iIg8PT2J3+8Xy7J+FuAj6noO/APoOsAvy191jwb8iq8AAAAASUVORK5CYII=\" y=\"-239.965466\"/>\r\n   </g>\r\n  </g>\r\n  <g id=\"axes_19\">\r\n   <g clip-path=\"url(#pb1c153acdc)\">\r\n    <image height=\"32\" id=\"image9733c51b25\" transform=\"scale(1 -1)translate(0 -32)\" width=\"32\" x=\"7.2\" xlink:href=\"data:image/png;base64,\r\niVBORw0KGgoAAAANSUhEUgAAACAAAAAgCAYAAABzenr0AAAABHNCSVQICAgIfAhkiAAAAwxJREFUWIXtljFLK1sURtdkkgxDiI44kKiFoAkEQtAq2Fjaif9ArbQTxNpKC/UfBCsrxUrsREsFhYAIYhQC09gEzCCKjhmTmX0LrwF51zjXm/fyeLwPpjhs9tmLfWZ/5ygiInRQoU4W/28DeJ7XWYCgaitAoVCgUCigKArhcJj+/n5832+dJG1SvV6XWCwmsVhMAFEURaanp8XzvJZ5bQMol8uiaZpomiaAjI2NydPT05d54Xa1v1gsEg6/bdfT08Px8XFz3Upt+Qc8z2Nra6u5Xl9fD1Qc4Lc60Gg0AHAcB1VVCYVCNBoNLMvi+vq6OXrj4+OB9wzUARHh5eUF27axbRvLstB1HV3XcRyH3d1dKpUKruviui6lUqm9AH+nAgH4vo+IYJompmkyMjJCKPSWahgGuVwOwzBQFAVFUdje3m4fgIhQq9WIRCKoqoqqqiiK0oxHIhGy2SyZTIZoNEo0GuXq6qo9AL7vU6lUODs74+7ujp++0QQDCIVC9PX14bounufheR63t7dfO+BPKSK/fg/4vk+1WmVxcZGLiwsSiQSrq6sApNNpVFUlHo+jaRoADw8PzM7OAnB6ekq5XKarq+tLgE/H8PHxkc3NTY6OjvB9H8/zWFpaAiCXyzEwMMDl5SUzMzNMTk6i6zrLy8sA7Ozs8Pr6GqgDnwKoqopt26RSKXp7e5mYmOD5+bnZnWKxyMnJCQcHB8TjcXK5HMPDwwDMzc1hGMafAei6zvz8PPl8nnw+z+DgYNNoqtUq4XCYUqmE4zjU63USiQQrKysAJJPJQMXhX+ADLW9Dx3Hk/v7+l7H9/X1JJpNiGIbs7e2J7/u/d30GuQ1VVX2H/DD7AENDQ3R3d2OaJlNTU3+JB1XLI/A8j/PzcyzL+vDGc10X27YxDIPR0dFvFX5Xyw5Eo1Fubm5YW1sjm82Sz+eBtyk4PDwklUqxsbHRtOVv6aszsixLTNMURVEEaH6apsnCwoLUarVvnf27Aj3JKpWKpNPpDwCZTEYajcYfFRcR+dSK/yl13Af+B+g4wA+8Fzoa+igOgAAAAABJRU5ErkJggg==\" y=\"-325.050683\"/>\r\n   </g>\r\n  </g>\r\n  <g id=\"axes_20\">\r\n   <g clip-path=\"url(#pd757863b0b)\">\r\n    <image height=\"32\" id=\"imagef04b41d0d0\" transform=\"scale(1 -1)translate(0 -32)\" width=\"32\" x=\"45.462857\" xlink:href=\"data:image/png;base64,\r\niVBORw0KGgoAAAANSUhEUgAAACAAAAAgCAYAAABzenr0AAAABHNCSVQICAgIfAhkiAAAAf1JREFUWIXtlr2KIkEUhU+NhbaKdoM/maAYiIgGhtqICIKBYOYLaGpgIL6Fme8gnRoKJoJibGBgZCQijaII/jR1J9hd4+0aRxmYE1Ul535V93KqGBER3qiPdxb/Bfj5AJfLBdFoFIwxMMbg9/vh9/txu93+24N/BWCz2cDpdD72Hx9/zuNwOL4fgIhwOp1wPB4BAIwxVKvV1wEwxjCbzbDb7QAAgUAAnU7Hts+XWpDL5R7rWCyGVCr1OoDr9YpWqwUhBBhjyGaz4FzCjiQ1Ho9JURQCQMlkkrbbrZTP23NAqgVEhNVqBUVRwDnHdDqFpmmvBYjH4yiXy+Ccw+fzSRUHJJPweDzicDigUCjA7XbjfD5LA0gN4Xq9pnK5TLVajSKRCLXbbRJCvG4IVVVFMBhEs9nE/X6HYRiwLEvqAqQAvF4v3G43MpkMGo0GDocDlsvl6wAAYLFYgHOOTqcDl8uFwWDwWoBnSQqAcw6v1wvDMHC9XpHP5zEcDkFEIJt/XOm3oNvtot/vw7IsqKoKh8MBIQQAe8+xdAsSiQQ8Hg9qtRp6vR6KxSL2+z32+70tH2mAcDiMdDqN+XwOIQQqlQoURYGiKPaMpNLjryaTCWmaRqFQiOr1OpmmSaZpfn8Q/ZOu6xiNRiiVStB1/fEptSNGdsf2yfqZOfAL8Ex9AgaR6BeksmO+AAAAAElFTkSuQmCC\" y=\"-325.050683\"/>\r\n   </g>\r\n  </g>\r\n  <g id=\"axes_21\">\r\n   <g clip-path=\"url(#p1d86651fef)\">\r\n    <image height=\"32\" id=\"imagecc63413351\" transform=\"scale(1 -1)translate(0 -32)\" width=\"32\" x=\"83.725714\" xlink:href=\"data:image/png;base64,\r\niVBORw0KGgoAAAANSUhEUgAAACAAAAAgCAYAAABzenr0AAAABHNCSVQICAgIfAhkiAAAAtxJREFUWIXtlz9I61AYxU9i0pssSVWUFCp16NJJXaRLURcRnNw6ZnR1cnTV3UVwEheHgFNBXZRgN0Xp0MXBCkqFFjtY/6TpPW94vPAePiT26RPBs13u5bu/+32HE6KQJD5R6mde/rUApJSwLAuWZUEIAdu2sb6+joeHh/8D8GFiTPm+T03TqGkaTdMkAAKgbdtcW1tjp9OJW+oPxQYYHx+nqqpUVZX7+/vc2tqioigEwEwmw2az+XEAUkr29/dHr240GiTJi4sLAqBhGKxWqz0BxPIASWQymWi9sbEBAEin0xgYGIBpmhgcHOzJAlqcQ1JKTE9P4+zsDACwurqKQqGARqMBKSWEEOjr6+sJILYHrq6umEqlmEqlqOs6Hcfh8PAwFUXh0NAQn5+fexpBrA4AwMjICI6PjwEAruvi/v4el5eXIAlN06Drek8N+Do5QJJBEDAIAtZqNe7t7XFxcZGGYXBmZoZBEHzsCEjC930AwPb2Nur1OiqVCoQQaDabOD8/x8TEBAC8zZBxKLvdLl3Xpa7r1HWdpmkymUxGuaBpGkdHR1ksFlksFvn4+Bi7A7EA7u7uKISILszn8zw5OWEul6Ou69HeL8B8Ps9ut/t+AO12m5ZlUVEUKorCSqUS7T09PfHg4ICO40RRLYRgrVZ7P4BOp8Pl5WUahkHDMFiv11+cubm5YTabZTabJQAuLS2x3W6/DwBJHh4eMpFIMJFIcGVl5cW+lJKe59HzPKqqStu26fs+pZSv1v06ORCGYdRix3G4s7PzwmhhGDIMQ87NzdEwDM7OzvL6+vrVum8KolarxVarRc/zODk5yYWFBVarVYZhSPLnGKSULJVKTCaTNAyDruu+GlJvAvhdR0dHzOVyBMBEIsFCocByucxyuczd3V1OTU1RCMGxsbG/mvafAcifL97c3GQ6naamadHXcn5+nqVSiaenp7y9vY069Dcp5PePyTfAN8Dn6gfSEzA4uBnstAAAAABJRU5ErkJggg==\" y=\"-325.050683\"/>\r\n   </g>\r\n  </g>\r\n  <g id=\"axes_22\">\r\n   <g clip-path=\"url(#p1ee6703b36)\">\r\n    <image height=\"32\" id=\"image0dbf084a46\" transform=\"scale(1 -1)translate(0 -32)\" width=\"32\" x=\"121.988571\" xlink:href=\"data:image/png;base64,\r\niVBORw0KGgoAAAANSUhEUgAAACAAAAAgCAYAAABzenr0AAAABHNCSVQICAgIfAhkiAAAAstJREFUWIXtVrtKK1EUXTM5c3KiYsYHgoJxIkwasUghgmBvoX/gD4iFCP6BWPoJImLlF1grFtpYjDYxIFjYSZRIzDivdYtLwhUTc6JXcoW7YBiYvfc6izl7L7ZBkughzF4e/l/APyFA6CaShOd5AIC7uztUKhWEYYizszP4vo9arYaXl5dm/sbGBpaXl5FKpToSd0QURdzf36dt27Rtm0IIWpZF0zQJoOVjWRZ3dnYYx/GH3FoCHh4eWCgUWh4kpWQmk2kZc12XlUrlQ26tHshms5iammoZm5iYwMrKCpRSb74PDg7i8PAQQ0NDH3JrCUilUlhdXYWUElJKGIbRjIVhiJmZGTiOg3Q6jXQ6jUKhgPv7e8zPz3fkNnSd8PX1FVtbWwCAi4sLlEolVKtVAMDk5CQMw0AYhgAAz/MwOjqqQ6vXhA3Eccw4jhmGIY+Pj+k4TvO+hRAsFossFouMokib8+f4AACYptl8Ly0t4fz8HLlcDkEQII5j5HK5N3la6OYKWmF3d5dKKRqGwXw+z3w+33H2/8SXBTw+PnJgYKDpCVJK1mo17fov90BfXx/m5uYAAEEQIAgC3N7eatd/WYBlWVhfX4eUEkopKKUwPj6uXd9VE7aCYRiYnZ1FkiTIZDIA8M4Vv1UAAJRKJURRBN/3AQBSSu3an+UD7dD49V3N/98SkCQJjo6OoJTC9vY2gN+NqY12s723t0fP8zrOcblcpuu6dByH9Xqd9Xpd30TYxoguLy85PT3NbDbLzc1N3tzcMAxDJknCJEmaeb7v03VdDg8Pc21t7V380wKenp64uLhIIQSllLQsi0opCiEohODY2Bj7+/sppSQA2rbNq6urrg5uoO0+UK1WcXBwgNPTU1xfX4MkyuVy894bME0TJycnWFhY+FQTdlxIGmGSzYXj+fkZADAyMvJmO/oMeu4D2ivZd6Hnf6DnAn4BWPjgq6iZEiYAAAAASUVORK5CYII=\" y=\"-325.050683\"/>\r\n   </g>\r\n  </g>\r\n  <g id=\"axes_23\">\r\n   <g clip-path=\"url(#p83cdb57d5e)\">\r\n    <image height=\"32\" id=\"image0cc3bc77dc\" transform=\"scale(1 -1)translate(0 -32)\" width=\"32\" x=\"160.251429\" xlink:href=\"data:image/png;base64,\r\niVBORw0KGgoAAAANSUhEUgAAACAAAAAgCAYAAABzenr0AAAABHNCSVQICAgIfAhkiAAAAhlJREFUWIXtlr1q40AQx39rfZgoSHawIMKQIrERgRACBj1A3BgXfoaUqVLHjd9H+D3cpUkTZJMqEAKJcSGLfNqaFIePKyUZn7kj/2qL3ZnfzuzOjBIRYYsqbdP5D8D/AXB4eIhSCqUUtVqNWq3Gx8dH5vP6ugDT6fT3+vT0FADTNLMbkDWl67oA0mw2JY5jieM43/l1bp+mKWmaopTi4uKC3d3d3DbWegNpmlIul9E0jbu7O5bLJcvl8u8BzGYzKpUKmqbx8PBAqVSiVMpnsnAKRIQkSbBtG13XcRynkJ1/sw6ICCLC6+sr8/kc13W5vr5G0zQ0TctlK1cK3t7eAHh6eqJarfLy8sJ8PmdnZ4fj4+NcjgsBTCYTAPr9Pufn5xwdHWFZFiJCHMfs7+9vDmCxWHB1dQXA8/Mzg8EA3/dptVrc3t7mKr9/KvMb+Pz8JIoioiii3W4TBAF7e3t0u10Mw8j9/VbKHAHDMDg7OwPg8vISwzAQEWzb5uvriyRJNgsAoOu/ti8WC1aTnOu6GIaB53mFALZeBzJ3wzRNxXEccRxHer2evL+/y3Q6lV6vJwcHB7m7YO5uqJSiXq8DcHNzw3g85v7+ntFohO/72LZdKABKJPtYHkURAJ1OB8/zsCyLJEkIw5BGo1EIoNBAEgSBmKYpJycn8vj4WCj0KxUCCMNQTNOU4XC4lnMRkVwp2IS2/g1/AH4AvgGm4nCQmtTkugAAAABJRU5ErkJggg==\" y=\"-325.050683\"/>\r\n   </g>\r\n  </g>\r\n  <g id=\"axes_24\">\r\n   <g clip-path=\"url(#pfd7ce77e5b)\">\r\n    <image height=\"32\" id=\"imagecc144b0caf\" transform=\"scale(1 -1)translate(0 -32)\" width=\"32\" x=\"198.514286\" xlink:href=\"data:image/png;base64,\r\niVBORw0KGgoAAAANSUhEUgAAACAAAAAgCAYAAABzenr0AAAABHNCSVQICAgIfAhkiAAAAxVJREFUWIXNVz1LI1EUPU93kugMOgEbNcbEwkYDVoKMIFgErLTwB5gigrY2WthYWwsBWwv/gGi6CClEIYVdCiWkMoIzITMZ8zFztlhW2F2zO8kkuKd959x73n3cy7uCJNFntFotSJLkiSsGYYAkhBCeuEP9Tg7Ac/K+G3AcB47jdKUZSAW+xMD+/j4SiQQSiURXum/9MpDP5xGLxbrW9aUCJPH29gZJkjy330/4rgBJFAoFmKaJYrEIAGg0GggGg/0zUK1WUSgU8Pj4CAAYGxtDJpNBuVzG4uIiLMvC+/s7np+fAQD39/dYXV31fIOOyOVyTCaTXFhYoCRJBEAAFEJwaGiIQggGg0FGIhGGQqGP842Njb+F/QUdDbTbbYbDYU5MTPD09JSbm5sfCQAwEAgwHo/z8PCQDw8PPDs7oyRJlCSJQggahuHJwJfPgY4VsCyLiqIwnU7TcRySpG3btG2b8/PzlCSJsixzZWWF5XKZjuMwm80ym81SCMHt7W1/T/Dy8kJVVXl5efnpebFYZDwep6Io1DSNlUqFpVKJpVKJ0WiU0WiU7Xa7dwOWZXFra4vHx8e0bftTjuM4zGQyHB8fZyAQoKqqVFWVIyMjjEQitCyrdwMkeXt7y+vra66vr/Pk5IS6rlPX9V84tm1zb2+PiqJQCEEhBAEwFAqxWq36M+C6LpvNJo+OjhiPx6lpGjVNo2maf3ANw2AqlWIqlaIsy5ycnPyU15WBn2g0Gjw/P6eiKFQUhbu7u3x9fe3IdxyHrVaLruv+M7bnH1Gr1UI6nQYA5HI5zM7O4uLiAtPT07668P+dA5+hXq+zXq/z6emJc3NzXFpaYq1W6yZE70/wOwzDQDKZRDgcxtXVFYaHhwdfgd9RqVQYi8WYz+d7juHLgOu63NnZ4draWsdhNVAD5I+RPDMzw5ubm570vrtAlmW4rouDgwM0m000m82u9L43o1qthqmpKZimieXlZQDA3d2dZ/2XzwHfFWg0GgiHw7Bt+2MlM00To6OjnvS+f8XBYBCmaULXdZimCQCekwMD2o67wXcKgrlTTDe6RwAAAABJRU5ErkJggg==\" y=\"-325.050683\"/>\r\n   </g>\r\n  </g>\r\n  <g id=\"text_1\">\r\n   <!-- epoch49 -->\r\n   <defs>\r\n    <path d=\"M 56.203125 29.59375 \r\nL 56.203125 25.203125 \r\nL 14.890625 25.203125 \r\nQ 15.484375 15.921875 20.484375 11.0625 \r\nQ 25.484375 6.203125 34.421875 6.203125 \r\nQ 39.59375 6.203125 44.453125 7.46875 \r\nQ 49.3125 8.734375 54.109375 11.28125 \r\nL 54.109375 2.78125 \r\nQ 49.265625 0.734375 44.1875 -0.34375 \r\nQ 39.109375 -1.421875 33.890625 -1.421875 \r\nQ 20.796875 -1.421875 13.15625 6.1875 \r\nQ 5.515625 13.8125 5.515625 26.8125 \r\nQ 5.515625 40.234375 12.765625 48.109375 \r\nQ 20.015625 56 32.328125 56 \r\nQ 43.359375 56 49.78125 48.890625 \r\nQ 56.203125 41.796875 56.203125 29.59375 \r\nz\r\nM 47.21875 32.234375 \r\nQ 47.125 39.59375 43.09375 43.984375 \r\nQ 39.0625 48.390625 32.421875 48.390625 \r\nQ 24.90625 48.390625 20.390625 44.140625 \r\nQ 15.875 39.890625 15.1875 32.171875 \r\nz\r\n\" id=\"DejaVuSans-101\"/>\r\n    <path d=\"M 18.109375 8.203125 \r\nL 18.109375 -20.796875 \r\nL 9.078125 -20.796875 \r\nL 9.078125 54.6875 \r\nL 18.109375 54.6875 \r\nL 18.109375 46.390625 \r\nQ 20.953125 51.265625 25.265625 53.625 \r\nQ 29.59375 56 35.59375 56 \r\nQ 45.5625 56 51.78125 48.09375 \r\nQ 58.015625 40.1875 58.015625 27.296875 \r\nQ 58.015625 14.40625 51.78125 6.484375 \r\nQ 45.5625 -1.421875 35.59375 -1.421875 \r\nQ 29.59375 -1.421875 25.265625 0.953125 \r\nQ 20.953125 3.328125 18.109375 8.203125 \r\nz\r\nM 48.6875 27.296875 \r\nQ 48.6875 37.203125 44.609375 42.84375 \r\nQ 40.53125 48.484375 33.40625 48.484375 \r\nQ 26.265625 48.484375 22.1875 42.84375 \r\nQ 18.109375 37.203125 18.109375 27.296875 \r\nQ 18.109375 17.390625 22.1875 11.75 \r\nQ 26.265625 6.109375 33.40625 6.109375 \r\nQ 40.53125 6.109375 44.609375 11.75 \r\nQ 48.6875 17.390625 48.6875 27.296875 \r\nz\r\n\" id=\"DejaVuSans-112\"/>\r\n    <path d=\"M 30.609375 48.390625 \r\nQ 23.390625 48.390625 19.1875 42.75 \r\nQ 14.984375 37.109375 14.984375 27.296875 \r\nQ 14.984375 17.484375 19.15625 11.84375 \r\nQ 23.34375 6.203125 30.609375 6.203125 \r\nQ 37.796875 6.203125 41.984375 11.859375 \r\nQ 46.1875 17.53125 46.1875 27.296875 \r\nQ 46.1875 37.015625 41.984375 42.703125 \r\nQ 37.796875 48.390625 30.609375 48.390625 \r\nz\r\nM 30.609375 56 \r\nQ 42.328125 56 49.015625 48.375 \r\nQ 55.71875 40.765625 55.71875 27.296875 \r\nQ 55.71875 13.875 49.015625 6.21875 \r\nQ 42.328125 -1.421875 30.609375 -1.421875 \r\nQ 18.84375 -1.421875 12.171875 6.21875 \r\nQ 5.515625 13.875 5.515625 27.296875 \r\nQ 5.515625 40.765625 12.171875 48.375 \r\nQ 18.84375 56 30.609375 56 \r\nz\r\n\" id=\"DejaVuSans-111\"/>\r\n    <path d=\"M 48.78125 52.59375 \r\nL 48.78125 44.1875 \r\nQ 44.96875 46.296875 41.140625 47.34375 \r\nQ 37.3125 48.390625 33.40625 48.390625 \r\nQ 24.65625 48.390625 19.8125 42.84375 \r\nQ 14.984375 37.3125 14.984375 27.296875 \r\nQ 14.984375 17.28125 19.8125 11.734375 \r\nQ 24.65625 6.203125 33.40625 6.203125 \r\nQ 37.3125 6.203125 41.140625 7.25 \r\nQ 44.96875 8.296875 48.78125 10.40625 \r\nL 48.78125 2.09375 \r\nQ 45.015625 0.34375 40.984375 -0.53125 \r\nQ 36.96875 -1.421875 32.421875 -1.421875 \r\nQ 20.0625 -1.421875 12.78125 6.34375 \r\nQ 5.515625 14.109375 5.515625 27.296875 \r\nQ 5.515625 40.671875 12.859375 48.328125 \r\nQ 20.21875 56 33.015625 56 \r\nQ 37.15625 56 41.109375 55.140625 \r\nQ 45.0625 54.296875 48.78125 52.59375 \r\nz\r\n\" id=\"DejaVuSans-99\"/>\r\n    <path d=\"M 54.890625 33.015625 \r\nL 54.890625 0 \r\nL 45.90625 0 \r\nL 45.90625 32.71875 \r\nQ 45.90625 40.484375 42.875 44.328125 \r\nQ 39.84375 48.1875 33.796875 48.1875 \r\nQ 26.515625 48.1875 22.3125 43.546875 \r\nQ 18.109375 38.921875 18.109375 30.90625 \r\nL 18.109375 0 \r\nL 9.078125 0 \r\nL 9.078125 75.984375 \r\nL 18.109375 75.984375 \r\nL 18.109375 46.1875 \r\nQ 21.34375 51.125 25.703125 53.5625 \r\nQ 30.078125 56 35.796875 56 \r\nQ 45.21875 56 50.046875 50.171875 \r\nQ 54.890625 44.34375 54.890625 33.015625 \r\nz\r\n\" id=\"DejaVuSans-104\"/>\r\n    <path d=\"M 37.796875 64.3125 \r\nL 12.890625 25.390625 \r\nL 37.796875 25.390625 \r\nz\r\nM 35.203125 72.90625 \r\nL 47.609375 72.90625 \r\nL 47.609375 25.390625 \r\nL 58.015625 25.390625 \r\nL 58.015625 17.1875 \r\nL 47.609375 17.1875 \r\nL 47.609375 0 \r\nL 37.796875 0 \r\nL 37.796875 17.1875 \r\nL 4.890625 17.1875 \r\nL 4.890625 26.703125 \r\nz\r\n\" id=\"DejaVuSans-52\"/>\r\n    <path d=\"M 10.984375 1.515625 \r\nL 10.984375 10.5 \r\nQ 14.703125 8.734375 18.5 7.8125 \r\nQ 22.3125 6.890625 25.984375 6.890625 \r\nQ 35.75 6.890625 40.890625 13.453125 \r\nQ 46.046875 20.015625 46.78125 33.40625 \r\nQ 43.953125 29.203125 39.59375 26.953125 \r\nQ 35.25 24.703125 29.984375 24.703125 \r\nQ 19.046875 24.703125 12.671875 31.3125 \r\nQ 6.296875 37.9375 6.296875 49.421875 \r\nQ 6.296875 60.640625 12.9375 67.421875 \r\nQ 19.578125 74.21875 30.609375 74.21875 \r\nQ 43.265625 74.21875 49.921875 64.515625 \r\nQ 56.59375 54.828125 56.59375 36.375 \r\nQ 56.59375 19.140625 48.40625 8.859375 \r\nQ 40.234375 -1.421875 26.421875 -1.421875 \r\nQ 22.703125 -1.421875 18.890625 -0.6875 \r\nQ 15.09375 0.046875 10.984375 1.515625 \r\nz\r\nM 30.609375 32.421875 \r\nQ 37.25 32.421875 41.125 36.953125 \r\nQ 45.015625 41.5 45.015625 49.421875 \r\nQ 45.015625 57.28125 41.125 61.84375 \r\nQ 37.25 66.40625 30.609375 66.40625 \r\nQ 23.96875 66.40625 20.09375 61.84375 \r\nQ 16.21875 57.28125 16.21875 49.421875 \r\nQ 16.21875 41.5 20.09375 36.953125 \r\nQ 23.96875 32.421875 30.609375 32.421875 \r\nz\r\n\" id=\"DejaVuSans-57\"/>\r\n   </defs>\r\n   <g transform=\"translate(89.29125 16.318125)scale(0.12 -0.12)\">\r\n    <use xlink:href=\"#DejaVuSans-101\"/>\r\n    <use x=\"61.523438\" xlink:href=\"#DejaVuSans-112\"/>\r\n    <use x=\"125\" xlink:href=\"#DejaVuSans-111\"/>\r\n    <use x=\"186.181641\" xlink:href=\"#DejaVuSans-99\"/>\r\n    <use x=\"241.162109\" xlink:href=\"#DejaVuSans-104\"/>\r\n    <use x=\"304.541016\" xlink:href=\"#DejaVuSans-52\"/>\r\n    <use x=\"368.164062\" xlink:href=\"#DejaVuSans-57\"/>\r\n   </g>\r\n  </g>\r\n </g>\r\n <defs>\r\n  <clipPath id=\"p126f6fd5df\">\r\n   <rect height=\"31.885714\" width=\"31.885714\" x=\"7.2\" y=\"69.909317\"/>\r\n  </clipPath>\r\n  <clipPath id=\"pd9a1a230ad\">\r\n   <rect height=\"31.885714\" width=\"31.885714\" x=\"45.462857\" y=\"69.909317\"/>\r\n  </clipPath>\r\n  <clipPath id=\"pa0c13ecd55\">\r\n   <rect height=\"31.885714\" width=\"31.885714\" x=\"83.725714\" y=\"69.909317\"/>\r\n  </clipPath>\r\n  <clipPath id=\"p68dcf99f76\">\r\n   <rect height=\"31.885714\" width=\"31.885714\" x=\"121.988571\" y=\"69.909317\"/>\r\n  </clipPath>\r\n  <clipPath id=\"pa60bb6c672\">\r\n   <rect height=\"31.885714\" width=\"31.885714\" x=\"160.251429\" y=\"69.909317\"/>\r\n  </clipPath>\r\n  <clipPath id=\"pf61f2e1922\">\r\n   <rect height=\"31.885714\" width=\"31.885714\" x=\"198.514286\" y=\"69.909317\"/>\r\n  </clipPath>\r\n  <clipPath id=\"p7219d37eae\">\r\n   <rect height=\"31.885714\" width=\"31.885714\" x=\"7.2\" y=\"154.994534\"/>\r\n  </clipPath>\r\n  <clipPath id=\"p3be3d06ca3\">\r\n   <rect height=\"31.885714\" width=\"31.885714\" x=\"45.462857\" y=\"154.994534\"/>\r\n  </clipPath>\r\n  <clipPath id=\"pce46895603\">\r\n   <rect height=\"31.885714\" width=\"31.885714\" x=\"83.725714\" y=\"154.994534\"/>\r\n  </clipPath>\r\n  <clipPath id=\"pc8414b2f09\">\r\n   <rect height=\"31.885714\" width=\"31.885714\" x=\"121.988571\" y=\"154.994534\"/>\r\n  </clipPath>\r\n  <clipPath id=\"pa56b2e3d66\">\r\n   <rect height=\"31.885714\" width=\"31.885714\" x=\"160.251429\" y=\"154.994534\"/>\r\n  </clipPath>\r\n  <clipPath id=\"p9fac782b41\">\r\n   <rect height=\"31.885714\" width=\"31.885714\" x=\"198.514286\" y=\"154.994534\"/>\r\n  </clipPath>\r\n  <clipPath id=\"p5de7de3e57\">\r\n   <rect height=\"31.885714\" width=\"31.885714\" x=\"7.2\" y=\"240.079752\"/>\r\n  </clipPath>\r\n  <clipPath id=\"p9d3a9165e4\">\r\n   <rect height=\"31.885714\" width=\"31.885714\" x=\"45.462857\" y=\"240.079752\"/>\r\n  </clipPath>\r\n  <clipPath id=\"pa9736c7e08\">\r\n   <rect height=\"31.885714\" width=\"31.885714\" x=\"83.725714\" y=\"240.079752\"/>\r\n  </clipPath>\r\n  <clipPath id=\"pf9e0dfdb4a\">\r\n   <rect height=\"31.885714\" width=\"31.885714\" x=\"121.988571\" y=\"240.079752\"/>\r\n  </clipPath>\r\n  <clipPath id=\"p2e60460622\">\r\n   <rect height=\"31.885714\" width=\"31.885714\" x=\"160.251429\" y=\"240.079752\"/>\r\n  </clipPath>\r\n  <clipPath id=\"p1596c21dc3\">\r\n   <rect height=\"31.885714\" width=\"31.885714\" x=\"198.514286\" y=\"240.079752\"/>\r\n  </clipPath>\r\n  <clipPath id=\"pb1c153acdc\">\r\n   <rect height=\"31.885714\" width=\"31.885714\" x=\"7.2\" y=\"325.164969\"/>\r\n  </clipPath>\r\n  <clipPath id=\"pd757863b0b\">\r\n   <rect height=\"31.885714\" width=\"31.885714\" x=\"45.462857\" y=\"325.164969\"/>\r\n  </clipPath>\r\n  <clipPath id=\"p1d86651fef\">\r\n   <rect height=\"31.885714\" width=\"31.885714\" x=\"83.725714\" y=\"325.164969\"/>\r\n  </clipPath>\r\n  <clipPath id=\"p1ee6703b36\">\r\n   <rect height=\"31.885714\" width=\"31.885714\" x=\"121.988571\" y=\"325.164969\"/>\r\n  </clipPath>\r\n  <clipPath id=\"p83cdb57d5e\">\r\n   <rect height=\"31.885714\" width=\"31.885714\" x=\"160.251429\" y=\"325.164969\"/>\r\n  </clipPath>\r\n  <clipPath id=\"pfd7ce77e5b\">\r\n   <rect height=\"31.885714\" width=\"31.885714\" x=\"198.514286\" y=\"325.164969\"/>\r\n  </clipPath>\r\n </defs>\r\n</svg>\r\n",
            "image/png": "[encoded data removed]"
          },
          "metadata": {
            "needs_background": "light"
          }
        }
      ]
    }
  ]
}
