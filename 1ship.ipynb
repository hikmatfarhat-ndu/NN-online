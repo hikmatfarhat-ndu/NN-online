{
  "nbformat": 4,
  "nbformat_minor": 0,
  "metadata": {
    "orig_nbformat": 2,
    "kernelspec": {
      "name": "python3",
      "display_name": "Python 3"
    },
    "colab": {
      "name": "ship.ipynb",
      "provenance": []
    },
    "accelerator": "GPU"
  },
  "cells": [
    {
      "cell_type": "markdown",
      "metadata": {
        "id": "EMl5OP9t3CeN"
      },
      "source": [
        "<a href=\"https://colab.research.google.com/github/hikmatfarhat-ndu/CSC645/blob/master/1ship.ipynb\" target=\"_parent\"><img src=\"https://colab.research.google.com/assets/colab-badge.svg\" alt=\"Open In Colab\"/></a>"
      ]
    },
    {
      "cell_type": "markdown",
      "metadata": {
        "id": "QzAGoawvkOyE"
      },
      "source": [
        "# Supervised Learning\n",
        "\n",
        "Machine learning tasks can be loosely grouped into three categories\n",
        "1. Supervised Learning\n",
        "1. Unsupervised Learning\n",
        "1. Reinforcement Learning\n",
        "\n",
        "In this course we will practice mostly supervised learning. In supervised learning we are given N data points.\n",
        "\n",
        "$$Data=\\{(x_1,y_1),\\ldots,(x_N,y_N)\\}$$ \n",
        "\n",
        "presumably generated (or sampled) by some __unknown__  function __y=f(x)__. Our goal basically is to __learn__ (an approximation of) __f(x)__. If we do it successfully then for any input __x__ we can compute __y=f(x)__. We type of supervised learning is __classification__. In this case __y__ belongs to a discrete set of classes _C_. For classification problem usually we assume that each pair $(x_i,y_i)$ was sampled from some __unknown__ probability distribution __p(y|x)__ and our task is to learn an approximation of __p(y|x)__.\n",
        "\n",
        "In this lecure we give the first example of **supervised learning**. We are given a set of (image,label) pairs (CIFAR10)   where each image can be in one of the __ten__ classes: ship, horse, car...etc and so each label is a value between 0 and 9 denoting the class of image. For example an image with an associated label of 8 is that of a ship. \n",
        "\n",
        "Our goal is \"learn\" a probability function __p(y|x)__ which, given an input image, it gives us the probability that that image is a ship or not (you can use others).\n",
        "\n"
      ]
    },
    {
      "cell_type": "markdown",
      "metadata": {
        "id": "KWRP93VKkOyI"
      },
      "source": [
        "## Logistic Regression\n",
        "\n",
        "In this module we introduce Logistic Regression which can be regarded as the simplest neural network, a single \"neuron\". This type of network is sometime called a Perceptron, but the method used for learning is different from the way a Perceptron learns. \n",
        "\n",
        "As can be seen from the figure below the input is a vector of size _n_ and it feeds a single unit (a neuron or perceptron). To obtain the output we perform the **dot** product between the matrix **W** and the input **x** and the result is fed into some function (usually nonlinear) _f_\n",
        "\n",
        "$$\n",
        "\\begin{align*}\n",
        "z&=\\sum_iw_i\\cdot x_i+b\\\\\n",
        "\\hat{p}(y|x)&=f(z)\n",
        "\\end{align*}\n",
        "$$\n",
        "\n",
        "Since $z$ depends on $w$ and $b$ so does $\\hat{p}$. The input and _f_ are known whereas _W_ and _b_ are parameters to be determined. Our goal is to find the _optimal_ _W_ and _b_ such that the output is as close as possible to the label associated with the input.\n",
        "![title](https://github.com/hikmatfarhat-ndu/CSC645/blob/master/figures/perceptron.png?raw=1)\n"
      ]
    },
    {
      "cell_type": "markdown",
      "metadata": {
        "id": "-bYPx_7YkOyK"
      },
      "source": [
        "## Needed Packages\n",
        "We need a few packages to help us in this module.\n",
        "1. Tensorflow is needed just to retreive the data. We can always downloaded  \n",
        "    from the web and read it but it is convenient to use tensorflow.\n",
        "1.matplotlib is used for graphs. \n",
        "1. all matrix computation is done with numpy (or cupy). \n",
        "numpy is the de facto standard of matrix computation with python. cupy has almost the same interface but it uses NVIDIA cuda to perform the computation on the GPU. If you have access to a GPU ( like we have on Google colab) it is better to use cupy. If you are using Google colab go to Runtime->change runtime type and choose GPU"
      ]
    },
    {
      "cell_type": "code",
      "metadata": {
        "id": "4Uk5mr3L3CeS"
      },
      "source": [
        "import cupy as np \n",
        "#import numpy as np\n",
        "import matplotlib.pyplot as plt\n",
        "import tensorflow as tf"
      ],
      "execution_count": 1,
      "outputs": []
    },
    {
      "cell_type": "markdown",
      "metadata": {
        "id": "mKskktTfkOyc"
      },
      "source": [
        "## The data\n",
        "\n",
        "The CIFAR10 data set contains 50000 images for trainning and 10000 for testing. Each image has dimension 32x32 pixels and each pixel has an RGB value. Also each image has an associated label from 0 to 9 describing what type of image it is. The keras function returns tensors of type numpy.ndarray.\n",
        "After reading the data we print some of its properties and plot the first ten images."
      ]
    },
    {
      "cell_type": "code",
      "metadata": {
        "tags": [],
        "id": "m70hk4cc3Cej",
        "outputId": "c9061792-62c7-4ce3-f4d0-95b7eff80f8e",
        "colab": {
          "base_uri": "https://localhost:8080/",
          "height": 69
        }
      },
      "source": [
        "(img_train,label_train),(img_test,label_test)=tf.keras.datasets.cifar10.load_data()\n",
        "print(img_train.shape)\n",
        "print(label_train.shape)\n",
        "print(type(img_train))\n"
      ],
      "execution_count": 2,
      "outputs": [
        {
          "output_type": "stream",
          "text": [
            "(50000, 32, 32, 3)\n",
            "(50000, 1)\n",
            "<class 'numpy.ndarray'>\n"
          ],
          "name": "stdout"
        }
      ]
    },
    {
      "cell_type": "markdown",
      "metadata": {
        "id": "bsDWCG2Sokl3"
      },
      "source": [
        "## Plotting the images\n",
        "\n",
        "We plot the first ten images using matplotlib where the title on top is the corresponding label. As can be seen 9--> Truck, 1-->car, 8-->ship... etc\n"
      ]
    },
    {
      "cell_type": "code",
      "metadata": {
        "id": "StAPFRYWkOyq",
        "outputId": "3ce10781-020b-4cf8-9037-0a2a9f74f774",
        "colab": {
          "base_uri": "https://localhost:8080/",
          "height": 233
        }
      },
      "source": [
        "fig=plt.figure()\n",
        "fig.tight_layout()\n",
        "plt.subplots_adjust( wspace=1, hspace=1)\n",
        "\n",
        "for i in range(1,11):\n",
        "    img=img_train[i]    \n",
        "    t=fig.add_subplot(2,5,i)\n",
        "    t.set_title(str(label_train[i]))\n",
        "    t.axes.get_xaxis().set_visible(False)\n",
        "    t.axes.get_yaxis().set_visible(False)\n",
        "    plt.imshow(img)\n"
      ],
      "execution_count": 3,
      "outputs": [
        {
          "output_type": "display_data",
          "data": {
            "image/png": "[encoded data removed]",
            "text/plain": [
              "<Figure size 432x288 with 10 Axes>"
            ]
          },
          "metadata": {
            "tags": [],
            "needs_background": "light"
          }
        }
      ]
    },
    {
      "cell_type": "markdown",
      "metadata": {
        "id": "u91W-0xKo1wS"
      },
      "source": [
        "## Preprocessing the data\n",
        "\n",
        "img_train is a tensor of shape (50000,32,32,3). This means we have 50000 images with of size 32x32 with RGB encoding. Since our logistic regression assumes the input is a vector we flatten the data. Also the return value from keras is of type numpy.ndarray it would cause a problem with cupy so we convert it to cupy array.\n",
        "Finally, since the data is a row vector we convert it to a column vector by taking the transpose:  X.T is the transpose of X\n"
      ]
    },
    {
      "cell_type": "code",
      "metadata": {
        "tags": [],
        "id": "QRAYR6DU3Cev",
        "outputId": "d48f51e8-9015-4839-c663-613d61598e69",
        "colab": {
          "base_uri": "https://localhost:8080/",
          "height": 69
        }
      },
      "source": [
        "img_train=np.array(img_train.reshape(50000,32*32*3)/255.)\n",
        "img_test=np.array(img_test.reshape(10000,32*32*3)/255.)\n",
        "label_train=np.array(label_train.reshape(50000,1))\n",
        "label_test=np.array(label_test.reshape(10000,1))\n",
        "\n",
        "print(img_train.shape)\n",
        "print(type(img_train))\n",
        "print(label_train.shape)\n"
      ],
      "execution_count": 4,
      "outputs": [
        {
          "output_type": "stream",
          "text": [
            "(50000, 3072)\n",
            "<class 'cupy.core.core.ndarray'>\n",
            "(50000, 1)\n"
          ],
          "name": "stdout"
        }
      ]
    },
    {
      "cell_type": "markdown",
      "metadata": {
        "id": "wtlXsJXtp3Ua"
      },
      "source": [
        "## Binary classification"
      ]
    },
    {
      "cell_type": "markdown",
      "metadata": {
        "id": "Nsu_YVsm3Ce-"
      },
      "source": [
        "In this exercise we would like to recognize if an image contains a ship (label=8) or not. We convert anything that is 8 to 1 and everything else to 0"
      ]
    },
    {
      "cell_type": "code",
      "metadata": {
        "id": "zB5AbuWa3CfA"
      },
      "source": [
        "\n",
        "feature=8\n",
        "for i in range(label_train.shape[0]):\n",
        "    if label_train[i]==feature:\n",
        "        label_train[i]=1\n",
        "    else:\n",
        "        label_train[i]=0\n",
        "\n",
        "for i in range(label_test.shape[0]):\n",
        "    if label_test[i]==feature:\n",
        "        label_test[i]=1\n",
        "    else:\n",
        "        label_test[i]=0        \n"
      ],
      "execution_count": 5,
      "outputs": []
    },
    {
      "cell_type": "markdown",
      "metadata": {
        "id": "Q5Lj6AbgqGFG"
      },
      "source": [
        "## Sigmoid\n",
        "\n",
        "So far we have not specified the function _f_ that our  model depends on $\\hat{p}=f(z)$. In this example we use the **sigmoid** function. Given an input _z_ it has the form\n",
        "\n",
        "$$\n",
        "\\begin{align*}\n",
        "\\sigma=\\frac{1}{1+e^{-z}}\n",
        "\\end{align*}\n",
        "$$\n",
        "\n",
        "We can plot the sigmoid function using matplotlib. As you can see below the values of $\\sigma$ go from 0 to 1 which we interpret as a probability. For example, if $\\sigma=0.65$ then the probability of the image being a **ship** is 0.65 and of **not** being one is 0.35 so decide it is a ship.\n"
      ]
    },
    {
      "cell_type": "code",
      "metadata": {
        "id": "nITpqcXBavpA",
        "outputId": "e3fd0e2b-e7ab-4c81-8d46-4e0f98fcd1c6",
        "colab": {
          "base_uri": "https://localhost:8080/",
          "height": 265
        }
      },
      "source": [
        "z=[1/(1+np.exp(-x)) for x in range(-10,11)]\n",
        "plt.plot([x for x in range(-10,11)],z)\n",
        "plt.xticks([t for t in range(-10,11,2)])\n",
        "plt.show()"
      ],
      "execution_count": 6,
      "outputs": [
        {
          "output_type": "display_data",
          "data": {
            "image/png": "[encoded data removed]",
            "text/plain": [
              "<Figure size 432x288 with 1 Axes>"
            ]
          },
          "metadata": {
            "tags": [],
            "needs_background": "light"
          }
        }
      ]
    },
    {
      "cell_type": "code",
      "metadata": {
        "id": "e-VCy7S_3CfL"
      },
      "source": [
        "def sigmoid(z):\n",
        "    s = 1/(1+np.exp(-z))\n",
        "    return s\n"
      ],
      "execution_count": 7,
      "outputs": []
    },
    {
      "cell_type": "markdown",
      "metadata": {
        "id": "d_uOQhhO3uzf"
      },
      "source": [
        "## Learning\n",
        "\n",
        "So how do we learn the __unknown__ conditional probability __p(y|x)__ of a given input image being a ship or not?\n",
        "Note that we have already modeled our conditional probability as a sigmoid: $$\\hat{p}_{w,b}(y=1|x)=\\sigma_{w,b}(x)$$\n",
        "and clearly \n",
        "$$\\hat{p}_{w,b}(y=0|x)=1-\\sigma_{w,b}(x)$$\n",
        "Where we have explicitly showed the dependence of $\\sigma$ on the weights $w$ and the bias $b$\n",
        "\n",
        "We can combine both outcomes, and drop the subscripts for simplicity keeping in mind that $\\sigma$ depends on both $w$ and $b$, to obtain our distribution\n",
        "$$\\hat{p}_{w,b}(y|x)=\\sigma(x)^y(1-\\sigma(x))^{1-y}$$"
      ]
    },
    {
      "cell_type": "markdown",
      "metadata": {
        "id": "EfiBT94z5d8G"
      },
      "source": [
        "### Kullback-Leibler\n",
        "\n",
        "To obtain our best model we use the Kullback-Leibler divergence formula (or relative entropy) to measure how close our distribution $\\hat{p}$ is to the __true__ but __unknown__ distribution $p$\n",
        "\n",
        "$$KL(p||\\hat{p})=\\sum_{x,y}p(y|x)\\log\\frac{p(y|x)}{\\hat{p}(y|x)}=-\\sum_{x,y}p(y|x)\\log \\hat{p}(y|x)+\\sum_{x,y}p(y|x)\\log p(y|x) >=0$$\n",
        "\n",
        "Our goal is to obtain $\\hat{p}$ as close as possible to $p$ so we minimize the KL. Since the second term does not depend on $w$ and $b$ we minimize the first term, or maximize its negative, i.e. __maximize the log-likelihood__\n",
        "$$\\mathbb{E}_{x,y\\sim p}[\\log \\hat{p}(y|x)]$$\n",
        "\n",
        "But since we don't have access to the __true__ __unknown__ distribution we replace the expectation with an expectation over the data. Let $D=\\{(x_1,y_1),\\ldots,(x_n,y_n)\\}$ be our data set then\n",
        "$$\\mathbb{E}_{x,y\\sim p}[\\log \\hat{p}(y|x)]\\approx \\frac{1}{|D|}\\sum_{x,y\\in D}\\log \\hat{p}(y|x)$$\n",
        "\n",
        "In the current setting recall that $\\hat{p}(y|x)=\\sigma_w(w)^y(1-\\sigma_w(x))^{1-y}$\n",
        "\n",
        "Therefore we obtain the expression to be minimized\n",
        "$$E=\\frac{1}{|D|}\\sum_{x,y\\in D}y\\cdot\\sigma_w(x)+(1-y)\\cdot(1-\\sigma_w(x))$$\n",
        "\n",
        "In what follows we will refer to the above expression for $E$ as the __error__\n",
        "\n"
      ]
    },
    {
      "cell_type": "markdown",
      "metadata": {
        "id": "KsWE14PLqTMe"
      },
      "source": [
        "## Gradient Descent\n",
        "\n",
        "Now that we have an expression to optimize we need a method to find the optimal parameters. Typically, one computes the gradient and the optimal value corresponds to the value  of the parameters when the gradient vanishes. Unfortunately, for logistic regression there is __no closed form solution__ so we seek a numerical method to find the optimal parameters.\n",
        "\n",
        "Our goal is to find the **optimal** values for _W_ and _b_. To do so we give them some _arbitrary_ values and then using the expression for $E$\n",
        "In the figure below we show an arbitrary function _E(w)_. For a given value of _w_ we compute the derivative (slope) of _E_ with respect to _w_ (two different values are shown). The point on the left side has a negative slope so we need to **increase** the value of _w_ to move toward the minimum whereas the point on the right side the slope is positive so we have to **decrease** the value of _w_. \n",
        "\n",
        "In general we \"update\" the values of _w_ and _b_ as follows\n",
        "\n",
        "$$\n",
        "\\begin{align*}\n",
        "  w=w-\\alpha\\cdot \\frac{\\partial E}{\\partial w}\\\\\n",
        "  b=b-\\alpha\\cdot \\frac{\\partial E}{\\partial b}\n",
        "\\end{align*}\n",
        "$$\n",
        "\n",
        "where $\\alpha$ is a parameter chosen by us, called the __learning rate__."
      ]
    },
    {
      "cell_type": "markdown",
      "metadata": {
        "id": "weMlF8yqScvo"
      },
      "source": [
        "\n",
        "<center>\n",
        "<img src=\"https://github.com/hikmatfarhat-ndu/CSC645/blob/master/figures/gradient-descent.png?raw=1\" width=\"350\">\n",
        "</center>\n",
        "\n"
      ]
    },
    {
      "cell_type": "markdown",
      "metadata": {
        "id": "7SZ1EkLBkQYn"
      },
      "source": [
        "## Gradient Descent for Logistic Regression\n",
        "\n",
        "The first thing we need to do is compute the __derivatives__ of $E$ with respect to the parameters. \n",
        "\n",
        "Let $X$ and $Y$ be a sample image and its corresponding label. And let $\\hat{p}$ be the probability that the outcome is $Y$ given input $X$ our __error__ function can be written as \n",
        "\n",
        "$$\n",
        "\\begin{align*}\n",
        "E=-Y\\log\\hat{p}-(1-Y)\\log (1-\\hat{p})\n",
        "\\end{align*}\n",
        "$$\n",
        "\n",
        "Taking the derivative with respect to _w_ and _b_ we get\n",
        "\n",
        "$$\n",
        "\\begin{align*}\n",
        "dw &=\\frac{\\partial E}{\\partial w}=X^T\\cdot (\\hat{p}-Y)/m\\\\\n",
        "db &=\\frac{\\partial E}{\\partial b}=\\sum_{i=1}^{m}(\\hat{p}_i-Y_i)/m\n",
        "\\end{align*}\n",
        "$$\n",
        "\n",
        "Where $T$ is the transpose, $\\cdot$ is the dot product and $m$ is the number of samples. For details on the above **please refer to the pdf lecture notes**"
      ]
    },
    {
      "cell_type": "code",
      "metadata": {
        "id": "AaogpCm63Cfg"
      },
      "source": [
        "# Perform forward propagation\n",
        "# Then compute the cost and gradient\n",
        "def propagate(w, b, X, Y):\n",
        "# m is the number of samples which is the number of rows in X\n",
        "    m = X.shape[0]\n",
        "    p_hat= sigmoid(np.dot(X,w)+b)   # compute activation\n",
        "    cost=-np.sum(Y*np.log(p_hat)+(1-Y)*np.log(1-p_hat))/m\n",
        "    # Compute Derivatives\n",
        "    dw = np.dot(X.T,(p_hat-Y))/m\n",
        "    db = np.sum(p_hat-Y)/m\n",
        "    cost = np.squeeze(cost)\n",
        "    \n",
        "    return dw, db, cost\n"
      ],
      "execution_count": 8,
      "outputs": []
    },
    {
      "cell_type": "code",
      "metadata": {
        "id": "ZZtUVolZ3CfW"
      },
      "source": [
        "def initialize(dim):\n",
        "  # this sets the initial p_hat to 0.5\n",
        "    w = np.zeros((dim,1))\n",
        "    b = 0\n",
        "    \n",
        "    return w, b"
      ],
      "execution_count": 9,
      "outputs": []
    },
    {
      "cell_type": "code",
      "metadata": {
        "id": "ZoR7_2Rfu-uJ"
      },
      "source": [
        "learning_rate = 0.026\n",
        "print_cost = True\n",
        "\n",
        "    \n",
        "# initialize parameters with zeros \n",
        "w, b = initialize(img_train.shape[1])\n",
        "dw,db,cost=propagate(w,b,img_train,label_train)\n"
      ],
      "execution_count": 10,
      "outputs": []
    },
    {
      "cell_type": "markdown",
      "metadata": {
        "id": "NramD97ZqIra"
      },
      "source": [
        "## Parameter initialization"
      ]
    },
    {
      "cell_type": "markdown",
      "metadata": {
        "id": "Vy2onH1IDqfh"
      },
      "source": [
        "### Gradient Descent\n",
        "\n",
        "A single step of gradient descent. Update parameters _w_ and _b_ "
      ]
    },
    {
      "cell_type": "code",
      "metadata": {
        "id": "i-2mL8fC3Cfr"
      },
      "source": [
        "def learn(w, b, X, Y, num_iterations,learning_rate, print_cost = False):\n",
        "    \n",
        "    for i in range(num_iterations):\n",
        "        # Cost and gradient calculation \n",
        "        dw,db, cost = propagate(w,b,X,Y)\n",
        "        \n",
        "        # update rule\n",
        "        w = w-learning_rate*dw\n",
        "        b = b-learning_rate*db\n",
        "\n",
        "        if print_cost and i % 100 == 0:\n",
        "            print (\"Cost after iteration %i: %f\" %(i, cost))\n",
        "    \n",
        "    \n",
        "    return w,b,dw,db\n"
      ],
      "execution_count": 11,
      "outputs": []
    },
    {
      "cell_type": "code",
      "metadata": {
        "id": "IX4KD3f53jDu",
        "outputId": "d2b63df3-a5e3-4966-f795-024bbd828c87",
        "colab": {
          "base_uri": "https://localhost:8080/",
          "height": 69
        }
      },
      "source": [
        "w,b,dw,db= learn(w, b, img_train, label_train, 1,0.01, True)\n",
        "print(w.shape)\n",
        "print(dw.shape)"
      ],
      "execution_count": 12,
      "outputs": [
        {
          "output_type": "stream",
          "text": [
            "Cost after iteration 0: 0.693147\n",
            "(3072, 1)\n",
            "(3072, 1)\n"
          ],
          "name": "stdout"
        }
      ]
    },
    {
      "cell_type": "markdown",
      "metadata": {
        "id": "JTfzufFAEIyo"
      },
      "source": [
        "## Prediction\n",
        "\n",
        "After we finish learning convert output >=0.5 to 1  (ship) and <0.5 to 0 (not ship)"
      ]
    },
    {
      "cell_type": "code",
      "metadata": {
        "id": "24YgreCj3Cf1"
      },
      "source": [
        "def predict(w, b, X):\n",
        "    \n",
        "    m = X.shape[0]\n",
        "    Y_prediction = np.zeros((m,1))\n",
        "    \n",
        "    # Compute vector \"Y_hat\" predicting\n",
        "    #    the probabilities of a ship being present in the picture\n",
        "    p_hat= sigmoid(np.dot(X,w)+b)   # compute activation\n",
        "\n",
        "\n",
        "    for i in range(p_hat.shape[0]):\n",
        "        \n",
        "        # Convert probabilities Y_hat[0,i] to actual predictions p[0,i]\n",
        "        if p_hat[i]>=0.5:\n",
        "            Y_prediction[i]=1\n",
        "        else:\n",
        "            Y_prediction[i]=0\n",
        "    \n",
        "\n",
        "    return Y_prediction\n"
      ],
      "execution_count": 18,
      "outputs": []
    },
    {
      "cell_type": "markdown",
      "metadata": {
        "id": "xMZ07QQnEZDN"
      },
      "source": [
        "## Main loop\n",
        "Define the number of iterations and learning_rate then call gradient descent. After performing num_iterations of gradient descent we predict the type of all images including the ones in the test set and compare with the given labels to gauge the accuracy of our prediction."
      ]
    },
    {
      "cell_type": "code",
      "metadata": {
        "tags": [],
        "id": "iCNQrbHd3Cf8",
        "outputId": "cfae10e7-bc08-437a-aa76-7386f62f6121",
        "colab": {
          "base_uri": "https://localhost:8080/",
          "height": 225
        }
      },
      "source": [
        "num_iterations = 1000\n",
        "learning_rate = 0.026\n",
        "print_cost = True\n",
        "# initialize parameters with zeros \n",
        "w, b = initialize(img_train.shape[1])\n",
        "\n",
        "# Gradient descent \n",
        "w,b,dw,db= learn(w, b, img_train, label_train, num_iterations, learning_rate, print_cost)\n"
      ],
      "execution_count": 19,
      "outputs": [
        {
          "output_type": "stream",
          "text": [
            "Cost after iteration 0: 0.693147\n",
            "Cost after iteration 100: 0.278183\n",
            "Cost after iteration 200: 0.274052\n",
            "Cost after iteration 300: 0.271784\n",
            "Cost after iteration 400: 0.269959\n",
            "Cost after iteration 500: 0.268390\n",
            "Cost after iteration 600: 0.266999\n",
            "Cost after iteration 700: 0.265740\n",
            "Cost after iteration 800: 0.264583\n",
            "Cost after iteration 900: 0.263509\n",
            "train accuracy:89.992\n",
            "test accuracy:89.82\n"
          ],
          "name": "stdout"
        }
      ]
    },
    {
      "cell_type": "code",
      "metadata": {
        "id": "N0DJBgdZOtlq",
        "outputId": "2b36c40d-25b0-4321-c83b-a1f140df22d5",
        "colab": {
          "base_uri": "https://localhost:8080/",
          "height": 51
        }
      },
      "source": [
        "\n",
        "\n",
        "# Predict test/train set examples\n",
        "\n",
        "\n",
        "Y_prediction_test = predict(w, b, img_test)\n",
        "Y_prediction_train = predict(w, b, img_train)\n",
        "\n",
        "# Print train/test Errors\n",
        "\n",
        "\n",
        "print(\"train accuracy:\"+str((100 - np.mean(np.abs(Y_prediction_train - label_train)) * 100)))\n",
        "print(\"test accuracy:\"+str((100 - np.mean(np.abs(Y_prediction_test - label_test)) * 100)))\n"
      ],
      "execution_count": 20,
      "outputs": [
        {
          "output_type": "stream",
          "text": [
            "train accuracy:89.992\n",
            "test accuracy:89.82\n"
          ],
          "name": "stdout"
        }
      ]
    },
    {
      "cell_type": "code",
      "metadata": {
        "id": "sUCWt5S33CgC"
      },
      "source": [
        ""
      ],
      "execution_count": 14,
      "outputs": []
    }
  ]
}